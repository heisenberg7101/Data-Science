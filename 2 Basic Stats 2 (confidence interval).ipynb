{
 "cells": [
  {
   "cell_type": "markdown",
   "id": "a6e2ad21",
   "metadata": {},
   "source": [
    "### Confidence Interval "
   ]
  },
  {
   "cell_type": "code",
   "execution_count": 1,
   "id": "c1a4b269",
   "metadata": {},
   "outputs": [],
   "source": [
    "import pandas as pd\n",
    "import numpy as np\n",
    "import matplotlib.pyplot as plt\n",
    "from scipy import stats"
   ]
  },
  {
   "cell_type": "code",
   "execution_count": 2,
   "id": "836fa7da",
   "metadata": {},
   "outputs": [],
   "source": [
    "l=[1.13,1.55,1.43,.92,1.25,1.36,1.32,0.85,1.07,1.48,1.20,1.33,1.18,1.22,1.29]"
   ]
  },
  {
   "cell_type": "code",
   "execution_count": 46,
   "id": "168a3c67",
   "metadata": {},
   "outputs": [
    {
     "name": "stderr",
     "output_type": "stream",
     "text": [
      "C:\\Users\\amrit\\anaconda3\\Lib\\site-packages\\seaborn\\axisgrid.py:118: UserWarning: The figure layout has changed to tight\n",
      "  self._figure.tight_layout(*args, **kwargs)\n"
     ]
    },
    {
     "data": {
      "text/plain": [
       "<seaborn.axisgrid.FacetGrid at 0x1d8d7b75f90>"
      ]
     },
     "execution_count": 46,
     "metadata": {},
     "output_type": "execute_result"
    },
    {
     "data": {
      "image/png": "[encoded data removed]",
      "text/plain": [
       "<Figure size 500x500 with 1 Axes>"
      ]
     },
     "metadata": {},
     "output_type": "display_data"
    }
   ],
   "source": [
    "sns.displot(l,kde=True)"
   ]
  },
  {
   "cell_type": "markdown",
   "id": "03644c58",
   "metadata": {},
   "source": [
    "Sample Mean "
   ]
  },
  {
   "cell_type": "code",
   "execution_count": 35,
   "id": "8d53620a",
   "metadata": {},
   "outputs": [
    {
     "data": {
      "text/plain": [
       "1.2386666666666666"
      ]
     },
     "execution_count": 35,
     "metadata": {},
     "output_type": "execute_result"
    }
   ],
   "source": [
    "np.mean(l)"
   ]
  },
  {
   "cell_type": "markdown",
   "id": "4a749181",
   "metadata": {},
   "source": [
    "Sample Standard Deviation"
   ]
  },
  {
   "cell_type": "code",
   "execution_count": 36,
   "id": "f038c8f0",
   "metadata": {},
   "outputs": [
    {
     "data": {
      "text/plain": [
       "0.18661427836285438"
      ]
     },
     "execution_count": 36,
     "metadata": {},
     "output_type": "execute_result"
    }
   ],
   "source": [
    "np.std(l)"
   ]
  },
  {
   "cell_type": "markdown",
   "id": "61f9a9ec",
   "metadata": {},
   "source": [
    "Calculating Z value for 99% Confidence interval"
   ]
  },
  {
   "cell_type": "code",
   "execution_count": 3,
   "id": "39eced98",
   "metadata": {},
   "outputs": [
    {
     "data": {
      "text/plain": [
       "2.5758293035489004"
      ]
     },
     "execution_count": 3,
     "metadata": {},
     "output_type": "execute_result"
    }
   ],
   "source": [
    "stats.norm.ppf(.995)"
   ]
  },
  {
   "cell_type": "code",
   "execution_count": 4,
   "id": "8dde7507",
   "metadata": {},
   "outputs": [
    {
     "data": {
      "text/plain": [
       "2.575829303548901"
      ]
     },
     "execution_count": 4,
     "metadata": {},
     "output_type": "execute_result"
    }
   ],
   "source": [
    "stats.norm.isf(.005)"
   ]
  },
  {
   "cell_type": "markdown",
   "id": "c5adeebc",
   "metadata": {},
   "source": [
    "## Assignment Task B"
   ]
  },
  {
   "cell_type": "markdown",
   "id": "7a6d2c40",
   "metadata": {},
   "source": [
    "Calculating Confidence Interval Range with Known Population Standard Deviation (.22)"
   ]
  },
  {
   "cell_type": "code",
   "execution_count": 47,
   "id": "2083f07a",
   "metadata": {},
   "outputs": [
    {
     "data": {
      "text/plain": [
       "(1.0923498880686702, 1.384983445264663)"
      ]
     },
     "execution_count": 47,
     "metadata": {},
     "output_type": "execute_result"
    }
   ],
   "source": [
    "stats.norm.interval(.99,1.2386666666666666,(0.22)/np.sqrt(15))"
   ]
  },
  {
   "cell_type": "code",
   "execution_count": 48,
   "id": "293b8e11",
   "metadata": {},
   "outputs": [
    {
     "data": {
      "text/plain": [
       "1.384983445264663"
      ]
     },
     "execution_count": 48,
     "metadata": {},
     "output_type": "execute_result"
    }
   ],
   "source": [
    "1.2386666666666666+(((0.22)/np.sqrt(15))*2.5758293035489004)"
   ]
  },
  {
   "cell_type": "code",
   "execution_count": 49,
   "id": "a179c79e",
   "metadata": {},
   "outputs": [
    {
     "data": {
      "text/plain": [
       "1.0923498880686702"
      ]
     },
     "execution_count": 49,
     "metadata": {},
     "output_type": "execute_result"
    }
   ],
   "source": [
    "1.2386666666666666-(((0.22)/np.sqrt(15))*2.5758293035489004)"
   ]
  },
  {
   "cell_type": "markdown",
   "id": "da6608c8",
   "metadata": {},
   "source": [
    "## Assignment Task A"
   ]
  },
  {
   "cell_type": "markdown",
   "id": "58c69cca",
   "metadata": {},
   "source": [
    "### Calculating Confidence Interval Range with Sample Standard Deviation \n",
    "\n",
    "Since the sample size is 15 (Less than 30 ) and Population Mean is Unknown , We are using T distribution for this Task ."
   ]
  },
  {
   "cell_type": "code",
   "execution_count": 50,
   "id": "251ae88c",
   "metadata": {},
   "outputs": [
    {
     "data": {
      "text/plain": [
       "2.624494067560231"
      ]
     },
     "execution_count": 50,
     "metadata": {},
     "output_type": "execute_result"
    }
   ],
   "source": [
    "stats.t.ppf(.99,14)  # 14 since degree of Freedom = Sample size-1"
   ]
  },
  {
   "cell_type": "code",
   "execution_count": 53,
   "id": "8322be3b",
   "metadata": {},
   "outputs": [
    {
     "data": {
      "text/plain": [
       "(1.0952316686385626, 1.3821016646947706)"
      ]
     },
     "execution_count": 53,
     "metadata": {},
     "output_type": "execute_result"
    }
   ],
   "source": [
    "stats.t.interval(.99,14,1.2386666666666666,(0.18661427836285438)/np.sqrt(15))"
   ]
  },
  {
   "cell_type": "markdown",
   "id": "97102276",
   "metadata": {},
   "source": [
    "Confidence Interval of 99% found with T distribution is :(1.0952316686385626, 1.3821016646947706)"
   ]
  },
  {
   "cell_type": "code",
   "execution_count": null,
   "id": "a29cd80d",
   "metadata": {},
   "outputs": [],
   "source": []
  }
 ],
 "metadata": {
  "kernelspec": {
   "display_name": "Python 3 (ipykernel)",
   "language": "python",
   "name": "python3"
  },
  "language_info": {
   "codemirror_mode": {
    "name": "ipython",
    "version": 3
   },
   "file_extension": ".py",
   "mimetype": "text/x-python",
   "name": "python",
   "nbconvert_exporter": "python",
   "pygments_lexer": "ipython3",
   "version": "3.11.5"
  }
 },
 "nbformat": 4,
 "nbformat_minor": 5
}
