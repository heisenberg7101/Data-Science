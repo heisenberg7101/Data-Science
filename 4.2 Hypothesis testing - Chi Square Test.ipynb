{
 "cells": [
  {
   "cell_type": "markdown",
   "id": "29ebfa9a",
   "metadata": {},
   "source": [
    "#### Hypothesis:\n",
    "H0 = There is no significant relation between type of Product purchased and customer satisfaction.(ie they are they are independant)\n",
    "H1=There is significant relation between type of Product purchased and customer satisfaction ((ie they are they are dependant)"
   ]
  },
  {
   "cell_type": "code",
   "execution_count": 16,
   "id": "0f42cafc",
   "metadata": {},
   "outputs": [],
   "source": [
    "l=[[50,70],[80,100],[60,90],[30,50],[20,50]]"
   ]
  },
  {
   "cell_type": "markdown",
   "id": "a7da128a",
   "metadata": {},
   "source": [
    "#### Computhing Chi Square"
   ]
  },
  {
   "cell_type": "code",
   "execution_count": 17,
   "id": "610ddae7",
   "metadata": {},
   "outputs": [],
   "source": [
    "from scipy import stats #import chi2_contingency"
   ]
  },
  {
   "cell_type": "code",
   "execution_count": 18,
   "id": "903889a6",
   "metadata": {},
   "outputs": [],
   "source": [
    "stat,p,dof,exp=stats.chi2_contingency(l)"
   ]
  },
  {
   "cell_type": "code",
   "execution_count": 19,
   "id": "ce073b50",
   "metadata": {},
   "outputs": [
    {
     "data": {
      "text/plain": [
       "(5.638227513227513,\n",
       " 0.22784371130697179,\n",
       " 4,\n",
       " array([[ 48.,  72.],\n",
       "        [ 72., 108.],\n",
       "        [ 60.,  90.],\n",
       "        [ 32.,  48.],\n",
       "        [ 28.,  42.]]))"
      ]
     },
     "execution_count": 19,
     "metadata": {},
     "output_type": "execute_result"
    }
   ],
   "source": [
    "stat,p,dof,exp"
   ]
  },
  {
   "cell_type": "markdown",
   "id": "29ee3135",
   "metadata": {},
   "source": [
    "stats= statistic value ,\n",
    "p= critical /probability value  ,\n",
    "dof= degree of freedom = (no of rows-1)*(no of columns-1)  ,\n",
    "exp= expected frequency"
   ]
  },
  {
   "cell_type": "code",
   "execution_count": 23,
   "id": "60752ce0",
   "metadata": {},
   "outputs": [],
   "source": [
    "alpha=.05"
   ]
  },
  {
   "cell_type": "code",
   "execution_count": 24,
   "id": "b73871cd",
   "metadata": {},
   "outputs": [
    {
     "data": {
      "text/plain": [
       "0.22784371130697179"
      ]
     },
     "execution_count": 24,
     "metadata": {},
     "output_type": "execute_result"
    }
   ],
   "source": [
    "p"
   ]
  },
  {
   "cell_type": "markdown",
   "id": "a25f0154",
   "metadata": {},
   "source": [
    "#### Since p>alpha \n",
    "\n",
    "We can conclude Null Hypothesis is valid ie no significant relation between type of Product purchased and customer satisfaction level"
   ]
  }
 ],
 "metadata": {
  "kernelspec": {
   "display_name": "Python 3 (ipykernel)",
   "language": "python",
   "name": "python3"
  },
  "language_info": {
   "codemirror_mode": {
    "name": "ipython",
    "version": 3
   },
   "file_extension": ".py",
   "mimetype": "text/x-python",
   "name": "python",
   "nbconvert_exporter": "python",
   "pygments_lexer": "ipython3",
   "version": "3.11.5"
  }
 },
 "nbformat": 4,
 "nbformat_minor": 5
}
