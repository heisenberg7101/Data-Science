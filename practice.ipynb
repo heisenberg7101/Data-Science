{
 "cells": [
  {
   "cell_type": "code",
   "execution_count": 2,
   "id": "92850479",
   "metadata": {},
   "outputs": [],
   "source": [
    "import numpy as np\n",
    "from scipy import stats"
   ]
  },
  {
   "cell_type": "code",
   "execution_count": 3,
   "id": "40b433ad",
   "metadata": {},
   "outputs": [
    {
     "data": {
      "text/plain": [
       "1.6643714090726742"
      ]
     },
     "execution_count": 3,
     "metadata": {},
     "output_type": "execute_result"
    }
   ],
   "source": [
    "stats.t.ppf(.95,79)"
   ]
  },
  {
   "cell_type": "code",
   "execution_count": 4,
   "id": "f980d34b",
   "metadata": {},
   "outputs": [
    {
     "data": {
      "text/plain": [
       "4.47213595499958"
      ]
     },
     "execution_count": 4,
     "metadata": {},
     "output_type": "execute_result"
    }
   ],
   "source": [
    "40/(np.sqrt(80))"
   ]
  },
  {
   "cell_type": "code",
   "execution_count": 5,
   "id": "3678ce84",
   "metadata": {},
   "outputs": [
    {
     "data": {
      "text/plain": [
       "2.23606797749979"
      ]
     },
     "execution_count": 5,
     "metadata": {},
     "output_type": "execute_result"
    }
   ],
   "source": [
    "10/4.47213595499958"
   ]
  },
  {
   "cell_type": "code",
   "execution_count": 6,
   "id": "d872b784",
   "metadata": {},
   "outputs": [
    {
     "data": {
      "text/plain": [
       "1.0"
      ]
     },
     "execution_count": 6,
     "metadata": {},
     "output_type": "execute_result"
    }
   ],
   "source": [
    "stats.t.cdf(130,120,40)"
   ]
  },
  {
   "cell_type": "code",
   "execution_count": 23,
   "id": "18d83baf",
   "metadata": {},
   "outputs": [],
   "source": [
    "x=[.593,.142,.329,.691,.231,.793,.519,.392,.418]"
   ]
  },
  {
   "cell_type": "code",
   "execution_count": 25,
   "id": "b85e1de0",
   "metadata": {},
   "outputs": [
    {
     "data": {
      "text/plain": [
       "0.45644444444444443"
      ]
     },
     "execution_count": 25,
     "metadata": {},
     "output_type": "execute_result"
    }
   ],
   "source": [
    "np.mean(x)"
   ]
  },
  {
   "cell_type": "code",
   "execution_count": 26,
   "id": "6e9d70e0",
   "metadata": {},
   "outputs": [
    {
     "data": {
      "text/plain": [
       "0.2006711578185737"
      ]
     },
     "execution_count": 26,
     "metadata": {},
     "output_type": "execute_result"
    }
   ],
   "source": [
    "np.std(x)"
   ]
  },
  {
   "cell_type": "code",
   "execution_count": 31,
   "id": "e903cae3",
   "metadata": {},
   "outputs": [],
   "source": [
    "n=9"
   ]
  },
  {
   "cell_type": "code",
   "execution_count": 32,
   "id": "6ede48a6",
   "metadata": {},
   "outputs": [],
   "source": [
    "mean2=.3"
   ]
  },
  {
   "cell_type": "markdown",
   "id": "2ce2fa28",
   "metadata": {},
   "source": [
    "Ho: mu > .3  \n",
    "h1: mu < .3"
   ]
  },
  {
   "cell_type": "code",
   "execution_count": 33,
   "id": "396722ea",
   "metadata": {},
   "outputs": [],
   "source": [
    "t=((0.45644444444444443-.3)/0.2006711578185737)*np.sqrt(9)"
   ]
  },
  {
   "cell_type": "code",
   "execution_count": 34,
   "id": "b519e175",
   "metadata": {},
   "outputs": [
    {
     "data": {
      "text/plain": [
       "2.338818086441981"
      ]
     },
     "execution_count": 34,
     "metadata": {},
     "output_type": "execute_result"
    }
   ],
   "source": [
    "t"
   ]
  },
  {
   "cell_type": "code",
   "execution_count": 35,
   "id": "29dcb70d",
   "metadata": {},
   "outputs": [
    {
     "data": {
      "text/plain": [
       "0.9762483732447896"
      ]
     },
     "execution_count": 35,
     "metadata": {},
     "output_type": "execute_result"
    }
   ],
   "source": [
    "stats.t.cdf(2.338818086441981,8)"
   ]
  },
  {
   "cell_type": "code",
   "execution_count": 36,
   "id": "1a592887",
   "metadata": {},
   "outputs": [
    {
     "data": {
      "text/plain": [
       "0.023751626755210364"
      ]
     },
     "execution_count": 36,
     "metadata": {},
     "output_type": "execute_result"
    }
   ],
   "source": [
    "1-0.9762483732447896"
   ]
  },
  {
   "cell_type": "markdown",
   "id": "6a5daea6",
   "metadata": {},
   "source": [
    "P<Alpla\n",
    "Null hypothesis is rejected         "
   ]
  },
  {
   "cell_type": "code",
   "execution_count": null,
   "id": "0a7d40e7",
   "metadata": {},
   "outputs": [],
   "source": []
  }
 ],
 "metadata": {
  "kernelspec": {
   "display_name": "Python 3 (ipykernel)",
   "language": "python",
   "name": "python3"
  },
  "language_info": {
   "codemirror_mode": {
    "name": "ipython",
    "version": 3
   },
   "file_extension": ".py",
   "mimetype": "text/x-python",
   "name": "python",
   "nbconvert_exporter": "python",
   "pygments_lexer": "ipython3",
   "version": "3.11.5"
  }
 },
 "nbformat": 4,
 "nbformat_minor": 5
}
