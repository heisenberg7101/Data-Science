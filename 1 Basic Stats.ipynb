{
 "cells": [
  {
   "cell_type": "markdown",
   "id": "c7c575de",
   "metadata": {},
   "source": [
    "# Basic Statistics"
   ]
  },
  {
   "cell_type": "markdown",
   "id": "2c7702a7",
   "metadata": {},
   "source": [
    "Importing Packages"
   ]
  },
  {
   "cell_type": "code",
   "execution_count": 3,
   "id": "6e9626e1",
   "metadata": {},
   "outputs": [],
   "source": [
    "import pandas as pd\n",
    "import numpy as np\n",
    "import matplotlib.pyplot as plt\n",
    "import statistics as stat\n",
    "import seaborn as sns\n",
    "from scipy import stats"
   ]
  },
  {
   "cell_type": "markdown",
   "id": "e9d2e41f",
   "metadata": {},
   "source": [
    "Reading Excel file"
   ]
  },
  {
   "cell_type": "code",
   "execution_count": 4,
   "id": "300ffc20",
   "metadata": {},
   "outputs": [],
   "source": [
    "data=pd.read_csv('sales_data_with_discounts.csv')"
   ]
  },
  {
   "cell_type": "code",
   "execution_count": 5,
   "id": "89099c34",
   "metadata": {},
   "outputs": [
    {
     "data": {
      "text/html": [
       "<div>\n",
       "<style scoped>\n",
       "    .dataframe tbody tr th:only-of-type {\n",
       "        vertical-align: middle;\n",
       "    }\n",
       "\n",
       "    .dataframe tbody tr th {\n",
       "        vertical-align: top;\n",
       "    }\n",
       "\n",
       "    .dataframe thead th {\n",
       "        text-align: right;\n",
       "    }\n",
       "</style>\n",
       "<table border=\"1\" class=\"dataframe\">\n",
       "  <thead>\n",
       "    <tr style=\"text-align: right;\">\n",
       "      <th></th>\n",
       "      <th>Date</th>\n",
       "      <th>Day</th>\n",
       "      <th>SKU</th>\n",
       "      <th>City</th>\n",
       "      <th>Volume</th>\n",
       "      <th>BU</th>\n",
       "      <th>Brand</th>\n",
       "      <th>Model</th>\n",
       "      <th>Avg Price</th>\n",
       "      <th>Total Sales Value</th>\n",
       "      <th>Discount Rate (%)</th>\n",
       "      <th>Discount Amount</th>\n",
       "      <th>Net Sales Value</th>\n",
       "    </tr>\n",
       "  </thead>\n",
       "  <tbody>\n",
       "    <tr>\n",
       "      <th>0</th>\n",
       "      <td>01-04-2021</td>\n",
       "      <td>Thursday</td>\n",
       "      <td>M01</td>\n",
       "      <td>C</td>\n",
       "      <td>15</td>\n",
       "      <td>Mobiles</td>\n",
       "      <td>RealU</td>\n",
       "      <td>RU-10</td>\n",
       "      <td>12100</td>\n",
       "      <td>181500</td>\n",
       "      <td>11.654820</td>\n",
       "      <td>21153.498820</td>\n",
       "      <td>160346.501180</td>\n",
       "    </tr>\n",
       "    <tr>\n",
       "      <th>1</th>\n",
       "      <td>01-04-2021</td>\n",
       "      <td>Thursday</td>\n",
       "      <td>M02</td>\n",
       "      <td>C</td>\n",
       "      <td>10</td>\n",
       "      <td>Mobiles</td>\n",
       "      <td>RealU</td>\n",
       "      <td>RU-9 Plus</td>\n",
       "      <td>10100</td>\n",
       "      <td>101000</td>\n",
       "      <td>11.560498</td>\n",
       "      <td>11676.102961</td>\n",
       "      <td>89323.897039</td>\n",
       "    </tr>\n",
       "    <tr>\n",
       "      <th>2</th>\n",
       "      <td>01-04-2021</td>\n",
       "      <td>Thursday</td>\n",
       "      <td>M03</td>\n",
       "      <td>C</td>\n",
       "      <td>7</td>\n",
       "      <td>Mobiles</td>\n",
       "      <td>YouM</td>\n",
       "      <td>YM-99</td>\n",
       "      <td>16100</td>\n",
       "      <td>112700</td>\n",
       "      <td>9.456886</td>\n",
       "      <td>10657.910157</td>\n",
       "      <td>102042.089843</td>\n",
       "    </tr>\n",
       "    <tr>\n",
       "      <th>3</th>\n",
       "      <td>01-04-2021</td>\n",
       "      <td>Thursday</td>\n",
       "      <td>M04</td>\n",
       "      <td>C</td>\n",
       "      <td>6</td>\n",
       "      <td>Mobiles</td>\n",
       "      <td>YouM</td>\n",
       "      <td>YM-99 Plus</td>\n",
       "      <td>20100</td>\n",
       "      <td>120600</td>\n",
       "      <td>6.935385</td>\n",
       "      <td>8364.074702</td>\n",
       "      <td>112235.925298</td>\n",
       "    </tr>\n",
       "    <tr>\n",
       "      <th>4</th>\n",
       "      <td>01-04-2021</td>\n",
       "      <td>Thursday</td>\n",
       "      <td>M05</td>\n",
       "      <td>C</td>\n",
       "      <td>3</td>\n",
       "      <td>Mobiles</td>\n",
       "      <td>YouM</td>\n",
       "      <td>YM-98</td>\n",
       "      <td>8100</td>\n",
       "      <td>24300</td>\n",
       "      <td>17.995663</td>\n",
       "      <td>4372.946230</td>\n",
       "      <td>19927.053770</td>\n",
       "    </tr>\n",
       "    <tr>\n",
       "      <th>...</th>\n",
       "      <td>...</td>\n",
       "      <td>...</td>\n",
       "      <td>...</td>\n",
       "      <td>...</td>\n",
       "      <td>...</td>\n",
       "      <td>...</td>\n",
       "      <td>...</td>\n",
       "      <td>...</td>\n",
       "      <td>...</td>\n",
       "      <td>...</td>\n",
       "      <td>...</td>\n",
       "      <td>...</td>\n",
       "      <td>...</td>\n",
       "    </tr>\n",
       "    <tr>\n",
       "      <th>445</th>\n",
       "      <td>15-04-2021</td>\n",
       "      <td>Thursday</td>\n",
       "      <td>L06</td>\n",
       "      <td>C</td>\n",
       "      <td>2</td>\n",
       "      <td>Lifestyle</td>\n",
       "      <td>Jeera</td>\n",
       "      <td>M-Casuals</td>\n",
       "      <td>1300</td>\n",
       "      <td>2600</td>\n",
       "      <td>15.475687</td>\n",
       "      <td>402.367873</td>\n",
       "      <td>2197.632127</td>\n",
       "    </tr>\n",
       "    <tr>\n",
       "      <th>446</th>\n",
       "      <td>15-04-2021</td>\n",
       "      <td>Thursday</td>\n",
       "      <td>L07</td>\n",
       "      <td>C</td>\n",
       "      <td>6</td>\n",
       "      <td>Lifestyle</td>\n",
       "      <td>Viva</td>\n",
       "      <td>W-Western</td>\n",
       "      <td>2600</td>\n",
       "      <td>15600</td>\n",
       "      <td>17.057027</td>\n",
       "      <td>2660.896242</td>\n",
       "      <td>12939.103758</td>\n",
       "    </tr>\n",
       "    <tr>\n",
       "      <th>447</th>\n",
       "      <td>15-04-2021</td>\n",
       "      <td>Thursday</td>\n",
       "      <td>L08</td>\n",
       "      <td>C</td>\n",
       "      <td>2</td>\n",
       "      <td>Lifestyle</td>\n",
       "      <td>Viva</td>\n",
       "      <td>W-Lounge</td>\n",
       "      <td>1600</td>\n",
       "      <td>3200</td>\n",
       "      <td>18.965550</td>\n",
       "      <td>606.897606</td>\n",
       "      <td>2593.102394</td>\n",
       "    </tr>\n",
       "    <tr>\n",
       "      <th>448</th>\n",
       "      <td>15-04-2021</td>\n",
       "      <td>Thursday</td>\n",
       "      <td>L09</td>\n",
       "      <td>C</td>\n",
       "      <td>3</td>\n",
       "      <td>Lifestyle</td>\n",
       "      <td>Jeera</td>\n",
       "      <td>M-Formals</td>\n",
       "      <td>1900</td>\n",
       "      <td>5700</td>\n",
       "      <td>16.793014</td>\n",
       "      <td>957.201826</td>\n",
       "      <td>4742.798174</td>\n",
       "    </tr>\n",
       "    <tr>\n",
       "      <th>449</th>\n",
       "      <td>15-04-2021</td>\n",
       "      <td>Thursday</td>\n",
       "      <td>L10</td>\n",
       "      <td>C</td>\n",
       "      <td>1</td>\n",
       "      <td>Lifestyle</td>\n",
       "      <td>Jeera</td>\n",
       "      <td>M-Shoes</td>\n",
       "      <td>3100</td>\n",
       "      <td>3100</td>\n",
       "      <td>15.333300</td>\n",
       "      <td>475.332295</td>\n",
       "      <td>2624.667705</td>\n",
       "    </tr>\n",
       "  </tbody>\n",
       "</table>\n",
       "<p>450 rows × 13 columns</p>\n",
       "</div>"
      ],
      "text/plain": [
       "           Date       Day  SKU City  Volume         BU  Brand       Model  \\\n",
       "0    01-04-2021  Thursday  M01    C      15    Mobiles  RealU       RU-10   \n",
       "1    01-04-2021  Thursday  M02    C      10    Mobiles  RealU   RU-9 Plus   \n",
       "2    01-04-2021  Thursday  M03    C       7    Mobiles   YouM       YM-99   \n",
       "3    01-04-2021  Thursday  M04    C       6    Mobiles   YouM  YM-99 Plus   \n",
       "4    01-04-2021  Thursday  M05    C       3    Mobiles   YouM      YM-98    \n",
       "..          ...       ...  ...  ...     ...        ...    ...         ...   \n",
       "445  15-04-2021  Thursday  L06    C       2  Lifestyle  Jeera   M-Casuals   \n",
       "446  15-04-2021  Thursday  L07    C       6  Lifestyle   Viva   W-Western   \n",
       "447  15-04-2021  Thursday  L08    C       2  Lifestyle   Viva    W-Lounge   \n",
       "448  15-04-2021  Thursday  L09    C       3  Lifestyle  Jeera   M-Formals   \n",
       "449  15-04-2021  Thursday  L10    C       1  Lifestyle  Jeera     M-Shoes   \n",
       "\n",
       "     Avg Price  Total Sales Value  Discount Rate (%)  Discount Amount  \\\n",
       "0        12100             181500          11.654820     21153.498820   \n",
       "1        10100             101000          11.560498     11676.102961   \n",
       "2        16100             112700           9.456886     10657.910157   \n",
       "3        20100             120600           6.935385      8364.074702   \n",
       "4         8100              24300          17.995663      4372.946230   \n",
       "..         ...                ...                ...              ...   \n",
       "445       1300               2600          15.475687       402.367873   \n",
       "446       2600              15600          17.057027      2660.896242   \n",
       "447       1600               3200          18.965550       606.897606   \n",
       "448       1900               5700          16.793014       957.201826   \n",
       "449       3100               3100          15.333300       475.332295   \n",
       "\n",
       "     Net Sales Value  \n",
       "0      160346.501180  \n",
       "1       89323.897039  \n",
       "2      102042.089843  \n",
       "3      112235.925298  \n",
       "4       19927.053770  \n",
       "..               ...  \n",
       "445      2197.632127  \n",
       "446     12939.103758  \n",
       "447      2593.102394  \n",
       "448      4742.798174  \n",
       "449      2624.667705  \n",
       "\n",
       "[450 rows x 13 columns]"
      ]
     },
     "execution_count": 5,
     "metadata": {},
     "output_type": "execute_result"
    }
   ],
   "source": [
    "frame=pd.DataFrame(data)\n",
    "frame"
   ]
  },
  {
   "cell_type": "markdown",
   "id": "2a6b1c7a",
   "metadata": {},
   "source": [
    "Data Frame created "
   ]
  },
  {
   "cell_type": "markdown",
   "id": "e74ad3da",
   "metadata": {},
   "source": [
    "### Descriptive Analysis of Numerical Columns"
   ]
  },
  {
   "cell_type": "code",
   "execution_count": 6,
   "id": "ae9fa0c6",
   "metadata": {},
   "outputs": [
    {
     "name": "stdout",
     "output_type": "stream",
     "text": [
      "<class 'pandas.core.frame.DataFrame'>\n",
      "RangeIndex: 450 entries, 0 to 449\n",
      "Data columns (total 13 columns):\n",
      " #   Column             Non-Null Count  Dtype  \n",
      "---  ------             --------------  -----  \n",
      " 0   Date               450 non-null    object \n",
      " 1   Day                450 non-null    object \n",
      " 2   SKU                450 non-null    object \n",
      " 3   City               450 non-null    object \n",
      " 4   Volume             450 non-null    int64  \n",
      " 5   BU                 450 non-null    object \n",
      " 6   Brand              450 non-null    object \n",
      " 7   Model              450 non-null    object \n",
      " 8   Avg Price          450 non-null    int64  \n",
      " 9   Total Sales Value  450 non-null    int64  \n",
      " 10  Discount Rate (%)  450 non-null    float64\n",
      " 11  Discount Amount    450 non-null    float64\n",
      " 12  Net Sales Value    450 non-null    float64\n",
      "dtypes: float64(3), int64(3), object(7)\n",
      "memory usage: 45.8+ KB\n"
     ]
    }
   ],
   "source": [
    "data.info()"
   ]
  },
  {
   "cell_type": "markdown",
   "id": "5df8f349",
   "metadata": {},
   "source": [
    "All columns have non-Null values"
   ]
  },
  {
   "cell_type": "code",
   "execution_count": 7,
   "id": "99d641e1",
   "metadata": {},
   "outputs": [
    {
     "data": {
      "text/plain": [
       "(450, 13)"
      ]
     },
     "execution_count": 7,
     "metadata": {},
     "output_type": "execute_result"
    }
   ],
   "source": [
    "data.shape"
   ]
  },
  {
   "cell_type": "code",
   "execution_count": 8,
   "id": "9a132a93",
   "metadata": {},
   "outputs": [
    {
     "data": {
      "text/plain": [
       "Index(['Date', 'Day', 'SKU', 'City', 'Volume', 'BU', 'Brand', 'Model',\n",
       "       'Avg Price', 'Total Sales Value', 'Discount Rate (%)',\n",
       "       'Discount Amount', 'Net Sales Value'],\n",
       "      dtype='object')"
      ]
     },
     "execution_count": 8,
     "metadata": {},
     "output_type": "execute_result"
    }
   ],
   "source": [
    "data.columns"
   ]
  },
  {
   "cell_type": "code",
   "execution_count": 9,
   "id": "3281cf37",
   "metadata": {},
   "outputs": [],
   "source": [
    "# data.rename(columns={'Discount Rate (%)':\"Discount Rate\"})"
   ]
  },
  {
   "cell_type": "markdown",
   "id": "2cbf3c51",
   "metadata": {},
   "source": [
    "#### Calculating Column Mean, Median ,Mode and Standard Devition"
   ]
  },
  {
   "cell_type": "code",
   "execution_count": 12,
   "id": "45833bcd",
   "metadata": {},
   "outputs": [
    {
     "data": {
      "text/html": [
       "<div>\n",
       "<style scoped>\n",
       "    .dataframe tbody tr th:only-of-type {\n",
       "        vertical-align: middle;\n",
       "    }\n",
       "\n",
       "    .dataframe tbody tr th {\n",
       "        vertical-align: top;\n",
       "    }\n",
       "\n",
       "    .dataframe thead th {\n",
       "        text-align: right;\n",
       "    }\n",
       "</style>\n",
       "<table border=\"1\" class=\"dataframe\">\n",
       "  <thead>\n",
       "    <tr style=\"text-align: right;\">\n",
       "      <th></th>\n",
       "      <th>Volume</th>\n",
       "      <th>Avg Price</th>\n",
       "      <th>Total Sales Value</th>\n",
       "      <th>Discount Rate (%)</th>\n",
       "      <th>Discount Amount</th>\n",
       "      <th>Net Sales Value</th>\n",
       "    </tr>\n",
       "  </thead>\n",
       "  <tbody>\n",
       "    <tr>\n",
       "      <th>count</th>\n",
       "      <td>450.000000</td>\n",
       "      <td>450.000000</td>\n",
       "      <td>450.000000</td>\n",
       "      <td>450.000000</td>\n",
       "      <td>450.000000</td>\n",
       "      <td>450.000000</td>\n",
       "    </tr>\n",
       "    <tr>\n",
       "      <th>mean</th>\n",
       "      <td>5.066667</td>\n",
       "      <td>10453.433333</td>\n",
       "      <td>33812.835556</td>\n",
       "      <td>15.155242</td>\n",
       "      <td>3346.499424</td>\n",
       "      <td>30466.336131</td>\n",
       "    </tr>\n",
       "    <tr>\n",
       "      <th>std</th>\n",
       "      <td>4.231602</td>\n",
       "      <td>18079.904840</td>\n",
       "      <td>50535.074173</td>\n",
       "      <td>4.220602</td>\n",
       "      <td>4509.902963</td>\n",
       "      <td>46358.656624</td>\n",
       "    </tr>\n",
       "    <tr>\n",
       "      <th>min</th>\n",
       "      <td>1.000000</td>\n",
       "      <td>290.000000</td>\n",
       "      <td>400.000000</td>\n",
       "      <td>5.007822</td>\n",
       "      <td>69.177942</td>\n",
       "      <td>326.974801</td>\n",
       "    </tr>\n",
       "    <tr>\n",
       "      <th>25%</th>\n",
       "      <td>3.000000</td>\n",
       "      <td>465.000000</td>\n",
       "      <td>2700.000000</td>\n",
       "      <td>13.965063</td>\n",
       "      <td>460.459304</td>\n",
       "      <td>2202.208645</td>\n",
       "    </tr>\n",
       "    <tr>\n",
       "      <th>50%</th>\n",
       "      <td>4.000000</td>\n",
       "      <td>1450.000000</td>\n",
       "      <td>5700.000000</td>\n",
       "      <td>16.577766</td>\n",
       "      <td>988.933733</td>\n",
       "      <td>4677.788059</td>\n",
       "    </tr>\n",
       "    <tr>\n",
       "      <th>75%</th>\n",
       "      <td>6.000000</td>\n",
       "      <td>10100.000000</td>\n",
       "      <td>53200.000000</td>\n",
       "      <td>18.114718</td>\n",
       "      <td>5316.495427</td>\n",
       "      <td>47847.912852</td>\n",
       "    </tr>\n",
       "    <tr>\n",
       "      <th>max</th>\n",
       "      <td>31.000000</td>\n",
       "      <td>60100.000000</td>\n",
       "      <td>196400.000000</td>\n",
       "      <td>19.992407</td>\n",
       "      <td>25738.022194</td>\n",
       "      <td>179507.479049</td>\n",
       "    </tr>\n",
       "  </tbody>\n",
       "</table>\n",
       "</div>"
      ],
      "text/plain": [
       "           Volume     Avg Price  Total Sales Value  Discount Rate (%)  \\\n",
       "count  450.000000    450.000000         450.000000         450.000000   \n",
       "mean     5.066667  10453.433333       33812.835556          15.155242   \n",
       "std      4.231602  18079.904840       50535.074173           4.220602   \n",
       "min      1.000000    290.000000         400.000000           5.007822   \n",
       "25%      3.000000    465.000000        2700.000000          13.965063   \n",
       "50%      4.000000   1450.000000        5700.000000          16.577766   \n",
       "75%      6.000000  10100.000000       53200.000000          18.114718   \n",
       "max     31.000000  60100.000000      196400.000000          19.992407   \n",
       "\n",
       "       Discount Amount  Net Sales Value  \n",
       "count       450.000000       450.000000  \n",
       "mean       3346.499424     30466.336131  \n",
       "std        4509.902963     46358.656624  \n",
       "min          69.177942       326.974801  \n",
       "25%         460.459304      2202.208645  \n",
       "50%         988.933733      4677.788059  \n",
       "75%        5316.495427     47847.912852  \n",
       "max       25738.022194    179507.479049  "
      ]
     },
     "execution_count": 12,
     "metadata": {},
     "output_type": "execute_result"
    }
   ],
   "source": [
    "data.describe()"
   ]
  },
  {
   "cell_type": "markdown",
   "id": "a6b3f8c4",
   "metadata": {},
   "source": [
    "## Volume Column ( Type Numerical  and Continuous) \n",
    "##### mean , median , mode Standard deviation , box plot , histogram and z score transformation"
   ]
  },
  {
   "cell_type": "code",
   "execution_count": 11,
   "id": "96a6f77f",
   "metadata": {},
   "outputs": [
    {
     "data": {
      "text/plain": [
       "4.0"
      ]
     },
     "execution_count": 11,
     "metadata": {},
     "output_type": "execute_result"
    }
   ],
   "source": [
    "data[\"Volume\"].median()"
   ]
  },
  {
   "cell_type": "code",
   "execution_count": 315,
   "id": "1cb8717b",
   "metadata": {},
   "outputs": [
    {
     "data": {
      "text/plain": [
       "5.066666666666666"
      ]
     },
     "execution_count": 315,
     "metadata": {},
     "output_type": "execute_result"
    }
   ],
   "source": [
    "data[\"Volume\"].mean()"
   ]
  },
  {
   "cell_type": "code",
   "execution_count": 13,
   "id": "8f6a7cdf",
   "metadata": {},
   "outputs": [
    {
     "data": {
      "text/plain": [
       "3"
      ]
     },
     "execution_count": 13,
     "metadata": {},
     "output_type": "execute_result"
    }
   ],
   "source": [
    "stat.mode(data[\"Volume\"])"
   ]
  },
  {
   "cell_type": "code",
   "execution_count": 14,
   "id": "6dd37378",
   "metadata": {},
   "outputs": [
    {
     "data": {
      "text/plain": [
       "Volume\n",
       "3     110\n",
       "2      76\n",
       "4      61\n",
       "6      38\n",
       "5      38\n",
       "7      32\n",
       "1      27\n",
       "12     10\n",
       "11      9\n",
       "9       9\n",
       "8       8\n",
       "10      7\n",
       "15      6\n",
       "14      5\n",
       "13      4\n",
       "29      2\n",
       "24      2\n",
       "22      2\n",
       "25      1\n",
       "31      1\n",
       "16      1\n",
       "17      1\n",
       "Name: count, dtype: int64"
      ]
     },
     "execution_count": 14,
     "metadata": {},
     "output_type": "execute_result"
    }
   ],
   "source": [
    "data[\"Volume\"].value_counts()"
   ]
  },
  {
   "cell_type": "markdown",
   "id": "c00527d6",
   "metadata": {},
   "source": [
    "We can confirm Values only has single Mode : 3"
   ]
  },
  {
   "cell_type": "code",
   "execution_count": 15,
   "id": "cbe9c93d",
   "metadata": {},
   "outputs": [
    {
     "data": {
      "text/plain": [
       "4.231602391213926"
      ]
     },
     "execution_count": 15,
     "metadata": {},
     "output_type": "execute_result"
    }
   ],
   "source": [
    "data[\"Volume\"].std()"
   ]
  },
  {
   "cell_type": "code",
   "execution_count": 16,
   "id": "025ff1e6",
   "metadata": {},
   "outputs": [],
   "source": [
    "def z_score(x,mean,sd):      # function to calculate Z score\n",
    "    return (x-mean)/sd\n",
    "\n",
    " \n"
   ]
  },
  {
   "cell_type": "code",
   "execution_count": 17,
   "id": "87bdab73",
   "metadata": {},
   "outputs": [
    {
     "data": {
      "text/plain": [
       "0      15\n",
       "1      10\n",
       "2       7\n",
       "3       6\n",
       "4       3\n",
       "       ..\n",
       "445     2\n",
       "446     6\n",
       "447     2\n",
       "448     3\n",
       "449     1\n",
       "Name: Volume, Length: 450, dtype: int64"
      ]
     },
     "execution_count": 17,
     "metadata": {},
     "output_type": "execute_result"
    }
   ],
   "source": [
    "xc=[]\n",
    "data['Volume']"
   ]
  },
  {
   "cell_type": "code",
   "execution_count": 18,
   "id": "3c99d33e",
   "metadata": {},
   "outputs": [],
   "source": [
    "for values in data['Volume']:\n",
    "    x=z_score(values,5.066666666666666,4.231602391213926)  # mean , sd\n",
    "    xc.append(x)"
   ]
  },
  {
   "cell_type": "code",
   "execution_count": 19,
   "id": "7ae91eec",
   "metadata": {},
   "outputs": [
    {
     "data": {
      "text/plain": [
       "450"
      ]
     },
     "execution_count": 19,
     "metadata": {},
     "output_type": "execute_result"
    }
   ],
   "source": [
    "# Z_Transformed_Volume=pd.DataFrame(l)\n",
    "len(xc)"
   ]
  },
  {
   "cell_type": "markdown",
   "id": "456558d1",
   "metadata": {},
   "source": [
    "### Plotting Box Plot"
   ]
  },
  {
   "cell_type": "code",
   "execution_count": 20,
   "id": "c279094f",
   "metadata": {},
   "outputs": [
    {
     "data": {
      "text/plain": [
       "{'whiskers': [<matplotlib.lines.Line2D at 0x184c4c3aad0>,\n",
       "  <matplotlib.lines.Line2D at 0x184c4c3b950>],\n",
       " 'caps': [<matplotlib.lines.Line2D at 0x184c4b76a50>,\n",
       "  <matplotlib.lines.Line2D at 0x184c4c49310>],\n",
       " 'boxes': [<matplotlib.lines.Line2D at 0x184c4c39890>],\n",
       " 'medians': [<matplotlib.lines.Line2D at 0x184c4c49f10>],\n",
       " 'fliers': [<matplotlib.lines.Line2D at 0x184c4c4a950>],\n",
       " 'means': []}"
      ]
     },
     "execution_count": 20,
     "metadata": {},
     "output_type": "execute_result"
    },
    {
     "data": {
      "image/png": "[encoded data removed]",
      "text/plain": [
       "<Figure size 640x480 with 1 Axes>"
      ]
     },
     "metadata": {},
     "output_type": "display_data"
    }
   ],
   "source": [
    "plt.boxplot(data[\"Volume\"], vert=False)"
   ]
  },
  {
   "cell_type": "markdown",
   "id": "af47b53b",
   "metadata": {},
   "source": [
    "Interquartile Range for Volume"
   ]
  },
  {
   "cell_type": "code",
   "execution_count": 21,
   "id": "0a61c7b0",
   "metadata": {},
   "outputs": [
    {
     "data": {
      "text/plain": [
       "3.0"
      ]
     },
     "execution_count": 21,
     "metadata": {},
     "output_type": "execute_result"
    }
   ],
   "source": [
    "6.000000-3.000000      # from Describe tab q3= 75% , q1=25%"
   ]
  },
  {
   "cell_type": "markdown",
   "id": "427f9c24",
   "metadata": {},
   "source": [
    " IQR is 3 "
   ]
  },
  {
   "cell_type": "markdown",
   "id": "89fc01d7",
   "metadata": {},
   "source": [
    "### Plotting Histogram"
   ]
  },
  {
   "cell_type": "code",
   "execution_count": 22,
   "id": "dc201bfd",
   "metadata": {},
   "outputs": [
    {
     "data": {
      "text/plain": [
       "(array([  0.,  27.,  76., 110.,  61.,  38.,  38.,  32.,   8.,   9.,   7.,\n",
       "          9.,  10.,   4.,   5.,   6.,   1.,   1.,   0.,   0.,   0.]),\n",
       " array([ 0.,  1.,  2.,  3.,  4.,  5.,  6.,  7.,  8.,  9., 10., 11., 12.,\n",
       "        13., 14., 15., 16., 17., 18., 19., 20., 21.]),\n",
       " <BarContainer object of 21 artists>)"
      ]
     },
     "execution_count": 22,
     "metadata": {},
     "output_type": "execute_result"
    },
    {
     "data": {
      "image/png": "[encoded data removed]",
      "text/plain": [
       "<Figure size 640x480 with 1 Axes>"
      ]
     },
     "metadata": {},
     "output_type": "display_data"
    }
   ],
   "source": [
    "axis = np.arange(0,22,1)\n",
    "plt.hist(data['Volume'],axis,color='red')"
   ]
  },
  {
   "cell_type": "markdown",
   "id": "0dbbbee7",
   "metadata": {},
   "source": [
    "Z transformed Hist Plot"
   ]
  },
  {
   "cell_type": "code",
   "execution_count": 23,
   "id": "ccf7ae5b",
   "metadata": {},
   "outputs": [
    {
     "data": {
      "text/plain": [
       "(array([213., 137.,  49.,  26.,  15.,   2.,   0.,   4.,   1.,   3.]),\n",
       " array([-0.96102287, -0.25207157,  0.45687972,  1.16583102,  1.87478232,\n",
       "         2.58373361,  3.29268491,  4.0016362 ,  4.7105875 ,  5.4195388 ,\n",
       "         6.12849009]),\n",
       " <BarContainer object of 10 artists>)"
      ]
     },
     "execution_count": 23,
     "metadata": {},
     "output_type": "execute_result"
    },
    {
     "data": {
      "image/png": "[encoded data removed]",
      "text/plain": [
       "<Figure size 640x480 with 1 Axes>"
      ]
     },
     "metadata": {},
     "output_type": "display_data"
    }
   ],
   "source": [
    "\n",
    "plt.hist(xc)"
   ]
  },
  {
   "cell_type": "markdown",
   "id": "1a868eb2",
   "metadata": {},
   "source": [
    "From above Z Score transformed Volume data histogram , we can see there are for data points with Z score greater than 3 which clearly indicate outliers to the Right ."
   ]
  },
  {
   "cell_type": "code",
   "execution_count": 24,
   "id": "75584247",
   "metadata": {},
   "outputs": [
    {
     "data": {
      "text/plain": [
       "10.258547145181762"
      ]
     },
     "execution_count": 24,
     "metadata": {},
     "output_type": "execute_result"
    }
   ],
   "source": [
    "data[\"Volume\"].kurtosis()\n"
   ]
  },
  {
   "cell_type": "code",
   "execution_count": 25,
   "id": "89d5575d",
   "metadata": {},
   "outputs": [
    {
     "data": {
      "text/plain": [
       "2.731723626557714"
      ]
     },
     "execution_count": 25,
     "metadata": {},
     "output_type": "execute_result"
    }
   ],
   "source": [
    "data[\"Volume\"].skew()"
   ]
  },
  {
   "cell_type": "markdown",
   "id": "d36b24d2",
   "metadata": {},
   "source": [
    "Inference"
   ]
  },
  {
   "cell_type": "markdown",
   "id": "44eee8f2",
   "metadata": {},
   "source": [
    "Form the above Histogram and Box Plot we can infer the following about Volume Values:\n",
    "\n",
    "1. Mean , Median , Mode values are Closer to each other .\n",
    "2. The data is scewed to the right , ie there are outliers towards the Right .This is also observed in the Box plot where we have arround 12 data points outside the Right Wishker .\n",
    "3. Kurtosis is positive with Peak near mode , therefore most of the data points are within this range.(High Positive Kurtosis)"
   ]
  },
  {
   "cell_type": "markdown",
   "id": "fad11a4f",
   "metadata": {},
   "source": [
    "## Avg Price Column ( Type Numerical and Continuous)"
   ]
  },
  {
   "cell_type": "code",
   "execution_count": 26,
   "id": "4a2e2ef6",
   "metadata": {},
   "outputs": [
    {
     "data": {
      "text/plain": [
       "10453.433333333332"
      ]
     },
     "execution_count": 26,
     "metadata": {},
     "output_type": "execute_result"
    }
   ],
   "source": [
    "data[\"Avg Price\"].mean()"
   ]
  },
  {
   "cell_type": "code",
   "execution_count": 27,
   "id": "24e1ebff",
   "metadata": {},
   "outputs": [
    {
     "data": {
      "text/plain": [
       "1450.0"
      ]
     },
     "execution_count": 27,
     "metadata": {},
     "output_type": "execute_result"
    }
   ],
   "source": [
    "data[\"Avg Price\"].median()"
   ]
  },
  {
   "cell_type": "code",
   "execution_count": 28,
   "id": "82f55e24",
   "metadata": {},
   "outputs": [
    {
     "data": {
      "text/plain": [
       "ModeResult(mode=400, count=30)"
      ]
     },
     "execution_count": 28,
     "metadata": {},
     "output_type": "execute_result"
    }
   ],
   "source": [
    "stats.mode(data[\"Avg Price\"])"
   ]
  },
  {
   "cell_type": "code",
   "execution_count": 29,
   "id": "5d692bcd",
   "metadata": {},
   "outputs": [
    {
     "data": {
      "text/plain": [
       "Avg Price\n",
       "450      30\n",
       "8100     30\n",
       "1300     30\n",
       "400      30\n",
       "500      30\n",
       "12100    15\n",
       "1900     15\n",
       "1600     15\n",
       "2600     15\n",
       "2099     15\n",
       "900      15\n",
       "1099     15\n",
       "560      15\n",
       "465      15\n",
       "290      15\n",
       "10100    15\n",
       "390      15\n",
       "300      15\n",
       "60100    15\n",
       "55100    15\n",
       "54100    15\n",
       "49100    15\n",
       "20100    15\n",
       "16100    15\n",
       "3100     15\n",
       "Name: count, dtype: int64"
      ]
     },
     "execution_count": 29,
     "metadata": {},
     "output_type": "execute_result"
    }
   ],
   "source": [
    "data[\"Avg Price\"].value_counts()"
   ]
  },
  {
   "cell_type": "markdown",
   "id": "fb8f06d9",
   "metadata": {},
   "source": [
    "The stats.mode() function returns only a Single mode , but when looking at the Histogram we can find that there are multi modes\n",
    "\n",
    "Mode for Avg Price : 450,8100,1300,400,500"
   ]
  },
  {
   "cell_type": "code",
   "execution_count": 30,
   "id": "70a42fa0",
   "metadata": {},
   "outputs": [
    {
     "data": {
      "text/plain": [
       "18079.90483993645"
      ]
     },
     "execution_count": 30,
     "metadata": {},
     "output_type": "execute_result"
    }
   ],
   "source": [
    "data[\"Avg Price\"].std()"
   ]
  },
  {
   "cell_type": "markdown",
   "id": "438c2b9a",
   "metadata": {},
   "source": [
    "Ztransformation for Avg Price data"
   ]
  },
  {
   "cell_type": "code",
   "execution_count": 31,
   "id": "7e321fb0",
   "metadata": {},
   "outputs": [],
   "source": [
    "p=[]\n",
    "for ele in data['Avg Price']:\n",
    "    val=z_score(ele,10453.433333333332,18079.90483993645)\n",
    "    p.append(val)\n",
    "    "
   ]
  },
  {
   "cell_type": "code",
   "execution_count": 32,
   "id": "919264f6",
   "metadata": {},
   "outputs": [
    {
     "data": {
      "text/plain": [
       "[0.09107164452710997,\n",
       " -0.019548406723504348,\n",
       " 0.3123117470283386,\n",
       " 0.5335518495295672,\n",
       " -0.13016845797411866,\n",
       " -0.13016845797411866,\n",
       " 2.1375425926634746,\n",
       " 2.4140927207900105,\n",
       " 2.4694027464153177,\n",
       " 2.7459528745418536,\n",
       " -0.5560556552889838,\n",
       " -0.5615866578515145,\n",
       " -0.5566087555452368,\n",
       " -0.5524605036233388,\n",
       " -0.5621397581077675,\n",
       " -0.5532901540077184,\n",
       " -0.550524652726453,\n",
       " -0.5560556552889838,\n",
       " -0.5472060511889346,\n",
       " -0.517393947376894,\n",
       " -0.5532901540077184,\n",
       " -0.550524652726453,\n",
       " -0.5284006424763302,\n",
       " -0.5062766322262073,\n",
       " -0.4620839217515869,\n",
       " -0.5062766322262073,\n",
       " -0.434373598913308,\n",
       " -0.4896836245386152,\n",
       " -0.47309061685102305,\n",
       " -0.4067185861006544,\n",
       " 0.09107164452710997,\n",
       " -0.019548406723504348,\n",
       " 0.3123117470283386,\n",
       " 0.5335518495295672,\n",
       " -0.13016845797411866,\n",
       " -0.13016845797411866,\n",
       " 2.1375425926634746,\n",
       " 2.4140927207900105,\n",
       " 2.4694027464153177,\n",
       " 2.7459528745418536,\n",
       " -0.5560556552889838,\n",
       " -0.5615866578515145,\n",
       " -0.5566087555452368,\n",
       " -0.5524605036233388,\n",
       " -0.5621397581077675,\n",
       " -0.5532901540077184,\n",
       " -0.550524652726453,\n",
       " -0.5560556552889838,\n",
       " -0.5472060511889346,\n",
       " -0.517393947376894,\n",
       " -0.5532901540077184,\n",
       " -0.550524652726453,\n",
       " -0.5284006424763302,\n",
       " -0.5062766322262073,\n",
       " -0.4620839217515869,\n",
       " -0.5062766322262073,\n",
       " -0.434373598913308,\n",
       " -0.4896836245386152,\n",
       " -0.47309061685102305,\n",
       " -0.4067185861006544,\n",
       " 0.09107164452710997,\n",
       " -0.019548406723504348,\n",
       " 0.3123117470283386,\n",
       " 0.5335518495295672,\n",
       " -0.13016845797411866,\n",
       " -0.13016845797411866,\n",
       " 2.1375425926634746,\n",
       " 2.4140927207900105,\n",
       " 2.4694027464153177,\n",
       " 2.7459528745418536,\n",
       " -0.5560556552889838,\n",
       " -0.5615866578515145,\n",
       " -0.5566087555452368,\n",
       " -0.5524605036233388,\n",
       " -0.5621397581077675,\n",
       " -0.5532901540077184,\n",
       " -0.550524652726453,\n",
       " -0.5560556552889838,\n",
       " -0.5472060511889346,\n",
       " -0.517393947376894,\n",
       " -0.5532901540077184,\n",
       " -0.550524652726453,\n",
       " -0.5284006424763302,\n",
       " -0.5062766322262073,\n",
       " -0.4620839217515869,\n",
       " -0.5062766322262073,\n",
       " -0.434373598913308,\n",
       " -0.4896836245386152,\n",
       " -0.47309061685102305,\n",
       " -0.4067185861006544,\n",
       " 0.09107164452710997,\n",
       " -0.019548406723504348,\n",
       " 0.3123117470283386,\n",
       " 0.5335518495295672,\n",
       " -0.13016845797411866,\n",
       " -0.13016845797411866,\n",
       " 2.1375425926634746,\n",
       " 2.4140927207900105,\n",
       " 2.4694027464153177,\n",
       " 2.7459528745418536,\n",
       " -0.5560556552889838,\n",
       " -0.5615866578515145,\n",
       " -0.5566087555452368,\n",
       " -0.5524605036233388,\n",
       " -0.5621397581077675,\n",
       " -0.5532901540077184,\n",
       " -0.550524652726453,\n",
       " -0.5560556552889838,\n",
       " -0.5472060511889346,\n",
       " -0.517393947376894,\n",
       " -0.5532901540077184,\n",
       " -0.550524652726453,\n",
       " -0.5284006424763302,\n",
       " -0.5062766322262073,\n",
       " -0.4620839217515869,\n",
       " -0.5062766322262073,\n",
       " -0.434373598913308,\n",
       " -0.4896836245386152,\n",
       " -0.47309061685102305,\n",
       " -0.4067185861006544,\n",
       " 0.09107164452710997,\n",
       " -0.019548406723504348,\n",
       " 0.3123117470283386,\n",
       " 0.5335518495295672,\n",
       " -0.13016845797411866,\n",
       " -0.13016845797411866,\n",
       " 2.1375425926634746,\n",
       " 2.4140927207900105,\n",
       " 2.4694027464153177,\n",
       " 2.7459528745418536,\n",
       " -0.5560556552889838,\n",
       " -0.5615866578515145,\n",
       " -0.5566087555452368,\n",
       " -0.5524605036233388,\n",
       " -0.5621397581077675,\n",
       " -0.5532901540077184,\n",
       " -0.550524652726453,\n",
       " -0.5560556552889838,\n",
       " -0.5472060511889346,\n",
       " -0.517393947376894,\n",
       " -0.5532901540077184,\n",
       " -0.550524652726453,\n",
       " -0.5284006424763302,\n",
       " -0.5062766322262073,\n",
       " -0.4620839217515869,\n",
       " -0.5062766322262073,\n",
       " -0.434373598913308,\n",
       " -0.4896836245386152,\n",
       " -0.47309061685102305,\n",
       " -0.4067185861006544,\n",
       " 0.09107164452710997,\n",
       " -0.019548406723504348,\n",
       " 0.3123117470283386,\n",
       " 0.5335518495295672,\n",
       " -0.13016845797411866,\n",
       " -0.13016845797411866,\n",
       " 2.1375425926634746,\n",
       " 2.4140927207900105,\n",
       " 2.4694027464153177,\n",
       " 2.7459528745418536,\n",
       " -0.5560556552889838,\n",
       " -0.5615866578515145,\n",
       " -0.5566087555452368,\n",
       " -0.5524605036233388,\n",
       " -0.5621397581077675,\n",
       " -0.5532901540077184,\n",
       " -0.550524652726453,\n",
       " -0.5560556552889838,\n",
       " -0.5472060511889346,\n",
       " -0.517393947376894,\n",
       " -0.5532901540077184,\n",
       " -0.550524652726453,\n",
       " -0.5284006424763302,\n",
       " -0.5062766322262073,\n",
       " -0.4620839217515869,\n",
       " -0.5062766322262073,\n",
       " -0.434373598913308,\n",
       " -0.4896836245386152,\n",
       " -0.47309061685102305,\n",
       " -0.4067185861006544,\n",
       " 0.09107164452710997,\n",
       " -0.019548406723504348,\n",
       " 0.3123117470283386,\n",
       " 0.5335518495295672,\n",
       " -0.13016845797411866,\n",
       " -0.13016845797411866,\n",
       " 2.1375425926634746,\n",
       " 2.4140927207900105,\n",
       " 2.4694027464153177,\n",
       " 2.7459528745418536,\n",
       " -0.5560556552889838,\n",
       " -0.5615866578515145,\n",
       " -0.5566087555452368,\n",
       " -0.5524605036233388,\n",
       " -0.5621397581077675,\n",
       " -0.5532901540077184,\n",
       " -0.550524652726453,\n",
       " -0.5560556552889838,\n",
       " -0.5472060511889346,\n",
       " -0.517393947376894,\n",
       " -0.5532901540077184,\n",
       " -0.550524652726453,\n",
       " -0.5284006424763302,\n",
       " -0.5062766322262073,\n",
       " -0.4620839217515869,\n",
       " -0.5062766322262073,\n",
       " -0.434373598913308,\n",
       " -0.4896836245386152,\n",
       " -0.47309061685102305,\n",
       " -0.4067185861006544,\n",
       " 0.09107164452710997,\n",
       " -0.019548406723504348,\n",
       " 0.3123117470283386,\n",
       " 0.5335518495295672,\n",
       " -0.13016845797411866,\n",
       " -0.13016845797411866,\n",
       " 2.1375425926634746,\n",
       " 2.4140927207900105,\n",
       " 2.4694027464153177,\n",
       " 2.7459528745418536,\n",
       " -0.5560556552889838,\n",
       " -0.5615866578515145,\n",
       " -0.5566087555452368,\n",
       " -0.5524605036233388,\n",
       " -0.5621397581077675,\n",
       " -0.5532901540077184,\n",
       " -0.550524652726453,\n",
       " -0.5560556552889838,\n",
       " -0.5472060511889346,\n",
       " -0.517393947376894,\n",
       " -0.5532901540077184,\n",
       " -0.550524652726453,\n",
       " -0.5284006424763302,\n",
       " -0.5062766322262073,\n",
       " -0.4620839217515869,\n",
       " -0.5062766322262073,\n",
       " -0.434373598913308,\n",
       " -0.4896836245386152,\n",
       " -0.47309061685102305,\n",
       " -0.4067185861006544,\n",
       " 0.09107164452710997,\n",
       " -0.019548406723504348,\n",
       " 0.3123117470283386,\n",
       " 0.5335518495295672,\n",
       " -0.13016845797411866,\n",
       " -0.13016845797411866,\n",
       " 2.1375425926634746,\n",
       " 2.4140927207900105,\n",
       " 2.4694027464153177,\n",
       " 2.7459528745418536,\n",
       " -0.5560556552889838,\n",
       " -0.5615866578515145,\n",
       " -0.5566087555452368,\n",
       " -0.5524605036233388,\n",
       " -0.5621397581077675,\n",
       " -0.5532901540077184,\n",
       " -0.550524652726453,\n",
       " -0.5560556552889838,\n",
       " -0.5472060511889346,\n",
       " -0.517393947376894,\n",
       " -0.5532901540077184,\n",
       " -0.550524652726453,\n",
       " -0.5284006424763302,\n",
       " -0.5062766322262073,\n",
       " -0.4620839217515869,\n",
       " -0.5062766322262073,\n",
       " -0.434373598913308,\n",
       " -0.4896836245386152,\n",
       " -0.47309061685102305,\n",
       " -0.4067185861006544,\n",
       " 0.09107164452710997,\n",
       " -0.019548406723504348,\n",
       " 0.3123117470283386,\n",
       " 0.5335518495295672,\n",
       " -0.13016845797411866,\n",
       " -0.13016845797411866,\n",
       " 2.1375425926634746,\n",
       " 2.4140927207900105,\n",
       " 2.4694027464153177,\n",
       " 2.7459528745418536,\n",
       " -0.5560556552889838,\n",
       " -0.5615866578515145,\n",
       " -0.5566087555452368,\n",
       " -0.5524605036233388,\n",
       " -0.5621397581077675,\n",
       " -0.5532901540077184,\n",
       " -0.550524652726453,\n",
       " -0.5560556552889838,\n",
       " -0.5472060511889346,\n",
       " -0.517393947376894,\n",
       " -0.5532901540077184,\n",
       " -0.550524652726453,\n",
       " -0.5284006424763302,\n",
       " -0.5062766322262073,\n",
       " -0.4620839217515869,\n",
       " -0.5062766322262073,\n",
       " -0.434373598913308,\n",
       " -0.4896836245386152,\n",
       " -0.47309061685102305,\n",
       " -0.4067185861006544,\n",
       " 0.09107164452710997,\n",
       " -0.019548406723504348,\n",
       " 0.3123117470283386,\n",
       " 0.5335518495295672,\n",
       " -0.13016845797411866,\n",
       " -0.13016845797411866,\n",
       " 2.1375425926634746,\n",
       " 2.4140927207900105,\n",
       " 2.4694027464153177,\n",
       " 2.7459528745418536,\n",
       " -0.5560556552889838,\n",
       " -0.5615866578515145,\n",
       " -0.5566087555452368,\n",
       " -0.5524605036233388,\n",
       " -0.5621397581077675,\n",
       " -0.5532901540077184,\n",
       " -0.550524652726453,\n",
       " -0.5560556552889838,\n",
       " -0.5472060511889346,\n",
       " -0.517393947376894,\n",
       " -0.5532901540077184,\n",
       " -0.550524652726453,\n",
       " -0.5284006424763302,\n",
       " -0.5062766322262073,\n",
       " -0.4620839217515869,\n",
       " -0.5062766322262073,\n",
       " -0.434373598913308,\n",
       " -0.4896836245386152,\n",
       " -0.47309061685102305,\n",
       " -0.4067185861006544,\n",
       " 0.09107164452710997,\n",
       " -0.019548406723504348,\n",
       " 0.3123117470283386,\n",
       " 0.5335518495295672,\n",
       " -0.13016845797411866,\n",
       " -0.13016845797411866,\n",
       " 2.1375425926634746,\n",
       " 2.4140927207900105,\n",
       " 2.4694027464153177,\n",
       " 2.7459528745418536,\n",
       " -0.5560556552889838,\n",
       " -0.5615866578515145,\n",
       " -0.5566087555452368,\n",
       " -0.5524605036233388,\n",
       " -0.5621397581077675,\n",
       " -0.5532901540077184,\n",
       " -0.550524652726453,\n",
       " -0.5560556552889838,\n",
       " -0.5472060511889346,\n",
       " -0.517393947376894,\n",
       " -0.5532901540077184,\n",
       " -0.550524652726453,\n",
       " -0.5284006424763302,\n",
       " -0.5062766322262073,\n",
       " -0.4620839217515869,\n",
       " -0.5062766322262073,\n",
       " -0.434373598913308,\n",
       " -0.4896836245386152,\n",
       " -0.47309061685102305,\n",
       " -0.4067185861006544,\n",
       " 0.09107164452710997,\n",
       " -0.019548406723504348,\n",
       " 0.3123117470283386,\n",
       " 0.5335518495295672,\n",
       " -0.13016845797411866,\n",
       " -0.13016845797411866,\n",
       " 2.1375425926634746,\n",
       " 2.4140927207900105,\n",
       " 2.4694027464153177,\n",
       " 2.7459528745418536,\n",
       " -0.5560556552889838,\n",
       " -0.5615866578515145,\n",
       " -0.5566087555452368,\n",
       " -0.5524605036233388,\n",
       " -0.5621397581077675,\n",
       " -0.5532901540077184,\n",
       " -0.550524652726453,\n",
       " -0.5560556552889838,\n",
       " -0.5472060511889346,\n",
       " -0.517393947376894,\n",
       " -0.5532901540077184,\n",
       " -0.550524652726453,\n",
       " -0.5284006424763302,\n",
       " -0.5062766322262073,\n",
       " -0.4620839217515869,\n",
       " -0.5062766322262073,\n",
       " -0.434373598913308,\n",
       " -0.4896836245386152,\n",
       " -0.47309061685102305,\n",
       " -0.4067185861006544,\n",
       " 0.09107164452710997,\n",
       " -0.019548406723504348,\n",
       " 0.3123117470283386,\n",
       " 0.5335518495295672,\n",
       " -0.13016845797411866,\n",
       " -0.13016845797411866,\n",
       " 2.1375425926634746,\n",
       " 2.4140927207900105,\n",
       " 2.4694027464153177,\n",
       " 2.7459528745418536,\n",
       " -0.5560556552889838,\n",
       " -0.5615866578515145,\n",
       " -0.5566087555452368,\n",
       " -0.5524605036233388,\n",
       " -0.5621397581077675,\n",
       " -0.5532901540077184,\n",
       " -0.550524652726453,\n",
       " -0.5560556552889838,\n",
       " -0.5472060511889346,\n",
       " -0.517393947376894,\n",
       " -0.5532901540077184,\n",
       " -0.550524652726453,\n",
       " -0.5284006424763302,\n",
       " -0.5062766322262073,\n",
       " -0.4620839217515869,\n",
       " -0.5062766322262073,\n",
       " -0.434373598913308,\n",
       " -0.4896836245386152,\n",
       " -0.47309061685102305,\n",
       " -0.4067185861006544,\n",
       " 0.09107164452710997,\n",
       " -0.019548406723504348,\n",
       " 0.3123117470283386,\n",
       " 0.5335518495295672,\n",
       " -0.13016845797411866,\n",
       " -0.13016845797411866,\n",
       " 2.1375425926634746,\n",
       " 2.4140927207900105,\n",
       " 2.4694027464153177,\n",
       " 2.7459528745418536,\n",
       " -0.5560556552889838,\n",
       " -0.5615866578515145,\n",
       " -0.5566087555452368,\n",
       " -0.5524605036233388,\n",
       " -0.5621397581077675,\n",
       " -0.5532901540077184,\n",
       " -0.550524652726453,\n",
       " -0.5560556552889838,\n",
       " -0.5472060511889346,\n",
       " -0.517393947376894,\n",
       " -0.5532901540077184,\n",
       " -0.550524652726453,\n",
       " -0.5284006424763302,\n",
       " -0.5062766322262073,\n",
       " -0.4620839217515869,\n",
       " -0.5062766322262073,\n",
       " -0.434373598913308,\n",
       " -0.4896836245386152,\n",
       " -0.47309061685102305,\n",
       " -0.4067185861006544]"
      ]
     },
     "execution_count": 32,
     "metadata": {},
     "output_type": "execute_result"
    }
   ],
   "source": [
    "p"
   ]
  },
  {
   "cell_type": "markdown",
   "id": "d378d84a",
   "metadata": {},
   "source": [
    "### Plotting Box Plot"
   ]
  },
  {
   "cell_type": "code",
   "execution_count": 33,
   "id": "4be277f6",
   "metadata": {},
   "outputs": [
    {
     "data": {
      "text/plain": [
       "{'whiskers': [<matplotlib.lines.Line2D at 0x184c565e990>,\n",
       "  <matplotlib.lines.Line2D at 0x184c565f510>],\n",
       " 'caps': [<matplotlib.lines.Line2D at 0x184c56640d0>,\n",
       "  <matplotlib.lines.Line2D at 0x184c5664b10>],\n",
       " 'boxes': [<matplotlib.lines.Line2D at 0x184c565de90>],\n",
       " 'medians': [<matplotlib.lines.Line2D at 0x184c56656d0>],\n",
       " 'fliers': [<matplotlib.lines.Line2D at 0x184c56660d0>],\n",
       " 'means': []}"
      ]
     },
     "execution_count": 33,
     "metadata": {},
     "output_type": "execute_result"
    },
    {
     "data": {
      "image/png": "[encoded data removed]",
      "text/plain": [
       "<Figure size 640x480 with 1 Axes>"
      ]
     },
     "metadata": {},
     "output_type": "display_data"
    }
   ],
   "source": [
    "plt.boxplot(data[\"Avg Price\"], vert=False)"
   ]
  },
  {
   "cell_type": "markdown",
   "id": "c768e6bf",
   "metadata": {},
   "source": [
    "IQR for Avg Price"
   ]
  },
  {
   "cell_type": "code",
   "execution_count": 34,
   "id": "6d73706a",
   "metadata": {},
   "outputs": [
    {
     "data": {
      "text/plain": [
       "9635.0"
      ]
     },
     "execution_count": 34,
     "metadata": {},
     "output_type": "execute_result"
    }
   ],
   "source": [
    "10100.000000-465.000000"
   ]
  },
  {
   "cell_type": "markdown",
   "id": "67cd085c",
   "metadata": {},
   "source": [
    "IQR= 9635.0 and Standard Deviation is approx 18080   .. we can infer there are outliers in the extreme ends of the data distribution"
   ]
  },
  {
   "cell_type": "markdown",
   "id": "784a938d",
   "metadata": {},
   "source": [
    "### Plotting Histogram"
   ]
  },
  {
   "cell_type": "code",
   "execution_count": 35,
   "id": "7bde9f37",
   "metadata": {},
   "outputs": [
    {
     "data": {
      "text/plain": [
       "(array([300.,  60.,  15.,  15.,   0.,   0.,   0.,   0.,  30.,  30.]),\n",
       " array([  290.,  6271., 12252., 18233., 24214., 30195., 36176., 42157.,\n",
       "        48138., 54119., 60100.]),\n",
       " <BarContainer object of 10 artists>)"
      ]
     },
     "execution_count": 35,
     "metadata": {},
     "output_type": "execute_result"
    },
    {
     "data": {
      "image/png": "[encoded data removed]",
      "text/plain": [
       "<Figure size 640x480 with 1 Axes>"
      ]
     },
     "metadata": {},
     "output_type": "display_data"
    }
   ],
   "source": [
    "plt.hist(data[\"Avg Price\"])"
   ]
  },
  {
   "cell_type": "markdown",
   "id": "2296fed2",
   "metadata": {},
   "source": [
    "Histogram with Ztransformed Average price values"
   ]
  },
  {
   "cell_type": "code",
   "execution_count": 36,
   "id": "8a510f21",
   "metadata": {},
   "outputs": [
    {
     "data": {
      "text/plain": [
       "(array([300.,  60.,  15.,  15.,   0.,   0.,   0.,   0.,  30.,  30.]),\n",
       " array([-0.56213976, -0.23133049,  0.09947877,  0.43028803,  0.76109729,\n",
       "         1.09190656,  1.42271582,  1.75352508,  2.08433435,  2.41514361,\n",
       "         2.74595287]),\n",
       " <BarContainer object of 10 artists>)"
      ]
     },
     "execution_count": 36,
     "metadata": {},
     "output_type": "execute_result"
    },
    {
     "data": {
      "image/png": "[encoded data removed]",
      "text/plain": [
       "<Figure size 640x480 with 1 Axes>"
      ]
     },
     "metadata": {},
     "output_type": "display_data"
    }
   ],
   "source": [
    "plt.hist(p)"
   ]
  },
  {
   "cell_type": "code",
   "execution_count": 37,
   "id": "942e231f",
   "metadata": {},
   "outputs": [
    {
     "data": {
      "text/plain": [
       "2.07565498004372"
      ]
     },
     "execution_count": 37,
     "metadata": {},
     "output_type": "execute_result"
    }
   ],
   "source": [
    "data[\"Avg Price\"].kurtosis()"
   ]
  },
  {
   "cell_type": "code",
   "execution_count": 38,
   "id": "ca03bcd0",
   "metadata": {},
   "outputs": [
    {
     "data": {
      "text/plain": [
       "1.9088730767759727"
      ]
     },
     "execution_count": 38,
     "metadata": {},
     "output_type": "execute_result"
    }
   ],
   "source": [
    "data[\"Avg Price\"].skew()"
   ]
  },
  {
   "cell_type": "markdown",
   "id": "bc7ffebc",
   "metadata": {},
   "source": [
    "Inference"
   ]
  },
  {
   "cell_type": "markdown",
   "id": "385c59b7",
   "metadata": {},
   "source": [
    "1. There is a large difference between Mean and Median values .This can indicate Skewness in the data.\n",
    "2. The scew value is positive ie there is a Right Skew in the data .\n",
    "3. The Kurtosis value is High indicating a clear Peak in the data.\n",
    "4. There are outliers towards the right which is evident in the Box plot ,where data points are outside right Wishker"
   ]
  },
  {
   "cell_type": "markdown",
   "id": "7af7f53b",
   "metadata": {},
   "source": [
    "## Total Sales Value ( Type Numerical  and Continuous) "
   ]
  },
  {
   "cell_type": "markdown",
   "id": "13f455bb",
   "metadata": {},
   "source": [
    "We can see that the values in Total Sales Value is THE PRODUCT OF corresponding Volume and Avg Price column values."
   ]
  },
  {
   "cell_type": "code",
   "execution_count": 39,
   "id": "1f05a322",
   "metadata": {},
   "outputs": [
    {
     "data": {
      "text/plain": [
       "33812.83555555555"
      ]
     },
     "execution_count": 39,
     "metadata": {},
     "output_type": "execute_result"
    }
   ],
   "source": [
    "data[\"Total Sales Value\"].mean()  "
   ]
  },
  {
   "cell_type": "code",
   "execution_count": 40,
   "id": "156bd047",
   "metadata": {},
   "outputs": [
    {
     "data": {
      "text/plain": [
       "0      181500\n",
       "1      101000\n",
       "2      112700\n",
       "3      120600\n",
       "4       24300\n",
       "        ...  \n",
       "445      2600\n",
       "446     15600\n",
       "447      3200\n",
       "448      5700\n",
       "449      3100\n",
       "Name: Total Sales Value, Length: 450, dtype: int64"
      ]
     },
     "execution_count": 40,
     "metadata": {},
     "output_type": "execute_result"
    }
   ],
   "source": [
    "data[\"Total Sales Value\"]"
   ]
  },
  {
   "cell_type": "code",
   "execution_count": 41,
   "id": "79b6d62e",
   "metadata": {},
   "outputs": [
    {
     "data": {
      "text/plain": [
       "5700.0"
      ]
     },
     "execution_count": 41,
     "metadata": {},
     "output_type": "execute_result"
    }
   ],
   "source": [
    "data[\"Total Sales Value\"].median()"
   ]
  },
  {
   "cell_type": "markdown",
   "id": "b17fbcf0",
   "metadata": {},
   "source": [
    "Mean and Median values are very different , hence we can expect the data to be Skewed"
   ]
  },
  {
   "cell_type": "code",
   "execution_count": 42,
   "id": "94d02fea",
   "metadata": {},
   "outputs": [
    {
     "data": {
      "text/plain": [
       "0    24300\n",
       "Name: Total Sales Value, dtype: int64"
      ]
     },
     "execution_count": 42,
     "metadata": {},
     "output_type": "execute_result"
    }
   ],
   "source": [
    "data[\"Total Sales Value\"].mode()"
   ]
  },
  {
   "cell_type": "code",
   "execution_count": 43,
   "id": "0dc422fd",
   "metadata": {},
   "outputs": [
    {
     "data": {
      "text/plain": [
       "Total Sales Value\n",
       "24300     14\n",
       "3900      11\n",
       "147300    11\n",
       "4500      11\n",
       "800        9\n",
       "          ..\n",
       "20200      1\n",
       "5115       1\n",
       "580        1\n",
       "2240       1\n",
       "2325       1\n",
       "Name: count, Length: 135, dtype: int64"
      ]
     },
     "execution_count": 43,
     "metadata": {},
     "output_type": "execute_result"
    }
   ],
   "source": [
    "data['Total Sales Value'].value_counts()"
   ]
  },
  {
   "cell_type": "markdown",
   "id": "52d82d95",
   "metadata": {},
   "source": [
    "Total Sales Value has single mode"
   ]
  },
  {
   "cell_type": "code",
   "execution_count": 44,
   "id": "a3cf2f7e",
   "metadata": {},
   "outputs": [
    {
     "data": {
      "text/plain": [
       "50535.07417255328"
      ]
     },
     "execution_count": 44,
     "metadata": {},
     "output_type": "execute_result"
    }
   ],
   "source": [
    "data['Total Sales Value'].std()"
   ]
  },
  {
   "cell_type": "code",
   "execution_count": 45,
   "id": "966fec72",
   "metadata": {},
   "outputs": [],
   "source": [
    "lis=[]"
   ]
  },
  {
   "cell_type": "markdown",
   "id": "636acac9",
   "metadata": {},
   "source": [
    "Calculating Zscores Total Sales Value"
   ]
  },
  {
   "cell_type": "code",
   "execution_count": 46,
   "id": "aaaff800",
   "metadata": {},
   "outputs": [],
   "source": [
    "for el in data[\"Total Sales Value\"]:\n",
    "    va=z_score(el,33812.83555555555,50535.07417255328)\n",
    "    lis.append(va)"
   ]
  },
  {
   "cell_type": "markdown",
   "id": "f4238009",
   "metadata": {},
   "source": [
    "#### Plotting Box Plot"
   ]
  },
  {
   "cell_type": "code",
   "execution_count": 47,
   "id": "b62e0ae4",
   "metadata": {},
   "outputs": [
    {
     "data": {
      "text/plain": [
       "{'whiskers': [<matplotlib.lines.Line2D at 0x184c557f110>,\n",
       "  <matplotlib.lines.Line2D at 0x184c557fcd0>],\n",
       " 'caps': [<matplotlib.lines.Line2D at 0x184c5666c90>,\n",
       "  <matplotlib.lines.Line2D at 0x184c55892d0>],\n",
       " 'boxes': [<matplotlib.lines.Line2D at 0x184c556a850>],\n",
       " 'medians': [<matplotlib.lines.Line2D at 0x184c5589d90>],\n",
       " 'fliers': [<matplotlib.lines.Line2D at 0x184c5517310>],\n",
       " 'means': []}"
      ]
     },
     "execution_count": 47,
     "metadata": {},
     "output_type": "execute_result"
    },
    {
     "data": {
      "image/png": "[encoded data removed]",
      "text/plain": [
       "<Figure size 640x480 with 1 Axes>"
      ]
     },
     "metadata": {},
     "output_type": "display_data"
    }
   ],
   "source": [
    "plt.boxplot(data['Total Sales Value'],vert=False)"
   ]
  },
  {
   "cell_type": "markdown",
   "id": "ee72d8f9",
   "metadata": {},
   "source": [
    "Calculating Interquartile Range"
   ]
  },
  {
   "cell_type": "code",
   "execution_count": 48,
   "id": "9f12efa6",
   "metadata": {},
   "outputs": [],
   "source": [
    "q3,q1=np.percentile(data[\"Total Sales Value\"],[75,25])"
   ]
  },
  {
   "cell_type": "code",
   "execution_count": 49,
   "id": "44415521",
   "metadata": {},
   "outputs": [
    {
     "data": {
      "text/plain": [
       "53200.0"
      ]
     },
     "execution_count": 49,
     "metadata": {},
     "output_type": "execute_result"
    }
   ],
   "source": [
    "q3"
   ]
  },
  {
   "cell_type": "code",
   "execution_count": 50,
   "id": "b7c1987f",
   "metadata": {},
   "outputs": [
    {
     "data": {
      "text/plain": [
       "2700.0"
      ]
     },
     "execution_count": 50,
     "metadata": {},
     "output_type": "execute_result"
    }
   ],
   "source": [
    "q1"
   ]
  },
  {
   "cell_type": "code",
   "execution_count": 51,
   "id": "202a268c",
   "metadata": {},
   "outputs": [
    {
     "data": {
      "text/plain": [
       "50500.0"
      ]
     },
     "execution_count": 51,
     "metadata": {},
     "output_type": "execute_result"
    }
   ],
   "source": [
    "q3-q1  # Interquartile range"
   ]
  },
  {
   "cell_type": "markdown",
   "id": "ee935f4f",
   "metadata": {},
   "source": [
    "### Histogram "
   ]
  },
  {
   "cell_type": "code",
   "execution_count": 52,
   "id": "19b2f582",
   "metadata": {},
   "outputs": [
    {
     "data": {
      "text/plain": [
       "(array([305.,  24.,  15.,  18.,  12.,  27.,  15.,  15.,  11.,   8.]),\n",
       " array([   400.,  20000.,  39600.,  59200.,  78800.,  98400., 118000.,\n",
       "        137600., 157200., 176800., 196400.]),\n",
       " <BarContainer object of 10 artists>)"
      ]
     },
     "execution_count": 52,
     "metadata": {},
     "output_type": "execute_result"
    },
    {
     "data": {
      "image/png": "[encoded data removed]",
      "text/plain": [
       "<Figure size 640x480 with 1 Axes>"
      ]
     },
     "metadata": {},
     "output_type": "display_data"
    }
   ],
   "source": [
    "plt.hist(data[\"Total Sales Value\"])"
   ]
  },
  {
   "cell_type": "code",
   "execution_count": 53,
   "id": "c96d4301",
   "metadata": {},
   "outputs": [
    {
     "data": {
      "text/plain": [
       "(array([305.,  24.,  15.,  18.,  12.,  27.,  15.,  15.,  11.,   8.]),\n",
       " array([-0.66118109, -0.27333166,  0.11451778,  0.50236721,  0.89021665,\n",
       "         1.27806609,  1.66591552,  2.05376496,  2.44161439,  2.82946383,\n",
       "         3.21731326]),\n",
       " <BarContainer object of 10 artists>)"
      ]
     },
     "execution_count": 53,
     "metadata": {},
     "output_type": "execute_result"
    },
    {
     "data": {
      "image/png": "[encoded data removed]",
      "text/plain": [
       "<Figure size 640x480 with 1 Axes>"
      ]
     },
     "metadata": {},
     "output_type": "display_data"
    }
   ],
   "source": [
    "plt.hist(lis)"
   ]
  },
  {
   "cell_type": "markdown",
   "id": "4ac688b2",
   "metadata": {},
   "source": [
    "Z score histogram"
   ]
  },
  {
   "cell_type": "code",
   "execution_count": 54,
   "id": "4f4c5268",
   "metadata": {},
   "outputs": [
    {
     "data": {
      "text/plain": [
       "1.0249161068455352"
      ]
     },
     "execution_count": 54,
     "metadata": {},
     "output_type": "execute_result"
    }
   ],
   "source": [
    "data[\"Total Sales Value\"].kurtosis()"
   ]
  },
  {
   "cell_type": "code",
   "execution_count": 55,
   "id": "9da484ae",
   "metadata": {},
   "outputs": [
    {
     "data": {
      "text/plain": [
       "1.5347293238977937"
      ]
     },
     "execution_count": 55,
     "metadata": {},
     "output_type": "execute_result"
    }
   ],
   "source": [
    "data[\"Total Sales Value\"].skew()"
   ]
  },
  {
   "cell_type": "markdown",
   "id": "c5b53958",
   "metadata": {},
   "source": [
    "### Inference "
   ]
  },
  {
   "cell_type": "markdown",
   "id": "8497cead",
   "metadata": {},
   "source": [
    " From the above analyisis , we can conclude \n",
    " 1. There are outliers towards the Right end of the data .   (from Box plot)\n",
    " 2. The data is scewed to the right.\n",
    " 3. Kurtosis value is showing there is a clear peak (on or near Mode value)\n",
    " 4. The high Mean value compared to Mode and Median also indicates the skewness in data."
   ]
  },
  {
   "cell_type": "markdown",
   "id": "ac0d1c61",
   "metadata": {},
   "source": [
    "## Discount Rate (%) ( Type Numerical  and Continuous) "
   ]
  },
  {
   "cell_type": "code",
   "execution_count": 56,
   "id": "8c1492de",
   "metadata": {},
   "outputs": [
    {
     "data": {
      "text/plain": [
       "0      11.654820\n",
       "1      11.560498\n",
       "2       9.456886\n",
       "3       6.935385\n",
       "4      17.995663\n",
       "         ...    \n",
       "445    15.475687\n",
       "446    17.057027\n",
       "447    18.965550\n",
       "448    16.793014\n",
       "449    15.333300\n",
       "Name: Discount Rate (%), Length: 450, dtype: float64"
      ]
     },
     "execution_count": 56,
     "metadata": {},
     "output_type": "execute_result"
    }
   ],
   "source": [
    "data[\"Discount Rate (%)\"]"
   ]
  },
  {
   "cell_type": "code",
   "execution_count": 57,
   "id": "474d2de9",
   "metadata": {},
   "outputs": [
    {
     "data": {
      "text/plain": [
       "15.155241895330914"
      ]
     },
     "execution_count": 57,
     "metadata": {},
     "output_type": "execute_result"
    }
   ],
   "source": [
    "data['Discount Rate (%)'].mean()   # Mean "
   ]
  },
  {
   "cell_type": "code",
   "execution_count": 58,
   "id": "e53b528a",
   "metadata": {},
   "outputs": [
    {
     "data": {
      "text/plain": [
       "16.57776564929597"
      ]
     },
     "execution_count": 58,
     "metadata": {},
     "output_type": "execute_result"
    }
   ],
   "source": [
    "data['Discount Rate (%)'].median() # Median "
   ]
  },
  {
   "cell_type": "code",
   "execution_count": 59,
   "id": "44fadb07",
   "metadata": {},
   "outputs": [
    {
     "data": {
      "text/plain": [
       "ModeResult(mode=5.007822189204133, count=1)"
      ]
     },
     "execution_count": 59,
     "metadata": {},
     "output_type": "execute_result"
    }
   ],
   "source": [
    "stats.mode(data['Discount Rate (%)'])  #Mode"
   ]
  },
  {
   "cell_type": "code",
   "execution_count": 60,
   "id": "0dbff941",
   "metadata": {},
   "outputs": [
    {
     "data": {
      "text/plain": [
       "Discount Rate (%)\n",
       "11.654820    1\n",
       "9.791440     1\n",
       "6.106931     1\n",
       "8.394469     1\n",
       "19.940610    1\n",
       "            ..\n",
       "18.092168    1\n",
       "17.379604    1\n",
       "18.939784    1\n",
       "16.121597    1\n",
       "15.333300    1\n",
       "Name: count, Length: 450, dtype: int64"
      ]
     },
     "execution_count": 60,
     "metadata": {},
     "output_type": "execute_result"
    }
   ],
   "source": [
    "data[\"Discount Rate (%)\"].value_counts()"
   ]
  },
  {
   "cell_type": "markdown",
   "id": "d11c2bdf",
   "metadata": {},
   "source": [
    "There is no mode as all values are unique"
   ]
  },
  {
   "cell_type": "code",
   "execution_count": 61,
   "id": "12b4c9ac",
   "metadata": {},
   "outputs": [
    {
     "data": {
      "text/plain": [
       "4.220602153325511"
      ]
     },
     "execution_count": 61,
     "metadata": {},
     "output_type": "execute_result"
    }
   ],
   "source": [
    "data['Discount Rate (%)'].std()  # Standard Deviation"
   ]
  },
  {
   "cell_type": "code",
   "execution_count": 62,
   "id": "3e78240d",
   "metadata": {},
   "outputs": [],
   "source": [
    "drate=[]"
   ]
  },
  {
   "cell_type": "markdown",
   "id": "160151ce",
   "metadata": {},
   "source": [
    "Z score for Discount Rate (%)"
   ]
  },
  {
   "cell_type": "code",
   "execution_count": 63,
   "id": "8762a0a8",
   "metadata": {},
   "outputs": [],
   "source": [
    "for e in data[\"Discount Rate (%)\"]:\n",
    "    dr=z_score(e,15.155241895330914,4.220602153325511)\n",
    "    drate.append(dr)"
   ]
  },
  {
   "cell_type": "code",
   "execution_count": 64,
   "id": "b604fce7",
   "metadata": {},
   "outputs": [
    {
     "data": {
      "text/plain": [
       "[-0.8293654511585796,\n",
       " -0.8517135194385754,\n",
       " -1.3501287286632062,\n",
       " -1.9475554131190254,\n",
       " 0.6729896591363367,\n",
       " 0.4362522095561248,\n",
       " -1.404166970028516,\n",
       " -2.2749177038415795,\n",
       " -1.8350787702717584,\n",
       " -1.2384010974097694,\n",
       " 0.8799691655589786,\n",
       " 0.3371732023399406,\n",
       " 0.711786161867508,\n",
       " 0.7947363064092582,\n",
       " 0.08561543614508077,\n",
       " 0.7026690400982138,\n",
       " 0.7012337568111688,\n",
       " 0.5572013736812935,\n",
       " 0.3714689461439664,\n",
       " 0.37452281291127426,\n",
       " 1.0359282250980957,\n",
       " 0.9569917338795934,\n",
       " 0.6884385997254889,\n",
       " 0.8415198392231975,\n",
       " 1.1333353630114207,\n",
       " 0.8735331911757691,\n",
       " 0.015986364626737654,\n",
       " 1.0547713919290382,\n",
       " 0.35854969335233383,\n",
       " 0.33691248604659346,\n",
       " -0.48526287267260354,\n",
       " -0.8746459070400812,\n",
       " -1.265015429112455,\n",
       " -2.1182649699843368,\n",
       " 0.8482029951481125,\n",
       " 0.6713022584358039,\n",
       " -2.346378309610327,\n",
       " -1.4017631470301664,\n",
       " -1.5910137575444543,\n",
       " -1.4377447795096434,\n",
       " 1.0739775669470846,\n",
       " 0.25260822577989717,\n",
       " 0.688932024554132,\n",
       " 0.5083183372462845,\n",
       " 0.507394691317659,\n",
       " 0.19996298728466064,\n",
       " 0.7970115204103256,\n",
       " 0.5068574575408614,\n",
       " 0.19317930732412555,\n",
       " 0.7841593419982468,\n",
       " 0.5990198559502959,\n",
       " 0.04588443975258856,\n",
       " 0.3204522099207342,\n",
       " 0.6756756716915362,\n",
       " 0.7010895863308068,\n",
       " 0.0734226674947315,\n",
       " 0.6780491872152542,\n",
       " 0.28568920461072794,\n",
       " 0.7678083664087014,\n",
       " 0.4382096975941391,\n",
       " -1.0146505506209837,\n",
       " -1.0024170572130333,\n",
       " -1.537032001522419,\n",
       " -1.4219042952201677,\n",
       " 0.47185604383486457,\n",
       " 0.8000400585686364,\n",
       " -1.552897369449308,\n",
       " -1.7849232559055994,\n",
       " -1.4803829613729333,\n",
       " -2.40425876154458,\n",
       " 0.44900106483299085,\n",
       " 0.4343937907104701,\n",
       " 0.9763599593734079,\n",
       " 0.660719737206218,\n",
       " 0.7178893827464254,\n",
       " 1.1212232689855064,\n",
       " 0.6294559156691539,\n",
       " 0.8407811673201798,\n",
       " 0.49711958487680524,\n",
       " 0.4243082624059011,\n",
       " 0.955936775066752,\n",
       " 0.5226932337191201,\n",
       " 0.2050050336528659,\n",
       " 0.9957565836509991,\n",
       " 0.018834049734999546,\n",
       " 0.8167754146711766,\n",
       " 0.533393393603315,\n",
       " 0.7531323026955763,\n",
       " 0.1954525123350711,\n",
       " 0.0684311370882901,\n",
       " -0.28053719869115684,\n",
       " -0.6398578436120916,\n",
       " -1.5963390987872925,\n",
       " -2.199821404594997,\n",
       " 0.38717170843852,\n",
       " 0.1470992348363031,\n",
       " -1.5604391830983464,\n",
       " -1.7370668235907232,\n",
       " -2.0008491803190145,\n",
       " -2.146622715384218,\n",
       " 0.6579707927910542,\n",
       " 0.4884851813271894,\n",
       " 0.3257530215439226,\n",
       " 0.02286119445668805,\n",
       " 0.3044358522056098,\n",
       " 0.3078585953341089,\n",
       " 1.0721686307425011,\n",
       " 0.22162605550351336,\n",
       " 0.5318409552674039,\n",
       " 0.7850446794992597,\n",
       " 0.7512616398043486,\n",
       " 1.096881834982099,\n",
       " -0.015498854111816148,\n",
       " 0.941528423053257,\n",
       " 0.623956354967506,\n",
       " 1.0685049589913393,\n",
       " 0.14402665423896338,\n",
       " 1.142404989209223,\n",
       " 0.8882429245652242,\n",
       " 0.5962613521441448,\n",
       " -0.7148460354897355,\n",
       " -0.1391129673266359,\n",
       " -1.6723099102792056,\n",
       " -1.755022327656509,\n",
       " 0.0619416574588654,\n",
       " 0.5149482929582091,\n",
       " -1.5691988336047595,\n",
       " -2.18455977764541,\n",
       " -1.7937372399044038,\n",
       " -1.4379829859973987,\n",
       " 0.6059449286668863,\n",
       " 0.5075068907583157,\n",
       " 0.34977850295849666,\n",
       " 0.5728750249670091,\n",
       " 0.6271204328475908,\n",
       " 0.6077313713885598,\n",
       " 0.09261056345286095,\n",
       " 0.28245664801403597,\n",
       " 0.33276896604965694,\n",
       " 0.22766905754997724,\n",
       " 0.48321599641408874,\n",
       " 0.5187093141189408,\n",
       " 0.5966283095928813,\n",
       " 0.22896134821007297,\n",
       " 0.8966830251921823,\n",
       " 0.5270249392901035,\n",
       " 0.6958548172662506,\n",
       " 0.5806886442677248,\n",
       " 0.5186816711016302,\n",
       " 0.09873842598922379,\n",
       " -0.5320859721428775,\n",
       " -0.6761383285278213,\n",
       " -1.7586530397982496,\n",
       " -1.8768400491750166,\n",
       " 1.0926378044981218,\n",
       " 0.5035801303457473,\n",
       " -2.3064801847226493,\n",
       " -1.967791786977109,\n",
       " -1.5975482095648956,\n",
       " -1.8714264074782607,\n",
       " 0.14064054231382128,\n",
       " 0.27053668179129875,\n",
       " 0.5573572098537715,\n",
       " 0.0066364813652990285,\n",
       " 0.18556920090493972,\n",
       " 0.6570088371474012,\n",
       " 0.3269487891983044,\n",
       " 0.7347430184929051,\n",
       " 1.1060333279636234,\n",
       " 0.8752985268446246,\n",
       " 0.30090584020093886,\n",
       " 0.35766541391628204,\n",
       " 0.18829706097302398,\n",
       " -0.026446861598927084,\n",
       " 0.0489160656608534,\n",
       " 0.3029852658868859,\n",
       " 0.2089513371753529,\n",
       " 0.5568011792180066,\n",
       " 0.7173855645569209,\n",
       " 1.0505332508551963,\n",
       " -0.7876683726169583,\n",
       " -0.6190283652863997,\n",
       " -1.519674053537158,\n",
       " -1.6979636821315967,\n",
       " 0.5836471952117391,\n",
       " 0.21568822821822875,\n",
       " -1.5393577260943652,\n",
       " -1.8898999968060708,\n",
       " -1.584093779163928,\n",
       " -1.2652311809759302,\n",
       " 0.7173164621270081,\n",
       " 1.0922401447866046,\n",
       " 0.8925985627840335,\n",
       " 0.977536523287118,\n",
       " 0.27706180528851454,\n",
       " 0.7633042721101706,\n",
       " 0.9263127919417873,\n",
       " 1.1016137138094588,\n",
       " 0.06690789651389054,\n",
       " 0.4975201549833085,\n",
       " 1.0798425769160735,\n",
       " 0.5890422801234357,\n",
       " -0.03115444388240468,\n",
       " 0.2995876119962241,\n",
       " 0.6788391390950483,\n",
       " 0.28946298569329243,\n",
       " 0.5503990908668984,\n",
       " 1.0170784528230197,\n",
       " 0.2711847452324453,\n",
       " 0.6495109897771447,\n",
       " -0.04821958462494603,\n",
       " -0.5363397290472663,\n",
       " -1.7712771846406357,\n",
       " -2.2177972422306302,\n",
       " 1.0469064576042053,\n",
       " 0.15779490507669525,\n",
       " -1.4018831159506067,\n",
       " -1.300563143829455,\n",
       " -2.3919431994371663,\n",
       " -1.3281066114743805,\n",
       " 0.09883700045044959,\n",
       " 0.7305976254051265,\n",
       " 0.9796835717005051,\n",
       " 1.1266500994496087,\n",
       " 0.2427700429321288,\n",
       " 0.05663659227657489,\n",
       " 0.9958945260015629,\n",
       " 0.42732151222735426,\n",
       " 0.05982702421424481,\n",
       " 0.31183306281452067,\n",
       " 0.06593632493313753,\n",
       " 0.28732208706299284,\n",
       " 0.11049101039321882,\n",
       " 1.038478169974909,\n",
       " 0.7380585759501382,\n",
       " -0.005363781081636914,\n",
       " 0.7834548862300459,\n",
       " 0.0845352713601745,\n",
       " 0.7395152945675819,\n",
       " 0.5428413422238639,\n",
       " -0.23089440286460808,\n",
       " -0.743107080652949,\n",
       " -1.9658302357602342,\n",
       " -1.8828780005759627,\n",
       " 0.47582981399223867,\n",
       " 0.35126302967547507,\n",
       " -1.8512447436379615,\n",
       " -1.2756176091371583,\n",
       " -2.057037568318024,\n",
       " -2.064947516699683,\n",
       " 0.5280508428057663,\n",
       " 0.7204729593232775,\n",
       " 0.6902212077429661,\n",
       " 0.28795740715263346,\n",
       " 1.1045195188179857,\n",
       " 0.7896882188958885,\n",
       " 0.40556501138418205,\n",
       " 0.13706182618364382,\n",
       " 0.5743195431930959,\n",
       " 0.4744208199609179,\n",
       " 0.9443144146029376,\n",
       " 0.91184438162251,\n",
       " 0.3643144179884363,\n",
       " 0.6245842570515926,\n",
       " 0.4554842996439397,\n",
       " 0.31275368658182046,\n",
       " 0.5702781219409988,\n",
       " 0.9030454486537705,\n",
       " 0.5899990364544413,\n",
       " 0.6662316770185601,\n",
       " -0.9713079166914044,\n",
       " -0.963383947150841,\n",
       " -1.4637481329186919,\n",
       " -1.8324201179400808,\n",
       " 0.3313760030316791,\n",
       " 0.6543440354193469,\n",
       " -1.7420218105194927,\n",
       " -1.2603577594941544,\n",
       " -2.10546451999236,\n",
       " -1.975104719570584,\n",
       " 0.9959334031310586,\n",
       " 0.4345707407549138,\n",
       " 0.5523713245106132,\n",
       " 0.1790356028899748,\n",
       " -0.0030392139891148705,\n",
       " 0.09650972985663059,\n",
       " 0.5866338906744327,\n",
       " 0.811139920395395,\n",
       " 0.2916337316920537,\n",
       " 0.42165143503679453,\n",
       " 0.5714741698856515,\n",
       " 0.5569170603027681,\n",
       " 0.12709709354943663,\n",
       " 0.05504615414182505,\n",
       " 1.080667890415154,\n",
       " 1.0383163244173945,\n",
       " 0.3929161012679422,\n",
       " 0.9129047903242096,\n",
       " 0.5991568732304166,\n",
       " 0.4979695571142287,\n",
       " -0.08301399659710033,\n",
       " -0.6918105235891275,\n",
       " -2.1288061925608694,\n",
       " -2.389023495559864,\n",
       " 1.0852389157414368,\n",
       " 1.1338117646304942,\n",
       " -1.6018502407134445,\n",
       " -2.143843665443845,\n",
       " -2.0486467341864816,\n",
       " -1.444461045932454,\n",
       " 0.7186809073645251,\n",
       " 0.4649536129512439,\n",
       " 0.2915089205590722,\n",
       " 0.9405159055095418,\n",
       " -0.015500880980654505,\n",
       " 0.7887558063778612,\n",
       " 0.46658585395265906,\n",
       " 1.1460841299121145,\n",
       " 0.7915421163061339,\n",
       " 0.008108103002962453,\n",
       " 0.006863207353615678,\n",
       " 1.0499576109577882,\n",
       " 1.0019236380475016,\n",
       " 0.5633590387617832,\n",
       " 0.061324732563568546,\n",
       " 0.8890735906556626,\n",
       " 1.0306647098568593,\n",
       " 0.35026888434413234,\n",
       " 0.5295002664272034,\n",
       " 0.17280569187033526,\n",
       " -0.8960705754880255,\n",
       " -0.14504095540732548,\n",
       " -1.7364555854178267,\n",
       " -1.5788637447333107,\n",
       " 0.5170535218698725,\n",
       " 0.10730475151354102,\n",
       " -2.1534960288887692,\n",
       " -1.2708617445229498,\n",
       " -2.386184033336483,\n",
       " -1.7461900882940575,\n",
       " 0.6609819225698984,\n",
       " 0.818163918100293,\n",
       " 0.6008647898437738,\n",
       " 0.1222758450490967,\n",
       " 0.6391055904500275,\n",
       " 0.11126769523499967,\n",
       " 0.6400632037954268,\n",
       " 0.14580038087529468,\n",
       " 0.7680165936030133,\n",
       " 0.4518452371621099,\n",
       " 0.8793587075590076,\n",
       " 0.8668900536634029,\n",
       " 0.030036050481058313,\n",
       " 1.0670254204723246,\n",
       " 0.15634647180672306,\n",
       " 0.7683106881121357,\n",
       " 0.16862247310972087,\n",
       " 0.6918855749228953,\n",
       " 0.741507932641841,\n",
       " 1.033870065700621,\n",
       " -0.8602333347563227,\n",
       " -1.1707882543241608,\n",
       " -1.391346399769342,\n",
       " -1.4464224042717233,\n",
       " 0.7234261289140689,\n",
       " 0.5159346029788341,\n",
       " -1.4553591355461297,\n",
       " -1.3752435740558866,\n",
       " -2.091727644975904,\n",
       " -1.2766760644297923,\n",
       " 0.14737422318844326,\n",
       " 0.017547862761629732,\n",
       " 0.9791222708382983,\n",
       " 0.1060158743145191,\n",
       " 0.17469836928292307,\n",
       " 0.8864198884958593,\n",
       " 0.41589737440035707,\n",
       " 1.0768834853680933,\n",
       " 0.946455151578556,\n",
       " 0.967873890945629,\n",
       " 0.7125185118271012,\n",
       " 1.1436791432512987,\n",
       " 0.23494147409072075,\n",
       " 0.45754508821851025,\n",
       " 1.133678013687862,\n",
       " 1.0955225825253172,\n",
       " 0.3524318688269491,\n",
       " 0.8451643551874249,\n",
       " 0.5793106731663904,\n",
       " 0.4034343800766194,\n",
       " -0.7036843379716404,\n",
       " -0.28247797918398415,\n",
       " -1.2563564473578115,\n",
       " -2.0707973136291358,\n",
       " 0.6123749682766281,\n",
       " 0.9528402589112852,\n",
       " -1.4382371313205724,\n",
       " -2.393029031401042,\n",
       " -2.308542562223475,\n",
       " -2.2850292977064326,\n",
       " -0.026717697080324926,\n",
       " 0.4920879344207808,\n",
       " 0.9083392121307607,\n",
       " 0.13303485127459974,\n",
       " 0.49119719021716374,\n",
       " 0.2647887694118643,\n",
       " 0.9936618174999938,\n",
       " 0.9088867613791867,\n",
       " 0.18015438737964143,\n",
       " 0.019872704918035503,\n",
       " 0.03572116310204754,\n",
       " 0.008612061950185865,\n",
       " 0.18902099047437365,\n",
       " 0.8231386705919601,\n",
       " 0.426319497615572,\n",
       " 0.8787909057086402,\n",
       " 0.8441132397745039,\n",
       " 1.1279618239253273,\n",
       " 0.09435424543884015,\n",
       " 0.5354050979995628,\n",
       " -1.183077981288881,\n",
       " -0.11109023532699254,\n",
       " -2.2911624630713927,\n",
       " -2.2956114335570637,\n",
       " 0.4964080332477578,\n",
       " 0.1627343211755871,\n",
       " -2.1672363318977017,\n",
       " -2.0169270286558683,\n",
       " -2.305199829146375,\n",
       " -1.5909016810540544,\n",
       " 0.9107772137848861,\n",
       " 1.139671062142113,\n",
       " 0.6218599229991578,\n",
       " 1.03420213699878,\n",
       " 0.14567016812520317,\n",
       " 0.27884529007544506,\n",
       " 0.25101201709296944,\n",
       " 0.13434905344157103,\n",
       " 0.9547839569512472,\n",
       " 0.8364774255976556,\n",
       " 0.31340464310283705,\n",
       " 0.39041540039036743,\n",
       " 0.47203836832750756,\n",
       " 0.3050222138522173,\n",
       " -0.01949667182186781,\n",
       " 0.07592412522182873,\n",
       " 0.4505957266849667,\n",
       " 0.9027878365359694,\n",
       " 0.3880424002471314,\n",
       " 0.042187804384390105]"
      ]
     },
     "execution_count": 64,
     "metadata": {},
     "output_type": "execute_result"
    }
   ],
   "source": [
    "drate"
   ]
  },
  {
   "cell_type": "markdown",
   "id": "a3b19b43",
   "metadata": {},
   "source": [
    "### Plotting Box Plot"
   ]
  },
  {
   "cell_type": "code",
   "execution_count": 65,
   "id": "ac105d25",
   "metadata": {},
   "outputs": [
    {
     "data": {
      "text/plain": [
       "{'whiskers': [<matplotlib.lines.Line2D at 0x184c554b390>,\n",
       "  <matplotlib.lines.Line2D at 0x184c696e590>],\n",
       " 'caps': [<matplotlib.lines.Line2D at 0x184c696ef90>,\n",
       "  <matplotlib.lines.Line2D at 0x184c696fa50>],\n",
       " 'boxes': [<matplotlib.lines.Line2D at 0x184c696cd10>],\n",
       " 'medians': [<matplotlib.lines.Line2D at 0x184c6978550>],\n",
       " 'fliers': [<matplotlib.lines.Line2D at 0x184c6978f50>],\n",
       " 'means': []}"
      ]
     },
     "execution_count": 65,
     "metadata": {},
     "output_type": "execute_result"
    },
    {
     "data": {
      "image/png": "[encoded data removed]",
      "text/plain": [
       "<Figure size 640x480 with 1 Axes>"
      ]
     },
     "metadata": {},
     "output_type": "display_data"
    }
   ],
   "source": [
    "plt.boxplot(data[\"Discount Rate (%)\"],vert=False)"
   ]
  },
  {
   "cell_type": "markdown",
   "id": "2b518f35",
   "metadata": {},
   "source": [
    "Calculating IQR"
   ]
  },
  {
   "cell_type": "code",
   "execution_count": 66,
   "id": "afc0149c",
   "metadata": {},
   "outputs": [],
   "source": [
    "q25,q75=np.percentile(data[\"Discount Rate (%)\"],[25,75])"
   ]
  },
  {
   "cell_type": "code",
   "execution_count": 67,
   "id": "b1d03296",
   "metadata": {},
   "outputs": [
    {
     "data": {
      "text/plain": [
       "18.114718477752703"
      ]
     },
     "execution_count": 67,
     "metadata": {},
     "output_type": "execute_result"
    }
   ],
   "source": [
    "q75"
   ]
  },
  {
   "cell_type": "code",
   "execution_count": 68,
   "id": "587963d6",
   "metadata": {},
   "outputs": [
    {
     "data": {
      "text/plain": [
       "13.965062543701741"
      ]
     },
     "execution_count": 68,
     "metadata": {},
     "output_type": "execute_result"
    }
   ],
   "source": [
    "q25"
   ]
  },
  {
   "cell_type": "code",
   "execution_count": 69,
   "id": "6fa38846",
   "metadata": {},
   "outputs": [
    {
     "data": {
      "text/plain": [
       "4.149655934050962"
      ]
     },
     "execution_count": 69,
     "metadata": {},
     "output_type": "execute_result"
    }
   ],
   "source": [
    "q75-q25"
   ]
  },
  {
   "cell_type": "markdown",
   "id": "35b0d6b4",
   "metadata": {},
   "source": [
    "IQR is 4.149655934050962"
   ]
  },
  {
   "cell_type": "markdown",
   "id": "6ff80e16",
   "metadata": {},
   "source": [
    "### Plotting Histogram"
   ]
  },
  {
   "cell_type": "code",
   "execution_count": 70,
   "id": "e12c8cde",
   "metadata": {},
   "outputs": [
    {
     "data": {
      "text/plain": [
       "(array([ 27.,  24.,  29.,  14.,  14.,   6.,  38.,  96., 115.,  87.]),\n",
       " array([ 5.00782219,  6.50628067,  8.00473916,  9.50319765, 11.00165613,\n",
       "        12.50011462, 13.9985731 , 15.49703159, 16.99549007, 18.49394856,\n",
       "        19.99240704]),\n",
       " <BarContainer object of 10 artists>)"
      ]
     },
     "execution_count": 70,
     "metadata": {},
     "output_type": "execute_result"
    },
    {
     "data": {
      "image/png": "[encoded data removed]",
      "text/plain": [
       "<Figure size 640x480 with 1 Axes>"
      ]
     },
     "metadata": {},
     "output_type": "display_data"
    }
   ],
   "source": [
    "plt.hist(data[\"Discount Rate (%)\"])"
   ]
  },
  {
   "cell_type": "markdown",
   "id": "f22f029f",
   "metadata": {},
   "source": [
    "Plotting Histogram for Zscore for Discount Rate (%)"
   ]
  },
  {
   "cell_type": "code",
   "execution_count": 71,
   "id": "a9612a0e",
   "metadata": {},
   "outputs": [
    {
     "data": {
      "text/plain": [
       "(array([ 27.,  24.,  29.,  14.,  14.,   6.,  38.,  96., 115.,  87.]),\n",
       " array([-2.40425876, -2.04922447, -1.69419018, -1.33915589, -0.9841216 ,\n",
       "        -0.62908732, -0.27405303,  0.08098126,  0.43601555,  0.79104984,\n",
       "         1.14608413]),\n",
       " <BarContainer object of 10 artists>)"
      ]
     },
     "execution_count": 71,
     "metadata": {},
     "output_type": "execute_result"
    },
    {
     "data": {
      "image/png": "[encoded data removed]",
      "text/plain": [
       "<Figure size 640x480 with 1 Axes>"
      ]
     },
     "metadata": {},
     "output_type": "display_data"
    }
   ],
   "source": [
    "plt.hist(drate)"
   ]
  },
  {
   "cell_type": "code",
   "execution_count": 72,
   "id": "6762cee8",
   "metadata": {},
   "outputs": [
    {
     "data": {
      "text/plain": [
       "-0.1785407468981699"
      ]
     },
     "execution_count": 72,
     "metadata": {},
     "output_type": "execute_result"
    }
   ],
   "source": [
    "data[\"Discount Rate (%)\"].kurtosis()"
   ]
  },
  {
   "cell_type": "code",
   "execution_count": 73,
   "id": "bbd4dfa5",
   "metadata": {},
   "outputs": [
    {
     "data": {
      "text/plain": [
       "-1.0622943696988825"
      ]
     },
     "execution_count": 73,
     "metadata": {},
     "output_type": "execute_result"
    }
   ],
   "source": [
    "data[\"Discount Rate (%)\"].skew()"
   ]
  },
  {
   "cell_type": "markdown",
   "id": "3e7cb328",
   "metadata": {},
   "source": [
    "#### Inference"
   ]
  },
  {
   "cell_type": "markdown",
   "id": "1de682b7",
   "metadata": {},
   "source": [
    "1.The Discount Rate (%) data  is scewed to the left .This is also supported by -ve Skew value \n",
    "\n",
    "2. There are outliers in the left side of data ."
   ]
  },
  {
   "cell_type": "markdown",
   "id": "50666356",
   "metadata": {},
   "source": [
    "## Discount Amount ( Type Numerical and Continuous)"
   ]
  },
  {
   "cell_type": "code",
   "execution_count": 74,
   "id": "4030c4d3",
   "metadata": {},
   "outputs": [
    {
     "data": {
      "text/plain": [
       "0      21153.498820\n",
       "1      11676.102961\n",
       "2      10657.910157\n",
       "3       8364.074702\n",
       "4       4372.946230\n",
       "           ...     \n",
       "445      402.367873\n",
       "446     2660.896242\n",
       "447      606.897606\n",
       "448      957.201826\n",
       "449      475.332295\n",
       "Name: Discount Amount, Length: 450, dtype: float64"
      ]
     },
     "execution_count": 74,
     "metadata": {},
     "output_type": "execute_result"
    }
   ],
   "source": [
    "data[\"Discount Amount\"]"
   ]
  },
  {
   "cell_type": "code",
   "execution_count": 75,
   "id": "0dad1719",
   "metadata": {},
   "outputs": [
    {
     "data": {
      "text/plain": [
       "3346.499424342415"
      ]
     },
     "execution_count": 75,
     "metadata": {},
     "output_type": "execute_result"
    }
   ],
   "source": [
    "data[\"Discount Amount\"].mean()"
   ]
  },
  {
   "cell_type": "code",
   "execution_count": 76,
   "id": "530f24a5",
   "metadata": {},
   "outputs": [
    {
     "data": {
      "text/plain": [
       "988.9337332382784"
      ]
     },
     "execution_count": 76,
     "metadata": {},
     "output_type": "execute_result"
    }
   ],
   "source": [
    "data[\"Discount Amount\"].median()"
   ]
  },
  {
   "cell_type": "code",
   "execution_count": 77,
   "id": "8e948fc2",
   "metadata": {},
   "outputs": [
    {
     "data": {
      "text/plain": [
       "4509.9029633539985"
      ]
     },
     "execution_count": 77,
     "metadata": {},
     "output_type": "execute_result"
    }
   ],
   "source": [
    "data[\"Discount Amount\"].std()"
   ]
  },
  {
   "cell_type": "code",
   "execution_count": 78,
   "id": "5f83ecd3",
   "metadata": {},
   "outputs": [
    {
     "data": {
      "text/plain": [
       "ModeResult(mode=69.17794228822787, count=1)"
      ]
     },
     "execution_count": 78,
     "metadata": {},
     "output_type": "execute_result"
    }
   ],
   "source": [
    "stats.mode(data[\"Discount Amount\"])"
   ]
  },
  {
   "cell_type": "code",
   "execution_count": 79,
   "id": "6987f471",
   "metadata": {},
   "outputs": [
    {
     "data": {
      "text/plain": [
       "Discount Amount\n",
       "21153.498820    1\n",
       "5297.169083     1\n",
       "3303.849511     1\n",
       "12365.053308    1\n",
       "4845.568296     1\n",
       "               ..\n",
       "1881.585496     1\n",
       "903.739433      1\n",
       "1590.184282     1\n",
       "1047.903783     1\n",
       "475.332295      1\n",
       "Name: count, Length: 450, dtype: int64"
      ]
     },
     "execution_count": 79,
     "metadata": {},
     "output_type": "execute_result"
    }
   ],
   "source": [
    "data[\"Discount Amount\"].value_counts()"
   ]
  },
  {
   "cell_type": "markdown",
   "id": "8a4be1d1",
   "metadata": {},
   "source": [
    "No mode as all values are unique"
   ]
  },
  {
   "cell_type": "markdown",
   "id": "0db46b8c",
   "metadata": {},
   "source": [
    "Z score calculation"
   ]
  },
  {
   "cell_type": "code",
   "execution_count": 80,
   "id": "9390793e",
   "metadata": {},
   "outputs": [],
   "source": [
    "damt=[]"
   ]
  },
  {
   "cell_type": "code",
   "execution_count": 81,
   "id": "f108e3a9",
   "metadata": {},
   "outputs": [],
   "source": [
    "for dm in data[\"Discount Amount\"]:\n",
    "    da=z_score(dm,3346.499424342415,4509.9029633539985)\n",
    "    damt.append(da)"
   ]
  },
  {
   "cell_type": "markdown",
   "id": "7d8fe963",
   "metadata": {},
   "source": [
    "### Plotting Box Plot"
   ]
  },
  {
   "cell_type": "code",
   "execution_count": 82,
   "id": "8e6c0034",
   "metadata": {},
   "outputs": [
    {
     "data": {
      "text/plain": [
       "{'whiskers': [<matplotlib.lines.Line2D at 0x184c6ae3910>,\n",
       "  <matplotlib.lines.Line2D at 0x184c6af4390>],\n",
       " 'caps': [<matplotlib.lines.Line2D at 0x184c6af4f10>,\n",
       "  <matplotlib.lines.Line2D at 0x184c6af59d0>],\n",
       " 'boxes': [<matplotlib.lines.Line2D at 0x184c6a52a50>],\n",
       " 'medians': [<matplotlib.lines.Line2D at 0x184c6af6510>],\n",
       " 'fliers': [<matplotlib.lines.Line2D at 0x184c6af6f90>],\n",
       " 'means': []}"
      ]
     },
     "execution_count": 82,
     "metadata": {},
     "output_type": "execute_result"
    },
    {
     "data": {
      "image/png": "[encoded data removed]",
      "text/plain": [
       "<Figure size 640x480 with 1 Axes>"
      ]
     },
     "metadata": {},
     "output_type": "display_data"
    }
   ],
   "source": [
    "plt.boxplot(data[\"Discount Amount\"],vert=False)"
   ]
  },
  {
   "cell_type": "markdown",
   "id": "aead44fa",
   "metadata": {},
   "source": [
    "Interquartile Range"
   ]
  },
  {
   "cell_type": "code",
   "execution_count": 83,
   "id": "f9ee0b07",
   "metadata": {},
   "outputs": [],
   "source": [
    "iq1,iq3=np.percentile(data[\"Discount Amount\"],[25,75])"
   ]
  },
  {
   "cell_type": "code",
   "execution_count": 84,
   "id": "42c10cf6",
   "metadata": {},
   "outputs": [
    {
     "data": {
      "text/plain": [
       "460.4593038855329"
      ]
     },
     "execution_count": 84,
     "metadata": {},
     "output_type": "execute_result"
    }
   ],
   "source": [
    "iq1"
   ]
  },
  {
   "cell_type": "code",
   "execution_count": 85,
   "id": "ce017385",
   "metadata": {},
   "outputs": [
    {
     "data": {
      "text/plain": [
       "5316.4954266866525"
      ]
     },
     "execution_count": 85,
     "metadata": {},
     "output_type": "execute_result"
    }
   ],
   "source": [
    "iq3"
   ]
  },
  {
   "cell_type": "code",
   "execution_count": 86,
   "id": "f66eb5c7",
   "metadata": {},
   "outputs": [
    {
     "data": {
      "text/plain": [
       "4856.03612280112"
      ]
     },
     "execution_count": 86,
     "metadata": {},
     "output_type": "execute_result"
    }
   ],
   "source": [
    "iq3-iq1   # Interquartile range"
   ]
  },
  {
   "cell_type": "markdown",
   "id": "24377778",
   "metadata": {},
   "source": [
    "Plotting Histogram"
   ]
  },
  {
   "cell_type": "code",
   "execution_count": 87,
   "id": "1a36a253",
   "metadata": {},
   "outputs": [
    {
     "data": {
      "text/plain": [
       "(array([299.,  37.,  42.,  29.,  22.,   8.,   9.,   0.,   2.,   2.]),\n",
       " array([   69.17794229,  2636.06236744,  5202.94679258,  7769.83121773,\n",
       "        10336.71564288, 12903.60006802, 15470.48449317, 18037.36891832,\n",
       "        20604.25334346, 23171.13776861, 25738.02219376]),\n",
       " <BarContainer object of 10 artists>)"
      ]
     },
     "execution_count": 87,
     "metadata": {},
     "output_type": "execute_result"
    },
    {
     "data": {
      "image/png": "[encoded data removed]",
      "text/plain": [
       "<Figure size 640x480 with 1 Axes>"
      ]
     },
     "metadata": {},
     "output_type": "display_data"
    }
   ],
   "source": [
    "plt.hist(data[\"Discount Amount\"])"
   ]
  },
  {
   "cell_type": "markdown",
   "id": "7609990f",
   "metadata": {},
   "source": [
    "Plotting for Zscore"
   ]
  },
  {
   "cell_type": "code",
   "execution_count": 88,
   "id": "9fe9ef43",
   "metadata": {},
   "outputs": [
    {
     "data": {
      "text/plain": [
       "(array([299.,  37.,  42.,  29.,  22.,   8.,   9.,   0.,   2.,   2.]),\n",
       " array([-0.72669446, -0.15752824,  0.41163798,  0.98080421,  1.54997043,\n",
       "         2.11913665,  2.68830287,  3.25746909,  3.82663531,  4.39580153,\n",
       "         4.96496775]),\n",
       " <BarContainer object of 10 artists>)"
      ]
     },
     "execution_count": 88,
     "metadata": {},
     "output_type": "execute_result"
    },
    {
     "data": {
      "image/png": "[encoded data removed]",
      "text/plain": [
       "<Figure size 640x480 with 1 Axes>"
      ]
     },
     "metadata": {},
     "output_type": "display_data"
    }
   ],
   "source": [
    "plt.hist(damt)"
   ]
  },
  {
   "cell_type": "code",
   "execution_count": 89,
   "id": "6d5bf835",
   "metadata": {},
   "outputs": [
    {
     "data": {
      "text/plain": [
       "1.9130377339538271"
      ]
     },
     "execution_count": 89,
     "metadata": {},
     "output_type": "execute_result"
    }
   ],
   "source": [
    "data[\"Discount Amount\"].skew()"
   ]
  },
  {
   "cell_type": "code",
   "execution_count": 90,
   "id": "2f626dc4",
   "metadata": {},
   "outputs": [
    {
     "data": {
      "text/plain": [
       "3.8311859719016343"
      ]
     },
     "execution_count": 90,
     "metadata": {},
     "output_type": "execute_result"
    }
   ],
   "source": [
    "data[\"Discount Amount\"].kurtosis()"
   ]
  },
  {
   "cell_type": "markdown",
   "id": "5440eb9d",
   "metadata": {},
   "source": [
    "### Inference\n",
    "\n",
    "1. There are outliers towards the Right \n",
    "2. The Data is skewed towards the right.\n",
    "3. There is a clear peak observable as indicated by high Kurtosis value"
   ]
  },
  {
   "cell_type": "markdown",
   "id": "2ab5970f",
   "metadata": {},
   "source": [
    "## Net Sales Value ( Type Numerical and Continuous)"
   ]
  },
  {
   "cell_type": "code",
   "execution_count": 91,
   "id": "eb6ffe95",
   "metadata": {},
   "outputs": [
    {
     "data": {
      "text/plain": [
       "30466.336131270138"
      ]
     },
     "execution_count": 91,
     "metadata": {},
     "output_type": "execute_result"
    }
   ],
   "source": [
    "data[\"Net Sales Value\"].mean()"
   ]
  },
  {
   "cell_type": "code",
   "execution_count": 92,
   "id": "903067b7",
   "metadata": {},
   "outputs": [
    {
     "data": {
      "text/plain": [
       "4677.788059301853"
      ]
     },
     "execution_count": 92,
     "metadata": {},
     "output_type": "execute_result"
    }
   ],
   "source": [
    "data[\"Net Sales Value\"].median()"
   ]
  },
  {
   "cell_type": "code",
   "execution_count": 93,
   "id": "33e8944d",
   "metadata": {},
   "outputs": [
    {
     "data": {
      "text/plain": [
       "46358.656624066934"
      ]
     },
     "execution_count": 93,
     "metadata": {},
     "output_type": "execute_result"
    }
   ],
   "source": [
    "data[\"Net Sales Value\"].std()"
   ]
  },
  {
   "cell_type": "code",
   "execution_count": 94,
   "id": "77a5b0de",
   "metadata": {},
   "outputs": [
    {
     "data": {
      "text/plain": [
       "ModeResult(mode=326.97480055470817, count=1)"
      ]
     },
     "execution_count": 94,
     "metadata": {},
     "output_type": "execute_result"
    }
   ],
   "source": [
    "stats.mode(data[\"Net Sales Value\"])"
   ]
  },
  {
   "cell_type": "code",
   "execution_count": 95,
   "id": "58423244",
   "metadata": {},
   "outputs": [
    {
     "data": {
      "text/plain": [
       "Net Sales Value\n",
       "160346.501180    1\n",
       "48802.830917     1\n",
       "50796.150489     1\n",
       "134934.946692    1\n",
       "19454.431704     1\n",
       "                ..\n",
       "8518.414504      1\n",
       "4296.260567      1\n",
       "6805.815718      1\n",
       "5452.096217      1\n",
       "2624.667705      1\n",
       "Name: count, Length: 450, dtype: int64"
      ]
     },
     "execution_count": 95,
     "metadata": {},
     "output_type": "execute_result"
    }
   ],
   "source": [
    "data[\"Net Sales Value\"].value_counts()"
   ]
  },
  {
   "cell_type": "markdown",
   "id": "e442fca3",
   "metadata": {},
   "source": [
    "No mode as all are unique values"
   ]
  },
  {
   "cell_type": "markdown",
   "id": "a83093bb",
   "metadata": {},
   "source": [
    "Calculating Z score"
   ]
  },
  {
   "cell_type": "code",
   "execution_count": 96,
   "id": "eb8f632a",
   "metadata": {},
   "outputs": [],
   "source": [
    "nsv=[]"
   ]
  },
  {
   "cell_type": "code",
   "execution_count": 97,
   "id": "aa0f3b0b",
   "metadata": {},
   "outputs": [],
   "source": [
    "for net in data[\"Net Sales Value\"]:\n",
    "    sa=z_score(net,30466.336131270138,46358.656624066934)\n",
    "    nsv.append(sa)"
   ]
  },
  {
   "cell_type": "markdown",
   "id": "060c33d5",
   "metadata": {},
   "source": [
    "### Plotting Box Plot"
   ]
  },
  {
   "cell_type": "code",
   "execution_count": 98,
   "id": "61b6739f",
   "metadata": {},
   "outputs": [
    {
     "data": {
      "text/plain": [
       "{'whiskers': [<matplotlib.lines.Line2D at 0x184c6b68d50>,\n",
       "  <matplotlib.lines.Line2D at 0x184c6b69950>],\n",
       " 'caps': [<matplotlib.lines.Line2D at 0x184c6b6a550>,\n",
       "  <matplotlib.lines.Line2D at 0x184c6b6af10>],\n",
       " 'boxes': [<matplotlib.lines.Line2D at 0x184c6b68090>],\n",
       " 'medians': [<matplotlib.lines.Line2D at 0x184c6b6b9d0>],\n",
       " 'fliers': [<matplotlib.lines.Line2D at 0x184c6b35110>],\n",
       " 'means': []}"
      ]
     },
     "execution_count": 98,
     "metadata": {},
     "output_type": "execute_result"
    },
    {
     "data": {
      "image/png": "[encoded data removed]",
      "text/plain": [
       "<Figure size 640x480 with 1 Axes>"
      ]
     },
     "metadata": {},
     "output_type": "display_data"
    }
   ],
   "source": [
    "plt.boxplot(data[\"Net Sales Value\"],vert=False)"
   ]
  },
  {
   "cell_type": "markdown",
   "id": "f663acc8",
   "metadata": {},
   "source": [
    "IQR Calculation"
   ]
  },
  {
   "cell_type": "code",
   "execution_count": 99,
   "id": "729130ff",
   "metadata": {},
   "outputs": [],
   "source": [
    "q1,q3=np.percentile(data[\"Net Sales Value\"],[25,75])"
   ]
  },
  {
   "cell_type": "code",
   "execution_count": 100,
   "id": "1422d5ee",
   "metadata": {},
   "outputs": [
    {
     "data": {
      "text/plain": [
       "2202.2086453212287"
      ]
     },
     "execution_count": 100,
     "metadata": {},
     "output_type": "execute_result"
    }
   ],
   "source": [
    "q1"
   ]
  },
  {
   "cell_type": "code",
   "execution_count": 101,
   "id": "1d45e48d",
   "metadata": {},
   "outputs": [
    {
     "data": {
      "text/plain": [
       "47847.91285159138"
      ]
     },
     "execution_count": 101,
     "metadata": {},
     "output_type": "execute_result"
    }
   ],
   "source": [
    "q3"
   ]
  },
  {
   "cell_type": "code",
   "execution_count": 102,
   "id": "c6ec49d8",
   "metadata": {},
   "outputs": [
    {
     "data": {
      "text/plain": [
       "45645.70420627015"
      ]
     },
     "execution_count": 102,
     "metadata": {},
     "output_type": "execute_result"
    }
   ],
   "source": [
    "q3-q1 #IQR"
   ]
  },
  {
   "cell_type": "markdown",
   "id": "81d0c5ef",
   "metadata": {},
   "source": [
    "### Histogram Plotting "
   ]
  },
  {
   "cell_type": "code",
   "execution_count": 103,
   "id": "32b2644e",
   "metadata": {},
   "outputs": [
    {
     "name": "stderr",
     "output_type": "stream",
     "text": [
      "C:\\Users\\amrit\\anaconda3\\Lib\\site-packages\\seaborn\\axisgrid.py:118: UserWarning: The figure layout has changed to tight\n",
      "  self._figure.tight_layout(*args, **kwargs)\n"
     ]
    },
    {
     "data": {
      "text/plain": [
       "<seaborn.axisgrid.FacetGrid at 0x184c58f67d0>"
      ]
     },
     "execution_count": 103,
     "metadata": {},
     "output_type": "execute_result"
    },
    {
     "data": {
      "image/png": "[encoded data removed]",
      "text/plain": [
       "<Figure size 500x500 with 1 Axes>"
      ]
     },
     "metadata": {},
     "output_type": "display_data"
    }
   ],
   "source": [
    "sns.displot(data[\"Net Sales Value\"],kde=True)"
   ]
  },
  {
   "cell_type": "markdown",
   "id": "3fc26cf3",
   "metadata": {},
   "source": [
    "Plotting for Zscore values"
   ]
  },
  {
   "cell_type": "code",
   "execution_count": 104,
   "id": "5b46b04d",
   "metadata": {},
   "outputs": [
    {
     "name": "stderr",
     "output_type": "stream",
     "text": [
      "C:\\Users\\amrit\\anaconda3\\Lib\\site-packages\\seaborn\\axisgrid.py:118: UserWarning: The figure layout has changed to tight\n",
      "  self._figure.tight_layout(*args, **kwargs)\n"
     ]
    },
    {
     "data": {
      "text/plain": [
       "<seaborn.axisgrid.FacetGrid at 0x184c6bd9f90>"
      ]
     },
     "execution_count": 104,
     "metadata": {},
     "output_type": "execute_result"
    },
    {
     "data": {
      "image/png": "[encoded data removed]",
      "text/plain": [
       "<Figure size 500x500 with 1 Axes>"
      ]
     },
     "metadata": {},
     "output_type": "display_data"
    }
   ],
   "source": [
    "sns.displot(nsv,kde=True)"
   ]
  },
  {
   "cell_type": "code",
   "execution_count": 105,
   "id": "0bae06fb",
   "metadata": {},
   "outputs": [
    {
     "data": {
      "text/plain": [
       "1.0124678624199062"
      ]
     },
     "execution_count": 105,
     "metadata": {},
     "output_type": "execute_result"
    }
   ],
   "source": [
    "data[\"Net Sales Value\"].kurtosis()"
   ]
  },
  {
   "cell_type": "code",
   "execution_count": 106,
   "id": "c41fc9e8",
   "metadata": {},
   "outputs": [
    {
     "data": {
      "text/plain": [
       "1.5408217575344376"
      ]
     },
     "execution_count": 106,
     "metadata": {},
     "output_type": "execute_result"
    }
   ],
   "source": [
    "data[\"Net Sales Value\"].skew()"
   ]
  },
  {
   "cell_type": "code",
   "execution_count": 107,
   "id": "4fa58a70",
   "metadata": {},
   "outputs": [
    {
     "data": {
      "text/plain": [
       "<Axes: xlabel='Net Sales Value', ylabel='Density'>"
      ]
     },
     "execution_count": 107,
     "metadata": {},
     "output_type": "execute_result"
    },
    {
     "data": {
      "image/png": "[encoded data removed]",
      "text/plain": [
       "<Figure size 640x480 with 1 Axes>"
      ]
     },
     "metadata": {},
     "output_type": "display_data"
    }
   ],
   "source": [
    "sns.kdeplot(data=data[\"Net Sales Value\"])"
   ]
  },
  {
   "cell_type": "code",
   "execution_count": 213,
   "id": "ba46fcb4",
   "metadata": {},
   "outputs": [
    {
     "data": {
      "text/plain": [
       "1.5408217575344376"
      ]
     },
     "execution_count": 213,
     "metadata": {},
     "output_type": "execute_result"
    }
   ],
   "source": [
    "data['Net Sales Value'].skew()"
   ]
  },
  {
   "cell_type": "code",
   "execution_count": 215,
   "id": "a74a5350",
   "metadata": {},
   "outputs": [
    {
     "data": {
      "text/plain": [
       "1.0124678624199062"
      ]
     },
     "execution_count": 215,
     "metadata": {},
     "output_type": "execute_result"
    }
   ],
   "source": [
    "data['Net Sales Value'].kurtosis()"
   ]
  },
  {
   "cell_type": "markdown",
   "id": "36f6ca5e",
   "metadata": {},
   "source": [
    "Inference\n",
    "There are outliers towards the Right\n",
    "The Data is skewed towards the right.\n",
    "There is a clear peak observable as indicated by high Kurtosis value"
   ]
  },
  {
   "cell_type": "markdown",
   "id": "b33a6c59",
   "metadata": {},
   "source": [
    "### Plotting Ztransform value of all Numerical Columns"
   ]
  },
  {
   "cell_type": "code",
   "execution_count": 113,
   "id": "b62efefd",
   "metadata": {},
   "outputs": [
    {
     "data": {
      "text/plain": [
       "<Axes: ylabel='Density'>"
      ]
     },
     "execution_count": 113,
     "metadata": {},
     "output_type": "execute_result"
    },
    {
     "data": {
      "image/png": "[encoded data removed]",
      "text/plain": [
       "<Figure size 640x480 with 1 Axes>"
      ]
     },
     "metadata": {},
     "output_type": "display_data"
    }
   ],
   "source": [
    "z_sc= pd.DataFrame(list(zip(xc,p,lis,drate,damt,nsv)))     # Creating dataframe using list of individual Z scored\n",
    "z_sc.columns =['Volume', 'Avg Price','total sales value','Discount Rate','discount Amount','net sales value']\n",
    "sns.kdeplot(data=z_sc)"
   ]
  },
  {
   "cell_type": "markdown",
   "id": "9e8708b4",
   "metadata": {},
   "source": [
    "The advantage of Performing Ztransform /Standardization technique on the Colums is though each Cloumn has a different range of values by converting them to Z we can plot them and compare them within a similar scale ."
   ]
  },
  {
   "cell_type": "code",
   "execution_count": 216,
   "id": "aea9132b",
   "metadata": {
    "scrolled": true
   },
   "outputs": [
    {
     "data": {
      "text/plain": [
       "<Axes: ylabel='Density'>"
      ]
     },
     "execution_count": 216,
     "metadata": {},
     "output_type": "execute_result"
    },
    {
     "data": {
      "image/png": "[encoded data removed]",
      "text/plain": [
       "<Figure size 640x480 with 1 Axes>"
      ]
     },
     "metadata": {},
     "output_type": "display_data"
    }
   ],
   "source": [
    "sns.kdeplot(data=xc,label=\"Volume\")  #volume\n",
    "sns.kdeplot(data=p)   #average price\n",
    "sns.kdeplot(data=lis)   #total sales value\n",
    "sns.kdeplot(data=drate)  #discount rate\n",
    "sns.kdeplot(data=damt)  #discount amount\n",
    "sns.kdeplot(data=nsv) #net sales value"
   ]
  },
  {
   "cell_type": "markdown",
   "id": "b465ad2f",
   "metadata": {},
   "source": [
    "### Inference\n",
    "\n",
    "1. Discount rate is scewed to the Left and all other Columns are scewed to the right."
   ]
  },
  {
   "cell_type": "markdown",
   "id": "f403978c",
   "metadata": {},
   "source": [
    "### Categorical Columns"
   ]
  },
  {
   "cell_type": "code",
   "execution_count": 217,
   "id": "56c7ff95",
   "metadata": {},
   "outputs": [],
   "source": [
    "categorical_columns = data.select_dtypes(include=['object']).columns.tolist() # colums with categorical values will have type object "
   ]
  },
  {
   "cell_type": "code",
   "execution_count": 218,
   "id": "91f14212",
   "metadata": {},
   "outputs": [
    {
     "data": {
      "text/html": [
       "<div>\n",
       "<style scoped>\n",
       "    .dataframe tbody tr th:only-of-type {\n",
       "        vertical-align: middle;\n",
       "    }\n",
       "\n",
       "    .dataframe tbody tr th {\n",
       "        vertical-align: top;\n",
       "    }\n",
       "\n",
       "    .dataframe thead th {\n",
       "        text-align: right;\n",
       "    }\n",
       "</style>\n",
       "<table border=\"1\" class=\"dataframe\">\n",
       "  <thead>\n",
       "    <tr style=\"text-align: right;\">\n",
       "      <th></th>\n",
       "      <th>Date</th>\n",
       "      <th>Day</th>\n",
       "      <th>SKU</th>\n",
       "      <th>City</th>\n",
       "      <th>BU</th>\n",
       "      <th>Brand</th>\n",
       "      <th>Model</th>\n",
       "    </tr>\n",
       "  </thead>\n",
       "  <tbody>\n",
       "    <tr>\n",
       "      <th>0</th>\n",
       "      <td>01-04-2021</td>\n",
       "      <td>Thursday</td>\n",
       "      <td>M01</td>\n",
       "      <td>C</td>\n",
       "      <td>Mobiles</td>\n",
       "      <td>RealU</td>\n",
       "      <td>RU-10</td>\n",
       "    </tr>\n",
       "    <tr>\n",
       "      <th>1</th>\n",
       "      <td>01-04-2021</td>\n",
       "      <td>Thursday</td>\n",
       "      <td>M02</td>\n",
       "      <td>C</td>\n",
       "      <td>Mobiles</td>\n",
       "      <td>RealU</td>\n",
       "      <td>RU-9 Plus</td>\n",
       "    </tr>\n",
       "    <tr>\n",
       "      <th>2</th>\n",
       "      <td>01-04-2021</td>\n",
       "      <td>Thursday</td>\n",
       "      <td>M03</td>\n",
       "      <td>C</td>\n",
       "      <td>Mobiles</td>\n",
       "      <td>YouM</td>\n",
       "      <td>YM-99</td>\n",
       "    </tr>\n",
       "    <tr>\n",
       "      <th>3</th>\n",
       "      <td>01-04-2021</td>\n",
       "      <td>Thursday</td>\n",
       "      <td>M04</td>\n",
       "      <td>C</td>\n",
       "      <td>Mobiles</td>\n",
       "      <td>YouM</td>\n",
       "      <td>YM-99 Plus</td>\n",
       "    </tr>\n",
       "    <tr>\n",
       "      <th>4</th>\n",
       "      <td>01-04-2021</td>\n",
       "      <td>Thursday</td>\n",
       "      <td>M05</td>\n",
       "      <td>C</td>\n",
       "      <td>Mobiles</td>\n",
       "      <td>YouM</td>\n",
       "      <td>YM-98</td>\n",
       "    </tr>\n",
       "    <tr>\n",
       "      <th>...</th>\n",
       "      <td>...</td>\n",
       "      <td>...</td>\n",
       "      <td>...</td>\n",
       "      <td>...</td>\n",
       "      <td>...</td>\n",
       "      <td>...</td>\n",
       "      <td>...</td>\n",
       "    </tr>\n",
       "    <tr>\n",
       "      <th>445</th>\n",
       "      <td>15-04-2021</td>\n",
       "      <td>Thursday</td>\n",
       "      <td>L06</td>\n",
       "      <td>C</td>\n",
       "      <td>Lifestyle</td>\n",
       "      <td>Jeera</td>\n",
       "      <td>M-Casuals</td>\n",
       "    </tr>\n",
       "    <tr>\n",
       "      <th>446</th>\n",
       "      <td>15-04-2021</td>\n",
       "      <td>Thursday</td>\n",
       "      <td>L07</td>\n",
       "      <td>C</td>\n",
       "      <td>Lifestyle</td>\n",
       "      <td>Viva</td>\n",
       "      <td>W-Western</td>\n",
       "    </tr>\n",
       "    <tr>\n",
       "      <th>447</th>\n",
       "      <td>15-04-2021</td>\n",
       "      <td>Thursday</td>\n",
       "      <td>L08</td>\n",
       "      <td>C</td>\n",
       "      <td>Lifestyle</td>\n",
       "      <td>Viva</td>\n",
       "      <td>W-Lounge</td>\n",
       "    </tr>\n",
       "    <tr>\n",
       "      <th>448</th>\n",
       "      <td>15-04-2021</td>\n",
       "      <td>Thursday</td>\n",
       "      <td>L09</td>\n",
       "      <td>C</td>\n",
       "      <td>Lifestyle</td>\n",
       "      <td>Jeera</td>\n",
       "      <td>M-Formals</td>\n",
       "    </tr>\n",
       "    <tr>\n",
       "      <th>449</th>\n",
       "      <td>15-04-2021</td>\n",
       "      <td>Thursday</td>\n",
       "      <td>L10</td>\n",
       "      <td>C</td>\n",
       "      <td>Lifestyle</td>\n",
       "      <td>Jeera</td>\n",
       "      <td>M-Shoes</td>\n",
       "    </tr>\n",
       "  </tbody>\n",
       "</table>\n",
       "<p>450 rows × 7 columns</p>\n",
       "</div>"
      ],
      "text/plain": [
       "           Date       Day  SKU City         BU  Brand       Model\n",
       "0    01-04-2021  Thursday  M01    C    Mobiles  RealU       RU-10\n",
       "1    01-04-2021  Thursday  M02    C    Mobiles  RealU   RU-9 Plus\n",
       "2    01-04-2021  Thursday  M03    C    Mobiles   YouM       YM-99\n",
       "3    01-04-2021  Thursday  M04    C    Mobiles   YouM  YM-99 Plus\n",
       "4    01-04-2021  Thursday  M05    C    Mobiles   YouM      YM-98 \n",
       "..          ...       ...  ...  ...        ...    ...         ...\n",
       "445  15-04-2021  Thursday  L06    C  Lifestyle  Jeera   M-Casuals\n",
       "446  15-04-2021  Thursday  L07    C  Lifestyle   Viva   W-Western\n",
       "447  15-04-2021  Thursday  L08    C  Lifestyle   Viva    W-Lounge\n",
       "448  15-04-2021  Thursday  L09    C  Lifestyle  Jeera   M-Formals\n",
       "449  15-04-2021  Thursday  L10    C  Lifestyle  Jeera     M-Shoes\n",
       "\n",
       "[450 rows x 7 columns]"
      ]
     },
     "execution_count": 218,
     "metadata": {},
     "output_type": "execute_result"
    }
   ],
   "source": [
    "cat=pd.DataFrame(data[categorical_columns])  # creating data frame cat with only categorical Columns\n",
    "cat"
   ]
  },
  {
   "cell_type": "markdown",
   "id": "d9173222",
   "metadata": {},
   "source": [
    "Through One Hot encoding we can use Categorical Columns with Models which only accept numerical values.\n",
    "This can help improve Model by factoring in Categorical Columns"
   ]
  },
  {
   "cell_type": "markdown",
   "id": "dbce3381",
   "metadata": {},
   "source": [
    "### Date"
   ]
  },
  {
   "cell_type": "code",
   "execution_count": 235,
   "id": "9ec491ca",
   "metadata": {},
   "outputs": [
    {
     "data": {
      "text/plain": [
       "array(['01-04-2021', '02-04-2021', '03-04-2021', '04-04-2021',\n",
       "       '05-04-2021', '06-04-2021', '07-04-2021', '08-04-2021',\n",
       "       '09-04-2021', '10-04-2021', '11-04-2021', '12-04-2021',\n",
       "       '13-04-2021', '14-04-2021', '15-04-2021'], dtype=object)"
      ]
     },
     "execution_count": 235,
     "metadata": {},
     "output_type": "execute_result"
    }
   ],
   "source": [
    "cat['Date'].unique()\n"
   ]
  },
  {
   "cell_type": "markdown",
   "id": "98d8cb82",
   "metadata": {},
   "source": [
    "15 unique values"
   ]
  },
  {
   "cell_type": "code",
   "execution_count": 236,
   "id": "d35428b7",
   "metadata": {},
   "outputs": [],
   "source": [
    "d=pd.DataFrame(cat['Date'].value_counts())"
   ]
  },
  {
   "cell_type": "markdown",
   "id": "5a69bcdb",
   "metadata": {},
   "source": [
    "All 15 have equal count of 30"
   ]
  },
  {
   "cell_type": "code",
   "execution_count": 237,
   "id": "4ec816f6",
   "metadata": {},
   "outputs": [
    {
     "name": "stdout",
     "output_type": "stream",
     "text": [
      "<class 'pandas.core.frame.DataFrame'>\n",
      "Index: 15 entries, 01-04-2021 to 15-04-2021\n",
      "Data columns (total 1 columns):\n",
      " #   Column  Non-Null Count  Dtype\n",
      "---  ------  --------------  -----\n",
      " 0   count   15 non-null     int64\n",
      "dtypes: int64(1)\n",
      "memory usage: 240.0+ bytes\n"
     ]
    }
   ],
   "source": [
    "d.info()"
   ]
  },
  {
   "cell_type": "code",
   "execution_count": 238,
   "id": "429d221e",
   "metadata": {},
   "outputs": [
    {
     "data": {
      "text/plain": [
       "<Axes: xlabel='Date'>"
      ]
     },
     "execution_count": 238,
     "metadata": {},
     "output_type": "execute_result"
    },
    {
     "data": {
      "image/png": "[encoded data removed]",
      "text/plain": [
       "<Figure size 2000x500 with 1 Axes>"
      ]
     },
     "metadata": {},
     "output_type": "display_data"
    }
   ],
   "source": [
    "fig = plt.figure(figsize = (20, 5))\n",
    "cat['Date'].value_counts().plot(kind='bar')"
   ]
  },
  {
   "cell_type": "code",
   "execution_count": 239,
   "id": "27733e71",
   "metadata": {},
   "outputs": [],
   "source": [
    "one_hot=pd.get_dummies(cat['Date'],dtype=int)"
   ]
  },
  {
   "cell_type": "code",
   "execution_count": 240,
   "id": "b96c8367",
   "metadata": {},
   "outputs": [
    {
     "data": {
      "text/html": [
       "<div>\n",
       "<style scoped>\n",
       "    .dataframe tbody tr th:only-of-type {\n",
       "        vertical-align: middle;\n",
       "    }\n",
       "\n",
       "    .dataframe tbody tr th {\n",
       "        vertical-align: top;\n",
       "    }\n",
       "\n",
       "    .dataframe thead th {\n",
       "        text-align: right;\n",
       "    }\n",
       "</style>\n",
       "<table border=\"1\" class=\"dataframe\">\n",
       "  <thead>\n",
       "    <tr style=\"text-align: right;\">\n",
       "      <th></th>\n",
       "      <th>01-04-2021</th>\n",
       "      <th>02-04-2021</th>\n",
       "      <th>03-04-2021</th>\n",
       "      <th>04-04-2021</th>\n",
       "      <th>05-04-2021</th>\n",
       "      <th>06-04-2021</th>\n",
       "      <th>07-04-2021</th>\n",
       "      <th>08-04-2021</th>\n",
       "      <th>09-04-2021</th>\n",
       "      <th>10-04-2021</th>\n",
       "      <th>11-04-2021</th>\n",
       "      <th>12-04-2021</th>\n",
       "      <th>13-04-2021</th>\n",
       "      <th>14-04-2021</th>\n",
       "      <th>15-04-2021</th>\n",
       "    </tr>\n",
       "  </thead>\n",
       "  <tbody>\n",
       "    <tr>\n",
       "      <th>0</th>\n",
       "      <td>1</td>\n",
       "      <td>0</td>\n",
       "      <td>0</td>\n",
       "      <td>0</td>\n",
       "      <td>0</td>\n",
       "      <td>0</td>\n",
       "      <td>0</td>\n",
       "      <td>0</td>\n",
       "      <td>0</td>\n",
       "      <td>0</td>\n",
       "      <td>0</td>\n",
       "      <td>0</td>\n",
       "      <td>0</td>\n",
       "      <td>0</td>\n",
       "      <td>0</td>\n",
       "    </tr>\n",
       "    <tr>\n",
       "      <th>1</th>\n",
       "      <td>1</td>\n",
       "      <td>0</td>\n",
       "      <td>0</td>\n",
       "      <td>0</td>\n",
       "      <td>0</td>\n",
       "      <td>0</td>\n",
       "      <td>0</td>\n",
       "      <td>0</td>\n",
       "      <td>0</td>\n",
       "      <td>0</td>\n",
       "      <td>0</td>\n",
       "      <td>0</td>\n",
       "      <td>0</td>\n",
       "      <td>0</td>\n",
       "      <td>0</td>\n",
       "    </tr>\n",
       "    <tr>\n",
       "      <th>2</th>\n",
       "      <td>1</td>\n",
       "      <td>0</td>\n",
       "      <td>0</td>\n",
       "      <td>0</td>\n",
       "      <td>0</td>\n",
       "      <td>0</td>\n",
       "      <td>0</td>\n",
       "      <td>0</td>\n",
       "      <td>0</td>\n",
       "      <td>0</td>\n",
       "      <td>0</td>\n",
       "      <td>0</td>\n",
       "      <td>0</td>\n",
       "      <td>0</td>\n",
       "      <td>0</td>\n",
       "    </tr>\n",
       "    <tr>\n",
       "      <th>3</th>\n",
       "      <td>1</td>\n",
       "      <td>0</td>\n",
       "      <td>0</td>\n",
       "      <td>0</td>\n",
       "      <td>0</td>\n",
       "      <td>0</td>\n",
       "      <td>0</td>\n",
       "      <td>0</td>\n",
       "      <td>0</td>\n",
       "      <td>0</td>\n",
       "      <td>0</td>\n",
       "      <td>0</td>\n",
       "      <td>0</td>\n",
       "      <td>0</td>\n",
       "      <td>0</td>\n",
       "    </tr>\n",
       "    <tr>\n",
       "      <th>4</th>\n",
       "      <td>1</td>\n",
       "      <td>0</td>\n",
       "      <td>0</td>\n",
       "      <td>0</td>\n",
       "      <td>0</td>\n",
       "      <td>0</td>\n",
       "      <td>0</td>\n",
       "      <td>0</td>\n",
       "      <td>0</td>\n",
       "      <td>0</td>\n",
       "      <td>0</td>\n",
       "      <td>0</td>\n",
       "      <td>0</td>\n",
       "      <td>0</td>\n",
       "      <td>0</td>\n",
       "    </tr>\n",
       "    <tr>\n",
       "      <th>...</th>\n",
       "      <td>...</td>\n",
       "      <td>...</td>\n",
       "      <td>...</td>\n",
       "      <td>...</td>\n",
       "      <td>...</td>\n",
       "      <td>...</td>\n",
       "      <td>...</td>\n",
       "      <td>...</td>\n",
       "      <td>...</td>\n",
       "      <td>...</td>\n",
       "      <td>...</td>\n",
       "      <td>...</td>\n",
       "      <td>...</td>\n",
       "      <td>...</td>\n",
       "      <td>...</td>\n",
       "    </tr>\n",
       "    <tr>\n",
       "      <th>445</th>\n",
       "      <td>0</td>\n",
       "      <td>0</td>\n",
       "      <td>0</td>\n",
       "      <td>0</td>\n",
       "      <td>0</td>\n",
       "      <td>0</td>\n",
       "      <td>0</td>\n",
       "      <td>0</td>\n",
       "      <td>0</td>\n",
       "      <td>0</td>\n",
       "      <td>0</td>\n",
       "      <td>0</td>\n",
       "      <td>0</td>\n",
       "      <td>0</td>\n",
       "      <td>1</td>\n",
       "    </tr>\n",
       "    <tr>\n",
       "      <th>446</th>\n",
       "      <td>0</td>\n",
       "      <td>0</td>\n",
       "      <td>0</td>\n",
       "      <td>0</td>\n",
       "      <td>0</td>\n",
       "      <td>0</td>\n",
       "      <td>0</td>\n",
       "      <td>0</td>\n",
       "      <td>0</td>\n",
       "      <td>0</td>\n",
       "      <td>0</td>\n",
       "      <td>0</td>\n",
       "      <td>0</td>\n",
       "      <td>0</td>\n",
       "      <td>1</td>\n",
       "    </tr>\n",
       "    <tr>\n",
       "      <th>447</th>\n",
       "      <td>0</td>\n",
       "      <td>0</td>\n",
       "      <td>0</td>\n",
       "      <td>0</td>\n",
       "      <td>0</td>\n",
       "      <td>0</td>\n",
       "      <td>0</td>\n",
       "      <td>0</td>\n",
       "      <td>0</td>\n",
       "      <td>0</td>\n",
       "      <td>0</td>\n",
       "      <td>0</td>\n",
       "      <td>0</td>\n",
       "      <td>0</td>\n",
       "      <td>1</td>\n",
       "    </tr>\n",
       "    <tr>\n",
       "      <th>448</th>\n",
       "      <td>0</td>\n",
       "      <td>0</td>\n",
       "      <td>0</td>\n",
       "      <td>0</td>\n",
       "      <td>0</td>\n",
       "      <td>0</td>\n",
       "      <td>0</td>\n",
       "      <td>0</td>\n",
       "      <td>0</td>\n",
       "      <td>0</td>\n",
       "      <td>0</td>\n",
       "      <td>0</td>\n",
       "      <td>0</td>\n",
       "      <td>0</td>\n",
       "      <td>1</td>\n",
       "    </tr>\n",
       "    <tr>\n",
       "      <th>449</th>\n",
       "      <td>0</td>\n",
       "      <td>0</td>\n",
       "      <td>0</td>\n",
       "      <td>0</td>\n",
       "      <td>0</td>\n",
       "      <td>0</td>\n",
       "      <td>0</td>\n",
       "      <td>0</td>\n",
       "      <td>0</td>\n",
       "      <td>0</td>\n",
       "      <td>0</td>\n",
       "      <td>0</td>\n",
       "      <td>0</td>\n",
       "      <td>0</td>\n",
       "      <td>1</td>\n",
       "    </tr>\n",
       "  </tbody>\n",
       "</table>\n",
       "<p>450 rows × 15 columns</p>\n",
       "</div>"
      ],
      "text/plain": [
       "     01-04-2021  02-04-2021  03-04-2021  04-04-2021  05-04-2021  06-04-2021  \\\n",
       "0             1           0           0           0           0           0   \n",
       "1             1           0           0           0           0           0   \n",
       "2             1           0           0           0           0           0   \n",
       "3             1           0           0           0           0           0   \n",
       "4             1           0           0           0           0           0   \n",
       "..          ...         ...         ...         ...         ...         ...   \n",
       "445           0           0           0           0           0           0   \n",
       "446           0           0           0           0           0           0   \n",
       "447           0           0           0           0           0           0   \n",
       "448           0           0           0           0           0           0   \n",
       "449           0           0           0           0           0           0   \n",
       "\n",
       "     07-04-2021  08-04-2021  09-04-2021  10-04-2021  11-04-2021  12-04-2021  \\\n",
       "0             0           0           0           0           0           0   \n",
       "1             0           0           0           0           0           0   \n",
       "2             0           0           0           0           0           0   \n",
       "3             0           0           0           0           0           0   \n",
       "4             0           0           0           0           0           0   \n",
       "..          ...         ...         ...         ...         ...         ...   \n",
       "445           0           0           0           0           0           0   \n",
       "446           0           0           0           0           0           0   \n",
       "447           0           0           0           0           0           0   \n",
       "448           0           0           0           0           0           0   \n",
       "449           0           0           0           0           0           0   \n",
       "\n",
       "     13-04-2021  14-04-2021  15-04-2021  \n",
       "0             0           0           0  \n",
       "1             0           0           0  \n",
       "2             0           0           0  \n",
       "3             0           0           0  \n",
       "4             0           0           0  \n",
       "..          ...         ...         ...  \n",
       "445           0           0           1  \n",
       "446           0           0           1  \n",
       "447           0           0           1  \n",
       "448           0           0           1  \n",
       "449           0           0           1  \n",
       "\n",
       "[450 rows x 15 columns]"
      ]
     },
     "execution_count": 240,
     "metadata": {},
     "output_type": "execute_result"
    }
   ],
   "source": [
    "one_hot"
   ]
  },
  {
   "cell_type": "markdown",
   "id": "d2f6ead2",
   "metadata": {},
   "source": [
    "### Day ( Categorical)"
   ]
  },
  {
   "cell_type": "code",
   "execution_count": 241,
   "id": "a89cddd1",
   "metadata": {},
   "outputs": [
    {
     "data": {
      "text/plain": [
       "array(['Thursday', 'Friday', 'Saturday', 'Sunday', 'Monday', 'Tuesday',\n",
       "       'Wednesday'], dtype=object)"
      ]
     },
     "execution_count": 241,
     "metadata": {},
     "output_type": "execute_result"
    }
   ],
   "source": [
    "cat[\"Day\"].unique()"
   ]
  },
  {
   "cell_type": "code",
   "execution_count": 242,
   "id": "f6b42937",
   "metadata": {},
   "outputs": [
    {
     "data": {
      "text/plain": [
       "Day\n",
       "Thursday     90\n",
       "Friday       60\n",
       "Saturday     60\n",
       "Sunday       60\n",
       "Monday       60\n",
       "Tuesday      60\n",
       "Wednesday    60\n",
       "Name: count, dtype: int64"
      ]
     },
     "execution_count": 242,
     "metadata": {},
     "output_type": "execute_result"
    }
   ],
   "source": [
    "cat[\"Day\"].value_counts()"
   ]
  },
  {
   "cell_type": "code",
   "execution_count": 243,
   "id": "bdb868bb",
   "metadata": {},
   "outputs": [
    {
     "data": {
      "text/plain": [
       "<Axes: xlabel='Day'>"
      ]
     },
     "execution_count": 243,
     "metadata": {},
     "output_type": "execute_result"
    },
    {
     "data": {
      "image/png": "[encoded data removed]",
      "text/plain": [
       "<Figure size 2000x600 with 1 Axes>"
      ]
     },
     "metadata": {},
     "output_type": "display_data"
    }
   ],
   "source": [
    "fig = plt.figure(figsize = (20, 6))\n",
    "cat['Day'].value_counts().plot(kind='bar')"
   ]
  },
  {
   "cell_type": "markdown",
   "id": "8a340195",
   "metadata": {},
   "source": [
    "Thursday has highest frequency of 90 , all other days have same frequency of 60"
   ]
  },
  {
   "cell_type": "code",
   "execution_count": 244,
   "id": "ab639660",
   "metadata": {},
   "outputs": [
    {
     "data": {
      "text/html": [
       "<div>\n",
       "<style scoped>\n",
       "    .dataframe tbody tr th:only-of-type {\n",
       "        vertical-align: middle;\n",
       "    }\n",
       "\n",
       "    .dataframe tbody tr th {\n",
       "        vertical-align: top;\n",
       "    }\n",
       "\n",
       "    .dataframe thead th {\n",
       "        text-align: right;\n",
       "    }\n",
       "</style>\n",
       "<table border=\"1\" class=\"dataframe\">\n",
       "  <thead>\n",
       "    <tr style=\"text-align: right;\">\n",
       "      <th></th>\n",
       "      <th>Friday</th>\n",
       "      <th>Monday</th>\n",
       "      <th>Saturday</th>\n",
       "      <th>Sunday</th>\n",
       "      <th>Thursday</th>\n",
       "      <th>Tuesday</th>\n",
       "      <th>Wednesday</th>\n",
       "    </tr>\n",
       "  </thead>\n",
       "  <tbody>\n",
       "    <tr>\n",
       "      <th>0</th>\n",
       "      <td>0</td>\n",
       "      <td>0</td>\n",
       "      <td>0</td>\n",
       "      <td>0</td>\n",
       "      <td>1</td>\n",
       "      <td>0</td>\n",
       "      <td>0</td>\n",
       "    </tr>\n",
       "    <tr>\n",
       "      <th>1</th>\n",
       "      <td>0</td>\n",
       "      <td>0</td>\n",
       "      <td>0</td>\n",
       "      <td>0</td>\n",
       "      <td>1</td>\n",
       "      <td>0</td>\n",
       "      <td>0</td>\n",
       "    </tr>\n",
       "    <tr>\n",
       "      <th>2</th>\n",
       "      <td>0</td>\n",
       "      <td>0</td>\n",
       "      <td>0</td>\n",
       "      <td>0</td>\n",
       "      <td>1</td>\n",
       "      <td>0</td>\n",
       "      <td>0</td>\n",
       "    </tr>\n",
       "    <tr>\n",
       "      <th>3</th>\n",
       "      <td>0</td>\n",
       "      <td>0</td>\n",
       "      <td>0</td>\n",
       "      <td>0</td>\n",
       "      <td>1</td>\n",
       "      <td>0</td>\n",
       "      <td>0</td>\n",
       "    </tr>\n",
       "    <tr>\n",
       "      <th>4</th>\n",
       "      <td>0</td>\n",
       "      <td>0</td>\n",
       "      <td>0</td>\n",
       "      <td>0</td>\n",
       "      <td>1</td>\n",
       "      <td>0</td>\n",
       "      <td>0</td>\n",
       "    </tr>\n",
       "    <tr>\n",
       "      <th>...</th>\n",
       "      <td>...</td>\n",
       "      <td>...</td>\n",
       "      <td>...</td>\n",
       "      <td>...</td>\n",
       "      <td>...</td>\n",
       "      <td>...</td>\n",
       "      <td>...</td>\n",
       "    </tr>\n",
       "    <tr>\n",
       "      <th>445</th>\n",
       "      <td>0</td>\n",
       "      <td>0</td>\n",
       "      <td>0</td>\n",
       "      <td>0</td>\n",
       "      <td>1</td>\n",
       "      <td>0</td>\n",
       "      <td>0</td>\n",
       "    </tr>\n",
       "    <tr>\n",
       "      <th>446</th>\n",
       "      <td>0</td>\n",
       "      <td>0</td>\n",
       "      <td>0</td>\n",
       "      <td>0</td>\n",
       "      <td>1</td>\n",
       "      <td>0</td>\n",
       "      <td>0</td>\n",
       "    </tr>\n",
       "    <tr>\n",
       "      <th>447</th>\n",
       "      <td>0</td>\n",
       "      <td>0</td>\n",
       "      <td>0</td>\n",
       "      <td>0</td>\n",
       "      <td>1</td>\n",
       "      <td>0</td>\n",
       "      <td>0</td>\n",
       "    </tr>\n",
       "    <tr>\n",
       "      <th>448</th>\n",
       "      <td>0</td>\n",
       "      <td>0</td>\n",
       "      <td>0</td>\n",
       "      <td>0</td>\n",
       "      <td>1</td>\n",
       "      <td>0</td>\n",
       "      <td>0</td>\n",
       "    </tr>\n",
       "    <tr>\n",
       "      <th>449</th>\n",
       "      <td>0</td>\n",
       "      <td>0</td>\n",
       "      <td>0</td>\n",
       "      <td>0</td>\n",
       "      <td>1</td>\n",
       "      <td>0</td>\n",
       "      <td>0</td>\n",
       "    </tr>\n",
       "  </tbody>\n",
       "</table>\n",
       "<p>450 rows × 7 columns</p>\n",
       "</div>"
      ],
      "text/plain": [
       "     Friday  Monday  Saturday  Sunday  Thursday  Tuesday  Wednesday\n",
       "0         0       0         0       0         1        0          0\n",
       "1         0       0         0       0         1        0          0\n",
       "2         0       0         0       0         1        0          0\n",
       "3         0       0         0       0         1        0          0\n",
       "4         0       0         0       0         1        0          0\n",
       "..      ...     ...       ...     ...       ...      ...        ...\n",
       "445       0       0         0       0         1        0          0\n",
       "446       0       0         0       0         1        0          0\n",
       "447       0       0         0       0         1        0          0\n",
       "448       0       0         0       0         1        0          0\n",
       "449       0       0         0       0         1        0          0\n",
       "\n",
       "[450 rows x 7 columns]"
      ]
     },
     "execution_count": 244,
     "metadata": {},
     "output_type": "execute_result"
    }
   ],
   "source": [
    "one_hotDay=pd.get_dummies(cat[\"Day\"],dtype=int)\n",
    "one_hotDay"
   ]
  },
  {
   "cell_type": "markdown",
   "id": "129e84cd",
   "metadata": {},
   "source": [
    "### SKU\t"
   ]
  },
  {
   "cell_type": "code",
   "execution_count": 245,
   "id": "ea25a4bb",
   "metadata": {},
   "outputs": [
    {
     "data": {
      "text/plain": [
       "(array(['M01', 'M02', 'M03', 'M04', 'M05', 'M06', 'M07', 'M08', 'M09',\n",
       "        'M10', 'F01', 'F02', 'F03', 'F04', 'F05', 'F06', 'F07', 'F08',\n",
       "        'F09', 'F10', 'L01', 'L02', 'L03', 'L04', 'L05', 'L06', 'L07',\n",
       "        'L08', 'L09', 'L10'], dtype=object),\n",
       " SKU\n",
       " M01    15\n",
       " M02    15\n",
       " L09    15\n",
       " L08    15\n",
       " L07    15\n",
       " L06    15\n",
       " L05    15\n",
       " L04    15\n",
       " L03    15\n",
       " L02    15\n",
       " L01    15\n",
       " F10    15\n",
       " F09    15\n",
       " F08    15\n",
       " F07    15\n",
       " F06    15\n",
       " F05    15\n",
       " F04    15\n",
       " F03    15\n",
       " F02    15\n",
       " F01    15\n",
       " M10    15\n",
       " M09    15\n",
       " M08    15\n",
       " M07    15\n",
       " M06    15\n",
       " M05    15\n",
       " M04    15\n",
       " M03    15\n",
       " L10    15\n",
       " Name: count, dtype: int64)"
      ]
     },
     "execution_count": 245,
     "metadata": {},
     "output_type": "execute_result"
    }
   ],
   "source": [
    "cat['SKU'].unique() , cat['SKU'].value_counts()"
   ]
  },
  {
   "cell_type": "code",
   "execution_count": 246,
   "id": "3e2883a8",
   "metadata": {},
   "outputs": [
    {
     "data": {
      "text/plain": [
       "<Axes: xlabel='SKU'>"
      ]
     },
     "execution_count": 246,
     "metadata": {},
     "output_type": "execute_result"
    },
    {
     "data": {
      "image/png": "[encoded data removed]",
      "text/plain": [
       "<Figure size 2000x600 with 1 Axes>"
      ]
     },
     "metadata": {},
     "output_type": "display_data"
    }
   ],
   "source": [
    "fig = plt.figure(figsize = (20, 6))\n",
    "cat['SKU'].value_counts().plot(kind='bar')"
   ]
  },
  {
   "cell_type": "code",
   "execution_count": 247,
   "id": "c58cf29e",
   "metadata": {},
   "outputs": [
    {
     "data": {
      "text/html": [
       "<div>\n",
       "<style scoped>\n",
       "    .dataframe tbody tr th:only-of-type {\n",
       "        vertical-align: middle;\n",
       "    }\n",
       "\n",
       "    .dataframe tbody tr th {\n",
       "        vertical-align: top;\n",
       "    }\n",
       "\n",
       "    .dataframe thead th {\n",
       "        text-align: right;\n",
       "    }\n",
       "</style>\n",
       "<table border=\"1\" class=\"dataframe\">\n",
       "  <thead>\n",
       "    <tr style=\"text-align: right;\">\n",
       "      <th></th>\n",
       "      <th>F01</th>\n",
       "      <th>F02</th>\n",
       "      <th>F03</th>\n",
       "      <th>F04</th>\n",
       "      <th>F05</th>\n",
       "      <th>F06</th>\n",
       "      <th>F07</th>\n",
       "      <th>F08</th>\n",
       "      <th>F09</th>\n",
       "      <th>F10</th>\n",
       "      <th>...</th>\n",
       "      <th>M01</th>\n",
       "      <th>M02</th>\n",
       "      <th>M03</th>\n",
       "      <th>M04</th>\n",
       "      <th>M05</th>\n",
       "      <th>M06</th>\n",
       "      <th>M07</th>\n",
       "      <th>M08</th>\n",
       "      <th>M09</th>\n",
       "      <th>M10</th>\n",
       "    </tr>\n",
       "  </thead>\n",
       "  <tbody>\n",
       "    <tr>\n",
       "      <th>0</th>\n",
       "      <td>0</td>\n",
       "      <td>0</td>\n",
       "      <td>0</td>\n",
       "      <td>0</td>\n",
       "      <td>0</td>\n",
       "      <td>0</td>\n",
       "      <td>0</td>\n",
       "      <td>0</td>\n",
       "      <td>0</td>\n",
       "      <td>0</td>\n",
       "      <td>...</td>\n",
       "      <td>1</td>\n",
       "      <td>0</td>\n",
       "      <td>0</td>\n",
       "      <td>0</td>\n",
       "      <td>0</td>\n",
       "      <td>0</td>\n",
       "      <td>0</td>\n",
       "      <td>0</td>\n",
       "      <td>0</td>\n",
       "      <td>0</td>\n",
       "    </tr>\n",
       "    <tr>\n",
       "      <th>1</th>\n",
       "      <td>0</td>\n",
       "      <td>0</td>\n",
       "      <td>0</td>\n",
       "      <td>0</td>\n",
       "      <td>0</td>\n",
       "      <td>0</td>\n",
       "      <td>0</td>\n",
       "      <td>0</td>\n",
       "      <td>0</td>\n",
       "      <td>0</td>\n",
       "      <td>...</td>\n",
       "      <td>0</td>\n",
       "      <td>1</td>\n",
       "      <td>0</td>\n",
       "      <td>0</td>\n",
       "      <td>0</td>\n",
       "      <td>0</td>\n",
       "      <td>0</td>\n",
       "      <td>0</td>\n",
       "      <td>0</td>\n",
       "      <td>0</td>\n",
       "    </tr>\n",
       "    <tr>\n",
       "      <th>2</th>\n",
       "      <td>0</td>\n",
       "      <td>0</td>\n",
       "      <td>0</td>\n",
       "      <td>0</td>\n",
       "      <td>0</td>\n",
       "      <td>0</td>\n",
       "      <td>0</td>\n",
       "      <td>0</td>\n",
       "      <td>0</td>\n",
       "      <td>0</td>\n",
       "      <td>...</td>\n",
       "      <td>0</td>\n",
       "      <td>0</td>\n",
       "      <td>1</td>\n",
       "      <td>0</td>\n",
       "      <td>0</td>\n",
       "      <td>0</td>\n",
       "      <td>0</td>\n",
       "      <td>0</td>\n",
       "      <td>0</td>\n",
       "      <td>0</td>\n",
       "    </tr>\n",
       "    <tr>\n",
       "      <th>3</th>\n",
       "      <td>0</td>\n",
       "      <td>0</td>\n",
       "      <td>0</td>\n",
       "      <td>0</td>\n",
       "      <td>0</td>\n",
       "      <td>0</td>\n",
       "      <td>0</td>\n",
       "      <td>0</td>\n",
       "      <td>0</td>\n",
       "      <td>0</td>\n",
       "      <td>...</td>\n",
       "      <td>0</td>\n",
       "      <td>0</td>\n",
       "      <td>0</td>\n",
       "      <td>1</td>\n",
       "      <td>0</td>\n",
       "      <td>0</td>\n",
       "      <td>0</td>\n",
       "      <td>0</td>\n",
       "      <td>0</td>\n",
       "      <td>0</td>\n",
       "    </tr>\n",
       "    <tr>\n",
       "      <th>4</th>\n",
       "      <td>0</td>\n",
       "      <td>0</td>\n",
       "      <td>0</td>\n",
       "      <td>0</td>\n",
       "      <td>0</td>\n",
       "      <td>0</td>\n",
       "      <td>0</td>\n",
       "      <td>0</td>\n",
       "      <td>0</td>\n",
       "      <td>0</td>\n",
       "      <td>...</td>\n",
       "      <td>0</td>\n",
       "      <td>0</td>\n",
       "      <td>0</td>\n",
       "      <td>0</td>\n",
       "      <td>1</td>\n",
       "      <td>0</td>\n",
       "      <td>0</td>\n",
       "      <td>0</td>\n",
       "      <td>0</td>\n",
       "      <td>0</td>\n",
       "    </tr>\n",
       "    <tr>\n",
       "      <th>...</th>\n",
       "      <td>...</td>\n",
       "      <td>...</td>\n",
       "      <td>...</td>\n",
       "      <td>...</td>\n",
       "      <td>...</td>\n",
       "      <td>...</td>\n",
       "      <td>...</td>\n",
       "      <td>...</td>\n",
       "      <td>...</td>\n",
       "      <td>...</td>\n",
       "      <td>...</td>\n",
       "      <td>...</td>\n",
       "      <td>...</td>\n",
       "      <td>...</td>\n",
       "      <td>...</td>\n",
       "      <td>...</td>\n",
       "      <td>...</td>\n",
       "      <td>...</td>\n",
       "      <td>...</td>\n",
       "      <td>...</td>\n",
       "      <td>...</td>\n",
       "    </tr>\n",
       "    <tr>\n",
       "      <th>445</th>\n",
       "      <td>0</td>\n",
       "      <td>0</td>\n",
       "      <td>0</td>\n",
       "      <td>0</td>\n",
       "      <td>0</td>\n",
       "      <td>0</td>\n",
       "      <td>0</td>\n",
       "      <td>0</td>\n",
       "      <td>0</td>\n",
       "      <td>0</td>\n",
       "      <td>...</td>\n",
       "      <td>0</td>\n",
       "      <td>0</td>\n",
       "      <td>0</td>\n",
       "      <td>0</td>\n",
       "      <td>0</td>\n",
       "      <td>0</td>\n",
       "      <td>0</td>\n",
       "      <td>0</td>\n",
       "      <td>0</td>\n",
       "      <td>0</td>\n",
       "    </tr>\n",
       "    <tr>\n",
       "      <th>446</th>\n",
       "      <td>0</td>\n",
       "      <td>0</td>\n",
       "      <td>0</td>\n",
       "      <td>0</td>\n",
       "      <td>0</td>\n",
       "      <td>0</td>\n",
       "      <td>0</td>\n",
       "      <td>0</td>\n",
       "      <td>0</td>\n",
       "      <td>0</td>\n",
       "      <td>...</td>\n",
       "      <td>0</td>\n",
       "      <td>0</td>\n",
       "      <td>0</td>\n",
       "      <td>0</td>\n",
       "      <td>0</td>\n",
       "      <td>0</td>\n",
       "      <td>0</td>\n",
       "      <td>0</td>\n",
       "      <td>0</td>\n",
       "      <td>0</td>\n",
       "    </tr>\n",
       "    <tr>\n",
       "      <th>447</th>\n",
       "      <td>0</td>\n",
       "      <td>0</td>\n",
       "      <td>0</td>\n",
       "      <td>0</td>\n",
       "      <td>0</td>\n",
       "      <td>0</td>\n",
       "      <td>0</td>\n",
       "      <td>0</td>\n",
       "      <td>0</td>\n",
       "      <td>0</td>\n",
       "      <td>...</td>\n",
       "      <td>0</td>\n",
       "      <td>0</td>\n",
       "      <td>0</td>\n",
       "      <td>0</td>\n",
       "      <td>0</td>\n",
       "      <td>0</td>\n",
       "      <td>0</td>\n",
       "      <td>0</td>\n",
       "      <td>0</td>\n",
       "      <td>0</td>\n",
       "    </tr>\n",
       "    <tr>\n",
       "      <th>448</th>\n",
       "      <td>0</td>\n",
       "      <td>0</td>\n",
       "      <td>0</td>\n",
       "      <td>0</td>\n",
       "      <td>0</td>\n",
       "      <td>0</td>\n",
       "      <td>0</td>\n",
       "      <td>0</td>\n",
       "      <td>0</td>\n",
       "      <td>0</td>\n",
       "      <td>...</td>\n",
       "      <td>0</td>\n",
       "      <td>0</td>\n",
       "      <td>0</td>\n",
       "      <td>0</td>\n",
       "      <td>0</td>\n",
       "      <td>0</td>\n",
       "      <td>0</td>\n",
       "      <td>0</td>\n",
       "      <td>0</td>\n",
       "      <td>0</td>\n",
       "    </tr>\n",
       "    <tr>\n",
       "      <th>449</th>\n",
       "      <td>0</td>\n",
       "      <td>0</td>\n",
       "      <td>0</td>\n",
       "      <td>0</td>\n",
       "      <td>0</td>\n",
       "      <td>0</td>\n",
       "      <td>0</td>\n",
       "      <td>0</td>\n",
       "      <td>0</td>\n",
       "      <td>0</td>\n",
       "      <td>...</td>\n",
       "      <td>0</td>\n",
       "      <td>0</td>\n",
       "      <td>0</td>\n",
       "      <td>0</td>\n",
       "      <td>0</td>\n",
       "      <td>0</td>\n",
       "      <td>0</td>\n",
       "      <td>0</td>\n",
       "      <td>0</td>\n",
       "      <td>0</td>\n",
       "    </tr>\n",
       "  </tbody>\n",
       "</table>\n",
       "<p>450 rows × 30 columns</p>\n",
       "</div>"
      ],
      "text/plain": [
       "     F01  F02  F03  F04  F05  F06  F07  F08  F09  F10  ...  M01  M02  M03  \\\n",
       "0      0    0    0    0    0    0    0    0    0    0  ...    1    0    0   \n",
       "1      0    0    0    0    0    0    0    0    0    0  ...    0    1    0   \n",
       "2      0    0    0    0    0    0    0    0    0    0  ...    0    0    1   \n",
       "3      0    0    0    0    0    0    0    0    0    0  ...    0    0    0   \n",
       "4      0    0    0    0    0    0    0    0    0    0  ...    0    0    0   \n",
       "..   ...  ...  ...  ...  ...  ...  ...  ...  ...  ...  ...  ...  ...  ...   \n",
       "445    0    0    0    0    0    0    0    0    0    0  ...    0    0    0   \n",
       "446    0    0    0    0    0    0    0    0    0    0  ...    0    0    0   \n",
       "447    0    0    0    0    0    0    0    0    0    0  ...    0    0    0   \n",
       "448    0    0    0    0    0    0    0    0    0    0  ...    0    0    0   \n",
       "449    0    0    0    0    0    0    0    0    0    0  ...    0    0    0   \n",
       "\n",
       "     M04  M05  M06  M07  M08  M09  M10  \n",
       "0      0    0    0    0    0    0    0  \n",
       "1      0    0    0    0    0    0    0  \n",
       "2      0    0    0    0    0    0    0  \n",
       "3      1    0    0    0    0    0    0  \n",
       "4      0    1    0    0    0    0    0  \n",
       "..   ...  ...  ...  ...  ...  ...  ...  \n",
       "445    0    0    0    0    0    0    0  \n",
       "446    0    0    0    0    0    0    0  \n",
       "447    0    0    0    0    0    0    0  \n",
       "448    0    0    0    0    0    0    0  \n",
       "449    0    0    0    0    0    0    0  \n",
       "\n",
       "[450 rows x 30 columns]"
      ]
     },
     "execution_count": 247,
     "metadata": {},
     "output_type": "execute_result"
    }
   ],
   "source": [
    "one_hotSKU=pd.get_dummies(cat['SKU'],dtype=int)\n",
    "one_hotSKU"
   ]
  },
  {
   "cell_type": "markdown",
   "id": "ff5ce19a",
   "metadata": {},
   "source": [
    "### City\t"
   ]
  },
  {
   "cell_type": "code",
   "execution_count": 248,
   "id": "15ad8a76",
   "metadata": {},
   "outputs": [
    {
     "data": {
      "text/plain": [
       "(array(['C'], dtype=object), 450)"
      ]
     },
     "execution_count": 248,
     "metadata": {},
     "output_type": "execute_result"
    }
   ],
   "source": [
    " cat['City'].unique(),cat['City'].count()"
   ]
  },
  {
   "cell_type": "markdown",
   "id": "d0949da1",
   "metadata": {},
   "source": [
    "The value is unique , so One_hot will simply replace \"C\" with 1"
   ]
  },
  {
   "cell_type": "code",
   "execution_count": 249,
   "id": "2bd3d4d3",
   "metadata": {},
   "outputs": [
    {
     "data": {
      "text/html": [
       "<div>\n",
       "<style scoped>\n",
       "    .dataframe tbody tr th:only-of-type {\n",
       "        vertical-align: middle;\n",
       "    }\n",
       "\n",
       "    .dataframe tbody tr th {\n",
       "        vertical-align: top;\n",
       "    }\n",
       "\n",
       "    .dataframe thead th {\n",
       "        text-align: right;\n",
       "    }\n",
       "</style>\n",
       "<table border=\"1\" class=\"dataframe\">\n",
       "  <thead>\n",
       "    <tr style=\"text-align: right;\">\n",
       "      <th></th>\n",
       "      <th>C</th>\n",
       "    </tr>\n",
       "  </thead>\n",
       "  <tbody>\n",
       "    <tr>\n",
       "      <th>0</th>\n",
       "      <td>1</td>\n",
       "    </tr>\n",
       "    <tr>\n",
       "      <th>1</th>\n",
       "      <td>1</td>\n",
       "    </tr>\n",
       "    <tr>\n",
       "      <th>2</th>\n",
       "      <td>1</td>\n",
       "    </tr>\n",
       "    <tr>\n",
       "      <th>3</th>\n",
       "      <td>1</td>\n",
       "    </tr>\n",
       "    <tr>\n",
       "      <th>4</th>\n",
       "      <td>1</td>\n",
       "    </tr>\n",
       "    <tr>\n",
       "      <th>...</th>\n",
       "      <td>...</td>\n",
       "    </tr>\n",
       "    <tr>\n",
       "      <th>445</th>\n",
       "      <td>1</td>\n",
       "    </tr>\n",
       "    <tr>\n",
       "      <th>446</th>\n",
       "      <td>1</td>\n",
       "    </tr>\n",
       "    <tr>\n",
       "      <th>447</th>\n",
       "      <td>1</td>\n",
       "    </tr>\n",
       "    <tr>\n",
       "      <th>448</th>\n",
       "      <td>1</td>\n",
       "    </tr>\n",
       "    <tr>\n",
       "      <th>449</th>\n",
       "      <td>1</td>\n",
       "    </tr>\n",
       "  </tbody>\n",
       "</table>\n",
       "<p>450 rows × 1 columns</p>\n",
       "</div>"
      ],
      "text/plain": [
       "     C\n",
       "0    1\n",
       "1    1\n",
       "2    1\n",
       "3    1\n",
       "4    1\n",
       "..  ..\n",
       "445  1\n",
       "446  1\n",
       "447  1\n",
       "448  1\n",
       "449  1\n",
       "\n",
       "[450 rows x 1 columns]"
      ]
     },
     "execution_count": 249,
     "metadata": {},
     "output_type": "execute_result"
    }
   ],
   "source": [
    "one_hotCity=pd.get_dummies(cat[\"City\"],dtype=int)\n",
    "one_hotCity"
   ]
  },
  {
   "cell_type": "markdown",
   "id": "5f982cb1",
   "metadata": {},
   "source": [
    "###  BU"
   ]
  },
  {
   "cell_type": "code",
   "execution_count": 250,
   "id": "20038bbd",
   "metadata": {},
   "outputs": [
    {
     "data": {
      "text/plain": [
       "(array(['Mobiles', 'FMCG', 'Lifestyle'], dtype=object),\n",
       " BU\n",
       " Mobiles      150\n",
       " FMCG         150\n",
       " Lifestyle    150\n",
       " Name: count, dtype: int64)"
      ]
     },
     "execution_count": 250,
     "metadata": {},
     "output_type": "execute_result"
    }
   ],
   "source": [
    "cat['BU'].unique(),cat['BU'].value_counts()"
   ]
  },
  {
   "cell_type": "code",
   "execution_count": 251,
   "id": "d2844a71",
   "metadata": {},
   "outputs": [
    {
     "data": {
      "text/plain": [
       "<Axes: xlabel='BU'>"
      ]
     },
     "execution_count": 251,
     "metadata": {},
     "output_type": "execute_result"
    },
    {
     "data": {
      "image/png": "[encoded data removed]",
      "text/plain": [
       "<Figure size 2000x600 with 1 Axes>"
      ]
     },
     "metadata": {},
     "output_type": "display_data"
    }
   ],
   "source": [
    "fig = plt.figure(figsize = (20, 6))\n",
    "cat['BU'].value_counts().plot(kind='bar')"
   ]
  },
  {
   "cell_type": "code",
   "execution_count": 252,
   "id": "9d55e03f",
   "metadata": {},
   "outputs": [
    {
     "data": {
      "text/html": [
       "<div>\n",
       "<style scoped>\n",
       "    .dataframe tbody tr th:only-of-type {\n",
       "        vertical-align: middle;\n",
       "    }\n",
       "\n",
       "    .dataframe tbody tr th {\n",
       "        vertical-align: top;\n",
       "    }\n",
       "\n",
       "    .dataframe thead th {\n",
       "        text-align: right;\n",
       "    }\n",
       "</style>\n",
       "<table border=\"1\" class=\"dataframe\">\n",
       "  <thead>\n",
       "    <tr style=\"text-align: right;\">\n",
       "      <th></th>\n",
       "      <th>FMCG</th>\n",
       "      <th>Lifestyle</th>\n",
       "      <th>Mobiles</th>\n",
       "    </tr>\n",
       "  </thead>\n",
       "  <tbody>\n",
       "    <tr>\n",
       "      <th>0</th>\n",
       "      <td>0</td>\n",
       "      <td>0</td>\n",
       "      <td>1</td>\n",
       "    </tr>\n",
       "    <tr>\n",
       "      <th>1</th>\n",
       "      <td>0</td>\n",
       "      <td>0</td>\n",
       "      <td>1</td>\n",
       "    </tr>\n",
       "    <tr>\n",
       "      <th>2</th>\n",
       "      <td>0</td>\n",
       "      <td>0</td>\n",
       "      <td>1</td>\n",
       "    </tr>\n",
       "    <tr>\n",
       "      <th>3</th>\n",
       "      <td>0</td>\n",
       "      <td>0</td>\n",
       "      <td>1</td>\n",
       "    </tr>\n",
       "    <tr>\n",
       "      <th>4</th>\n",
       "      <td>0</td>\n",
       "      <td>0</td>\n",
       "      <td>1</td>\n",
       "    </tr>\n",
       "    <tr>\n",
       "      <th>...</th>\n",
       "      <td>...</td>\n",
       "      <td>...</td>\n",
       "      <td>...</td>\n",
       "    </tr>\n",
       "    <tr>\n",
       "      <th>445</th>\n",
       "      <td>0</td>\n",
       "      <td>1</td>\n",
       "      <td>0</td>\n",
       "    </tr>\n",
       "    <tr>\n",
       "      <th>446</th>\n",
       "      <td>0</td>\n",
       "      <td>1</td>\n",
       "      <td>0</td>\n",
       "    </tr>\n",
       "    <tr>\n",
       "      <th>447</th>\n",
       "      <td>0</td>\n",
       "      <td>1</td>\n",
       "      <td>0</td>\n",
       "    </tr>\n",
       "    <tr>\n",
       "      <th>448</th>\n",
       "      <td>0</td>\n",
       "      <td>1</td>\n",
       "      <td>0</td>\n",
       "    </tr>\n",
       "    <tr>\n",
       "      <th>449</th>\n",
       "      <td>0</td>\n",
       "      <td>1</td>\n",
       "      <td>0</td>\n",
       "    </tr>\n",
       "  </tbody>\n",
       "</table>\n",
       "<p>450 rows × 3 columns</p>\n",
       "</div>"
      ],
      "text/plain": [
       "     FMCG  Lifestyle  Mobiles\n",
       "0       0          0        1\n",
       "1       0          0        1\n",
       "2       0          0        1\n",
       "3       0          0        1\n",
       "4       0          0        1\n",
       "..    ...        ...      ...\n",
       "445     0          1        0\n",
       "446     0          1        0\n",
       "447     0          1        0\n",
       "448     0          1        0\n",
       "449     0          1        0\n",
       "\n",
       "[450 rows x 3 columns]"
      ]
     },
     "execution_count": 252,
     "metadata": {},
     "output_type": "execute_result"
    }
   ],
   "source": [
    "one_hotBU=pd.get_dummies(cat['BU'],dtype=int)\n",
    "one_hotBU"
   ]
  },
  {
   "cell_type": "markdown",
   "id": "9037f602",
   "metadata": {},
   "source": [
    "### Brand"
   ]
  },
  {
   "cell_type": "code",
   "execution_count": 253,
   "id": "74eb1eb3",
   "metadata": {},
   "outputs": [
    {
     "data": {
      "text/plain": [
       "(array(['RealU', 'YouM', 'Sumsang', 'Orange', 'Babaji', 'Vedic', 'Gear',\n",
       "        'Jeera', 'Viva'], dtype=object),\n",
       " Brand\n",
       " Jeera      90\n",
       " Gear       60\n",
       " Viva       60\n",
       " RealU      45\n",
       " YouM       45\n",
       " Babaji     45\n",
       " Vedic      45\n",
       " Sumsang    30\n",
       " Orange     30\n",
       " Name: count, dtype: int64)"
      ]
     },
     "execution_count": 253,
     "metadata": {},
     "output_type": "execute_result"
    }
   ],
   "source": [
    "cat['Brand'].unique(),cat['Brand'].value_counts()"
   ]
  },
  {
   "cell_type": "code",
   "execution_count": 254,
   "id": "d44d8dac",
   "metadata": {},
   "outputs": [
    {
     "data": {
      "text/plain": [
       "<Axes: xlabel='Brand'>"
      ]
     },
     "execution_count": 254,
     "metadata": {},
     "output_type": "execute_result"
    },
    {
     "data": {
      "image/png": "[encoded data removed]",
      "text/plain": [
       "<Figure size 2000x600 with 1 Axes>"
      ]
     },
     "metadata": {},
     "output_type": "display_data"
    }
   ],
   "source": [
    "fig = plt.figure(figsize = (20, 6))\n",
    "cat['Brand'].value_counts().plot(kind='bar')"
   ]
  },
  {
   "cell_type": "markdown",
   "id": "14d222c7",
   "metadata": {},
   "source": [
    "Jeera brand has highest sales product count"
   ]
  },
  {
   "cell_type": "code",
   "execution_count": 255,
   "id": "2a8c6d33",
   "metadata": {},
   "outputs": [
    {
     "data": {
      "text/html": [
       "<div>\n",
       "<style scoped>\n",
       "    .dataframe tbody tr th:only-of-type {\n",
       "        vertical-align: middle;\n",
       "    }\n",
       "\n",
       "    .dataframe tbody tr th {\n",
       "        vertical-align: top;\n",
       "    }\n",
       "\n",
       "    .dataframe thead th {\n",
       "        text-align: right;\n",
       "    }\n",
       "</style>\n",
       "<table border=\"1\" class=\"dataframe\">\n",
       "  <thead>\n",
       "    <tr style=\"text-align: right;\">\n",
       "      <th></th>\n",
       "      <th>Babaji</th>\n",
       "      <th>Gear</th>\n",
       "      <th>Jeera</th>\n",
       "      <th>Orange</th>\n",
       "      <th>RealU</th>\n",
       "      <th>Sumsang</th>\n",
       "      <th>Vedic</th>\n",
       "      <th>Viva</th>\n",
       "      <th>YouM</th>\n",
       "    </tr>\n",
       "  </thead>\n",
       "  <tbody>\n",
       "    <tr>\n",
       "      <th>0</th>\n",
       "      <td>0</td>\n",
       "      <td>0</td>\n",
       "      <td>0</td>\n",
       "      <td>0</td>\n",
       "      <td>1</td>\n",
       "      <td>0</td>\n",
       "      <td>0</td>\n",
       "      <td>0</td>\n",
       "      <td>0</td>\n",
       "    </tr>\n",
       "    <tr>\n",
       "      <th>1</th>\n",
       "      <td>0</td>\n",
       "      <td>0</td>\n",
       "      <td>0</td>\n",
       "      <td>0</td>\n",
       "      <td>1</td>\n",
       "      <td>0</td>\n",
       "      <td>0</td>\n",
       "      <td>0</td>\n",
       "      <td>0</td>\n",
       "    </tr>\n",
       "    <tr>\n",
       "      <th>2</th>\n",
       "      <td>0</td>\n",
       "      <td>0</td>\n",
       "      <td>0</td>\n",
       "      <td>0</td>\n",
       "      <td>0</td>\n",
       "      <td>0</td>\n",
       "      <td>0</td>\n",
       "      <td>0</td>\n",
       "      <td>1</td>\n",
       "    </tr>\n",
       "    <tr>\n",
       "      <th>3</th>\n",
       "      <td>0</td>\n",
       "      <td>0</td>\n",
       "      <td>0</td>\n",
       "      <td>0</td>\n",
       "      <td>0</td>\n",
       "      <td>0</td>\n",
       "      <td>0</td>\n",
       "      <td>0</td>\n",
       "      <td>1</td>\n",
       "    </tr>\n",
       "    <tr>\n",
       "      <th>4</th>\n",
       "      <td>0</td>\n",
       "      <td>0</td>\n",
       "      <td>0</td>\n",
       "      <td>0</td>\n",
       "      <td>0</td>\n",
       "      <td>0</td>\n",
       "      <td>0</td>\n",
       "      <td>0</td>\n",
       "      <td>1</td>\n",
       "    </tr>\n",
       "    <tr>\n",
       "      <th>...</th>\n",
       "      <td>...</td>\n",
       "      <td>...</td>\n",
       "      <td>...</td>\n",
       "      <td>...</td>\n",
       "      <td>...</td>\n",
       "      <td>...</td>\n",
       "      <td>...</td>\n",
       "      <td>...</td>\n",
       "      <td>...</td>\n",
       "    </tr>\n",
       "    <tr>\n",
       "      <th>445</th>\n",
       "      <td>0</td>\n",
       "      <td>0</td>\n",
       "      <td>1</td>\n",
       "      <td>0</td>\n",
       "      <td>0</td>\n",
       "      <td>0</td>\n",
       "      <td>0</td>\n",
       "      <td>0</td>\n",
       "      <td>0</td>\n",
       "    </tr>\n",
       "    <tr>\n",
       "      <th>446</th>\n",
       "      <td>0</td>\n",
       "      <td>0</td>\n",
       "      <td>0</td>\n",
       "      <td>0</td>\n",
       "      <td>0</td>\n",
       "      <td>0</td>\n",
       "      <td>0</td>\n",
       "      <td>1</td>\n",
       "      <td>0</td>\n",
       "    </tr>\n",
       "    <tr>\n",
       "      <th>447</th>\n",
       "      <td>0</td>\n",
       "      <td>0</td>\n",
       "      <td>0</td>\n",
       "      <td>0</td>\n",
       "      <td>0</td>\n",
       "      <td>0</td>\n",
       "      <td>0</td>\n",
       "      <td>1</td>\n",
       "      <td>0</td>\n",
       "    </tr>\n",
       "    <tr>\n",
       "      <th>448</th>\n",
       "      <td>0</td>\n",
       "      <td>0</td>\n",
       "      <td>1</td>\n",
       "      <td>0</td>\n",
       "      <td>0</td>\n",
       "      <td>0</td>\n",
       "      <td>0</td>\n",
       "      <td>0</td>\n",
       "      <td>0</td>\n",
       "    </tr>\n",
       "    <tr>\n",
       "      <th>449</th>\n",
       "      <td>0</td>\n",
       "      <td>0</td>\n",
       "      <td>1</td>\n",
       "      <td>0</td>\n",
       "      <td>0</td>\n",
       "      <td>0</td>\n",
       "      <td>0</td>\n",
       "      <td>0</td>\n",
       "      <td>0</td>\n",
       "    </tr>\n",
       "  </tbody>\n",
       "</table>\n",
       "<p>450 rows × 9 columns</p>\n",
       "</div>"
      ],
      "text/plain": [
       "     Babaji  Gear  Jeera  Orange  RealU  Sumsang  Vedic  Viva  YouM\n",
       "0         0     0      0       0      1        0      0     0     0\n",
       "1         0     0      0       0      1        0      0     0     0\n",
       "2         0     0      0       0      0        0      0     0     1\n",
       "3         0     0      0       0      0        0      0     0     1\n",
       "4         0     0      0       0      0        0      0     0     1\n",
       "..      ...   ...    ...     ...    ...      ...    ...   ...   ...\n",
       "445       0     0      1       0      0        0      0     0     0\n",
       "446       0     0      0       0      0        0      0     1     0\n",
       "447       0     0      0       0      0        0      0     1     0\n",
       "448       0     0      1       0      0        0      0     0     0\n",
       "449       0     0      1       0      0        0      0     0     0\n",
       "\n",
       "[450 rows x 9 columns]"
      ]
     },
     "execution_count": 255,
     "metadata": {},
     "output_type": "execute_result"
    }
   ],
   "source": [
    "one_hotBrand=pd.get_dummies(cat['Brand'],dtype=int)\n",
    "one_hotBrand"
   ]
  },
  {
   "cell_type": "markdown",
   "id": "a3cff2b5",
   "metadata": {},
   "source": [
    "### Model"
   ]
  },
  {
   "cell_type": "code",
   "execution_count": 230,
   "id": "6efb0252",
   "metadata": {},
   "outputs": [
    {
     "data": {
      "text/plain": [
       "(array(['RU-10', 'RU-9 Plus', 'YM-99', 'YM-99 Plus', 'YM-98 ', 'RU-9',\n",
       "        'S-20', 'S-21', 'O-10', 'O-11', 'Babaji Oil ', 'Vedic Cream',\n",
       "        'Vedic Shampoo', 'Babaji Shampoo', 'Babaji Cream', 'Vedic Oil',\n",
       "        'Gear Oil', 'Gear Cream', 'Gear Shampoo', 'Gear BB Cream',\n",
       "        'M- T Shirts', 'M- Inners', 'W-Casuals', 'W-Inners', 'M-Jeans',\n",
       "        'M-Casuals', 'W-Western', 'W-Lounge', 'M-Formals', 'M-Shoes'],\n",
       "       dtype=object),\n",
       " Model\n",
       " RU-10             15\n",
       " RU-9 Plus         15\n",
       " M-Formals         15\n",
       " W-Lounge          15\n",
       " W-Western         15\n",
       " M-Casuals         15\n",
       " M-Jeans           15\n",
       " W-Inners          15\n",
       " W-Casuals         15\n",
       " M- Inners         15\n",
       " M- T Shirts       15\n",
       " Gear BB Cream     15\n",
       " Gear Shampoo      15\n",
       " Gear Cream        15\n",
       " Gear Oil          15\n",
       " Vedic Oil         15\n",
       " Babaji Cream      15\n",
       " Babaji Shampoo    15\n",
       " Vedic Shampoo     15\n",
       " Vedic Cream       15\n",
       " Babaji Oil        15\n",
       " O-11              15\n",
       " O-10              15\n",
       " S-21              15\n",
       " S-20              15\n",
       " RU-9              15\n",
       " YM-98             15\n",
       " YM-99 Plus        15\n",
       " YM-99             15\n",
       " M-Shoes           15\n",
       " Name: count, dtype: int64)"
      ]
     },
     "execution_count": 230,
     "metadata": {},
     "output_type": "execute_result"
    }
   ],
   "source": [
    "cat['Model'].unique(),cat['Model'].value_counts()"
   ]
  },
  {
   "cell_type": "code",
   "execution_count": 234,
   "id": "46aaa249",
   "metadata": {},
   "outputs": [
    {
     "data": {
      "text/plain": [
       "<Axes: xlabel='Model'>"
      ]
     },
     "execution_count": 234,
     "metadata": {},
     "output_type": "execute_result"
    },
    {
     "data": {
      "image/png": "[encoded data removed]",
      "text/plain": [
       "<Figure size 640x480 with 1 Axes>"
      ]
     },
     "metadata": {},
     "output_type": "display_data"
    }
   ],
   "source": [
    "cat['Model'].value_counts().plot(kind='bar')\n"
   ]
  },
  {
   "cell_type": "code",
   "execution_count": 232,
   "id": "1d8075d3",
   "metadata": {},
   "outputs": [
    {
     "data": {
      "text/html": [
       "<div>\n",
       "<style scoped>\n",
       "    .dataframe tbody tr th:only-of-type {\n",
       "        vertical-align: middle;\n",
       "    }\n",
       "\n",
       "    .dataframe tbody tr th {\n",
       "        vertical-align: top;\n",
       "    }\n",
       "\n",
       "    .dataframe thead th {\n",
       "        text-align: right;\n",
       "    }\n",
       "</style>\n",
       "<table border=\"1\" class=\"dataframe\">\n",
       "  <thead>\n",
       "    <tr style=\"text-align: right;\">\n",
       "      <th></th>\n",
       "      <th>Babaji Cream</th>\n",
       "      <th>Babaji Oil</th>\n",
       "      <th>Babaji Shampoo</th>\n",
       "      <th>Gear BB Cream</th>\n",
       "      <th>Gear Cream</th>\n",
       "      <th>Gear Oil</th>\n",
       "      <th>Gear Shampoo</th>\n",
       "      <th>M- Inners</th>\n",
       "      <th>M- T Shirts</th>\n",
       "      <th>M-Casuals</th>\n",
       "      <th>...</th>\n",
       "      <th>Vedic Cream</th>\n",
       "      <th>Vedic Oil</th>\n",
       "      <th>Vedic Shampoo</th>\n",
       "      <th>W-Casuals</th>\n",
       "      <th>W-Inners</th>\n",
       "      <th>W-Lounge</th>\n",
       "      <th>W-Western</th>\n",
       "      <th>YM-98</th>\n",
       "      <th>YM-99</th>\n",
       "      <th>YM-99 Plus</th>\n",
       "    </tr>\n",
       "  </thead>\n",
       "  <tbody>\n",
       "    <tr>\n",
       "      <th>0</th>\n",
       "      <td>0</td>\n",
       "      <td>0</td>\n",
       "      <td>0</td>\n",
       "      <td>0</td>\n",
       "      <td>0</td>\n",
       "      <td>0</td>\n",
       "      <td>0</td>\n",
       "      <td>0</td>\n",
       "      <td>0</td>\n",
       "      <td>0</td>\n",
       "      <td>...</td>\n",
       "      <td>0</td>\n",
       "      <td>0</td>\n",
       "      <td>0</td>\n",
       "      <td>0</td>\n",
       "      <td>0</td>\n",
       "      <td>0</td>\n",
       "      <td>0</td>\n",
       "      <td>0</td>\n",
       "      <td>0</td>\n",
       "      <td>0</td>\n",
       "    </tr>\n",
       "    <tr>\n",
       "      <th>1</th>\n",
       "      <td>0</td>\n",
       "      <td>0</td>\n",
       "      <td>0</td>\n",
       "      <td>0</td>\n",
       "      <td>0</td>\n",
       "      <td>0</td>\n",
       "      <td>0</td>\n",
       "      <td>0</td>\n",
       "      <td>0</td>\n",
       "      <td>0</td>\n",
       "      <td>...</td>\n",
       "      <td>0</td>\n",
       "      <td>0</td>\n",
       "      <td>0</td>\n",
       "      <td>0</td>\n",
       "      <td>0</td>\n",
       "      <td>0</td>\n",
       "      <td>0</td>\n",
       "      <td>0</td>\n",
       "      <td>0</td>\n",
       "      <td>0</td>\n",
       "    </tr>\n",
       "    <tr>\n",
       "      <th>2</th>\n",
       "      <td>0</td>\n",
       "      <td>0</td>\n",
       "      <td>0</td>\n",
       "      <td>0</td>\n",
       "      <td>0</td>\n",
       "      <td>0</td>\n",
       "      <td>0</td>\n",
       "      <td>0</td>\n",
       "      <td>0</td>\n",
       "      <td>0</td>\n",
       "      <td>...</td>\n",
       "      <td>0</td>\n",
       "      <td>0</td>\n",
       "      <td>0</td>\n",
       "      <td>0</td>\n",
       "      <td>0</td>\n",
       "      <td>0</td>\n",
       "      <td>0</td>\n",
       "      <td>0</td>\n",
       "      <td>1</td>\n",
       "      <td>0</td>\n",
       "    </tr>\n",
       "    <tr>\n",
       "      <th>3</th>\n",
       "      <td>0</td>\n",
       "      <td>0</td>\n",
       "      <td>0</td>\n",
       "      <td>0</td>\n",
       "      <td>0</td>\n",
       "      <td>0</td>\n",
       "      <td>0</td>\n",
       "      <td>0</td>\n",
       "      <td>0</td>\n",
       "      <td>0</td>\n",
       "      <td>...</td>\n",
       "      <td>0</td>\n",
       "      <td>0</td>\n",
       "      <td>0</td>\n",
       "      <td>0</td>\n",
       "      <td>0</td>\n",
       "      <td>0</td>\n",
       "      <td>0</td>\n",
       "      <td>0</td>\n",
       "      <td>0</td>\n",
       "      <td>1</td>\n",
       "    </tr>\n",
       "    <tr>\n",
       "      <th>4</th>\n",
       "      <td>0</td>\n",
       "      <td>0</td>\n",
       "      <td>0</td>\n",
       "      <td>0</td>\n",
       "      <td>0</td>\n",
       "      <td>0</td>\n",
       "      <td>0</td>\n",
       "      <td>0</td>\n",
       "      <td>0</td>\n",
       "      <td>0</td>\n",
       "      <td>...</td>\n",
       "      <td>0</td>\n",
       "      <td>0</td>\n",
       "      <td>0</td>\n",
       "      <td>0</td>\n",
       "      <td>0</td>\n",
       "      <td>0</td>\n",
       "      <td>0</td>\n",
       "      <td>1</td>\n",
       "      <td>0</td>\n",
       "      <td>0</td>\n",
       "    </tr>\n",
       "    <tr>\n",
       "      <th>...</th>\n",
       "      <td>...</td>\n",
       "      <td>...</td>\n",
       "      <td>...</td>\n",
       "      <td>...</td>\n",
       "      <td>...</td>\n",
       "      <td>...</td>\n",
       "      <td>...</td>\n",
       "      <td>...</td>\n",
       "      <td>...</td>\n",
       "      <td>...</td>\n",
       "      <td>...</td>\n",
       "      <td>...</td>\n",
       "      <td>...</td>\n",
       "      <td>...</td>\n",
       "      <td>...</td>\n",
       "      <td>...</td>\n",
       "      <td>...</td>\n",
       "      <td>...</td>\n",
       "      <td>...</td>\n",
       "      <td>...</td>\n",
       "      <td>...</td>\n",
       "    </tr>\n",
       "    <tr>\n",
       "      <th>445</th>\n",
       "      <td>0</td>\n",
       "      <td>0</td>\n",
       "      <td>0</td>\n",
       "      <td>0</td>\n",
       "      <td>0</td>\n",
       "      <td>0</td>\n",
       "      <td>0</td>\n",
       "      <td>0</td>\n",
       "      <td>0</td>\n",
       "      <td>1</td>\n",
       "      <td>...</td>\n",
       "      <td>0</td>\n",
       "      <td>0</td>\n",
       "      <td>0</td>\n",
       "      <td>0</td>\n",
       "      <td>0</td>\n",
       "      <td>0</td>\n",
       "      <td>0</td>\n",
       "      <td>0</td>\n",
       "      <td>0</td>\n",
       "      <td>0</td>\n",
       "    </tr>\n",
       "    <tr>\n",
       "      <th>446</th>\n",
       "      <td>0</td>\n",
       "      <td>0</td>\n",
       "      <td>0</td>\n",
       "      <td>0</td>\n",
       "      <td>0</td>\n",
       "      <td>0</td>\n",
       "      <td>0</td>\n",
       "      <td>0</td>\n",
       "      <td>0</td>\n",
       "      <td>0</td>\n",
       "      <td>...</td>\n",
       "      <td>0</td>\n",
       "      <td>0</td>\n",
       "      <td>0</td>\n",
       "      <td>0</td>\n",
       "      <td>0</td>\n",
       "      <td>0</td>\n",
       "      <td>1</td>\n",
       "      <td>0</td>\n",
       "      <td>0</td>\n",
       "      <td>0</td>\n",
       "    </tr>\n",
       "    <tr>\n",
       "      <th>447</th>\n",
       "      <td>0</td>\n",
       "      <td>0</td>\n",
       "      <td>0</td>\n",
       "      <td>0</td>\n",
       "      <td>0</td>\n",
       "      <td>0</td>\n",
       "      <td>0</td>\n",
       "      <td>0</td>\n",
       "      <td>0</td>\n",
       "      <td>0</td>\n",
       "      <td>...</td>\n",
       "      <td>0</td>\n",
       "      <td>0</td>\n",
       "      <td>0</td>\n",
       "      <td>0</td>\n",
       "      <td>0</td>\n",
       "      <td>1</td>\n",
       "      <td>0</td>\n",
       "      <td>0</td>\n",
       "      <td>0</td>\n",
       "      <td>0</td>\n",
       "    </tr>\n",
       "    <tr>\n",
       "      <th>448</th>\n",
       "      <td>0</td>\n",
       "      <td>0</td>\n",
       "      <td>0</td>\n",
       "      <td>0</td>\n",
       "      <td>0</td>\n",
       "      <td>0</td>\n",
       "      <td>0</td>\n",
       "      <td>0</td>\n",
       "      <td>0</td>\n",
       "      <td>0</td>\n",
       "      <td>...</td>\n",
       "      <td>0</td>\n",
       "      <td>0</td>\n",
       "      <td>0</td>\n",
       "      <td>0</td>\n",
       "      <td>0</td>\n",
       "      <td>0</td>\n",
       "      <td>0</td>\n",
       "      <td>0</td>\n",
       "      <td>0</td>\n",
       "      <td>0</td>\n",
       "    </tr>\n",
       "    <tr>\n",
       "      <th>449</th>\n",
       "      <td>0</td>\n",
       "      <td>0</td>\n",
       "      <td>0</td>\n",
       "      <td>0</td>\n",
       "      <td>0</td>\n",
       "      <td>0</td>\n",
       "      <td>0</td>\n",
       "      <td>0</td>\n",
       "      <td>0</td>\n",
       "      <td>0</td>\n",
       "      <td>...</td>\n",
       "      <td>0</td>\n",
       "      <td>0</td>\n",
       "      <td>0</td>\n",
       "      <td>0</td>\n",
       "      <td>0</td>\n",
       "      <td>0</td>\n",
       "      <td>0</td>\n",
       "      <td>0</td>\n",
       "      <td>0</td>\n",
       "      <td>0</td>\n",
       "    </tr>\n",
       "  </tbody>\n",
       "</table>\n",
       "<p>450 rows × 30 columns</p>\n",
       "</div>"
      ],
      "text/plain": [
       "     Babaji Cream  Babaji Oil   Babaji Shampoo  Gear BB Cream  Gear Cream  \\\n",
       "0               0            0               0              0           0   \n",
       "1               0            0               0              0           0   \n",
       "2               0            0               0              0           0   \n",
       "3               0            0               0              0           0   \n",
       "4               0            0               0              0           0   \n",
       "..            ...          ...             ...            ...         ...   \n",
       "445             0            0               0              0           0   \n",
       "446             0            0               0              0           0   \n",
       "447             0            0               0              0           0   \n",
       "448             0            0               0              0           0   \n",
       "449             0            0               0              0           0   \n",
       "\n",
       "     Gear Oil  Gear Shampoo  M- Inners  M- T Shirts  M-Casuals  ...  \\\n",
       "0           0             0          0            0          0  ...   \n",
       "1           0             0          0            0          0  ...   \n",
       "2           0             0          0            0          0  ...   \n",
       "3           0             0          0            0          0  ...   \n",
       "4           0             0          0            0          0  ...   \n",
       "..        ...           ...        ...          ...        ...  ...   \n",
       "445         0             0          0            0          1  ...   \n",
       "446         0             0          0            0          0  ...   \n",
       "447         0             0          0            0          0  ...   \n",
       "448         0             0          0            0          0  ...   \n",
       "449         0             0          0            0          0  ...   \n",
       "\n",
       "     Vedic Cream  Vedic Oil  Vedic Shampoo  W-Casuals  W-Inners  W-Lounge  \\\n",
       "0              0          0              0          0         0         0   \n",
       "1              0          0              0          0         0         0   \n",
       "2              0          0              0          0         0         0   \n",
       "3              0          0              0          0         0         0   \n",
       "4              0          0              0          0         0         0   \n",
       "..           ...        ...            ...        ...       ...       ...   \n",
       "445            0          0              0          0         0         0   \n",
       "446            0          0              0          0         0         0   \n",
       "447            0          0              0          0         0         1   \n",
       "448            0          0              0          0         0         0   \n",
       "449            0          0              0          0         0         0   \n",
       "\n",
       "     W-Western  YM-98   YM-99  YM-99 Plus  \n",
       "0            0       0      0           0  \n",
       "1            0       0      0           0  \n",
       "2            0       0      1           0  \n",
       "3            0       0      0           1  \n",
       "4            0       1      0           0  \n",
       "..         ...     ...    ...         ...  \n",
       "445          0       0      0           0  \n",
       "446          1       0      0           0  \n",
       "447          0       0      0           0  \n",
       "448          0       0      0           0  \n",
       "449          0       0      0           0  \n",
       "\n",
       "[450 rows x 30 columns]"
      ]
     },
     "execution_count": 232,
     "metadata": {},
     "output_type": "execute_result"
    }
   ],
   "source": [
    "one_hotModel=pd.get_dummies(cat['Model'],dtype=int)\n",
    "one_hotModel"
   ]
  },
  {
   "cell_type": "markdown",
   "id": "b7663f99",
   "metadata": {},
   "source": [
    "The Model and SKU Column have similar characterstics"
   ]
  }
 ],
 "metadata": {
  "kernelspec": {
   "display_name": "Python 3 (ipykernel)",
   "language": "python",
   "name": "python3"
  },
  "language_info": {
   "codemirror_mode": {
    "name": "ipython",
    "version": 3
   },
   "file_extension": ".py",
   "mimetype": "text/x-python",
   "name": "python",
   "nbconvert_exporter": "python",
   "pygments_lexer": "ipython3",
   "version": "3.11.5"
  }
 },
 "nbformat": 4,
 "nbformat_minor": 5
}
