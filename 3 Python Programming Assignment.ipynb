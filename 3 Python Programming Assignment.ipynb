{
 "cells": [
  {
   "cell_type": "markdown",
   "id": "d1d29817",
   "metadata": {},
   "source": [
    "### Prime Number"
   ]
  },
  {
   "cell_type": "code",
   "execution_count": 101,
   "id": "50b69c25",
   "metadata": {},
   "outputs": [
    {
     "name": "stdout",
     "output_type": "stream",
     "text": [
      "Please Enter Number: 12\n",
      "Not Prime\n",
      "Factors : [2, 3, 4, 6]\n"
     ]
    }
   ],
   "source": [
    "num=int(input(\"Please Enter Number: \"))\n",
    "bool=False\n",
    "factors=[]\n",
    "for i in range(2,num):\n",
    "    if num%i==0:              #checking if even\n",
    "        bool=True;\n",
    "        factors.append(i)    # added feature stores factors\n",
    "if(bool==True):\n",
    "    print(\"Not Prime\")\n",
    "    print(\"Factors :\",factors)\n",
    "else:\n",
    "    print(\"Prime Number\")\n",
    "    \n",
    "    "
   ]
  },
  {
   "cell_type": "markdown",
   "id": "f62ffc01",
   "metadata": {},
   "source": [
    "## Product of Random Numbers"
   ]
  },
  {
   "cell_type": "code",
   "execution_count": 57,
   "id": "e12beda2",
   "metadata": {},
   "outputs": [
    {
     "name": "stdout",
     "output_type": "stream",
     "text": [
      "First number is : 9\n",
      "First number is : 12\n",
      "Enter product:108\n",
      "Correct\n"
     ]
    }
   ],
   "source": [
    "import random\n",
    "\n",
    "\n",
    "num1=random.randint(0,20)     # generate random number inside range\n",
    "print(\"First number is :\",num1)\n",
    "num2=random.randint(0,20)\n",
    "print(\"First number is :\",num2)\n",
    "num3=int(input(\"Enter product:\"))\n",
    "if num1*num2==num3:            #compare entered number with calculated product\n",
    "    print(\"Correct\")\n",
    "else:\n",
    "    print(\"actual product is:\",num1*num2)\n",
    " \n"
   ]
  },
  {
   "cell_type": "markdown",
   "id": "145a1679",
   "metadata": {},
   "source": [
    "### Square of Odd or Even Numbers between 100-200\n"
   ]
  },
  {
   "cell_type": "markdown",
   "id": "62c05a48",
   "metadata": {},
   "source": [
    "Printing square of odd numbers"
   ]
  },
  {
   "cell_type": "code",
   "execution_count": 65,
   "id": "8ecc9c1e",
   "metadata": {},
   "outputs": [
    {
     "name": "stdout",
     "output_type": "stream",
     "text": [
      "101 * 101 = 10201\n",
      "103 * 103 = 10609\n",
      "105 * 105 = 11025\n",
      "107 * 107 = 11449\n",
      "109 * 109 = 11881\n",
      "111 * 111 = 12321\n",
      "113 * 113 = 12769\n",
      "115 * 115 = 13225\n",
      "117 * 117 = 13689\n",
      "119 * 119 = 14161\n",
      "121 * 121 = 14641\n",
      "123 * 123 = 15129\n",
      "125 * 125 = 15625\n",
      "127 * 127 = 16129\n",
      "129 * 129 = 16641\n",
      "131 * 131 = 17161\n",
      "133 * 133 = 17689\n",
      "135 * 135 = 18225\n",
      "137 * 137 = 18769\n",
      "139 * 139 = 19321\n",
      "141 * 141 = 19881\n",
      "143 * 143 = 20449\n",
      "145 * 145 = 21025\n",
      "147 * 147 = 21609\n",
      "149 * 149 = 22201\n",
      "151 * 151 = 22801\n",
      "153 * 153 = 23409\n",
      "155 * 155 = 24025\n",
      "157 * 157 = 24649\n",
      "159 * 159 = 25281\n",
      "161 * 161 = 25921\n",
      "163 * 163 = 26569\n",
      "165 * 165 = 27225\n",
      "167 * 167 = 27889\n",
      "169 * 169 = 28561\n",
      "171 * 171 = 29241\n",
      "173 * 173 = 29929\n",
      "175 * 175 = 30625\n",
      "177 * 177 = 31329\n",
      "179 * 179 = 32041\n",
      "181 * 181 = 32761\n",
      "183 * 183 = 33489\n",
      "185 * 185 = 34225\n",
      "187 * 187 = 34969\n",
      "189 * 189 = 35721\n",
      "191 * 191 = 36481\n",
      "193 * 193 = 37249\n",
      "195 * 195 = 38025\n",
      "197 * 197 = 38809\n",
      "199 * 199 = 39601\n"
     ]
    }
   ],
   "source": [
    "\n",
    "for i in range(100,200):               \n",
    "           if choice==1 and i%2==1:    # if you want even change to i%2==0\n",
    "             print(i,\"*\",i,\"=\",i*i)\n",
    "         \n",
    "           \n",
    "   "
   ]
  },
  {
   "cell_type": "markdown",
   "id": "9e51714f",
   "metadata": {},
   "source": [
    "### Word Counter"
   ]
  },
  {
   "cell_type": "code",
   "execution_count": 96,
   "id": "559d2f8c",
   "metadata": {},
   "outputs": [
    {
     "name": "stdout",
     "output_type": "stream",
     "text": [
      "enter sentence:hi good morning, hi good evening, hello good afternoon . hi good night\n"
     ]
    }
   ],
   "source": [
    "l=[]\n",
    "str=input(\"enter sentence:\")\n",
    "str=str.lower()\n",
    "str=str.replace(\".\",\" \")\n",
    "str=str.replace(\",\",\" \")\n",
    "l=str.split()   # returns list with each word as element"
   ]
  },
  {
   "cell_type": "code",
   "execution_count": 97,
   "id": "73d86625",
   "metadata": {},
   "outputs": [
    {
     "data": {
      "text/plain": [
       "good         4\n",
       "hi           3\n",
       "morning      1\n",
       "evening      1\n",
       "hello        1\n",
       "afternoon    1\n",
       "night        1\n",
       "Name: count, dtype: int64"
      ]
     },
     "execution_count": 97,
     "metadata": {},
     "output_type": "execute_result"
    }
   ],
   "source": [
    "import pandas as pd\n",
    "list=pd.Series(l)     # creates ndarray ()\n",
    "list.value_counts()   # pandas function that returns count of unique elements "
   ]
  },
  {
   "cell_type": "markdown",
   "id": "48757a73",
   "metadata": {},
   "source": [
    "### Palindrome"
   ]
  },
  {
   "cell_type": "code",
   "execution_count": 98,
   "id": "c6ce7856",
   "metadata": {},
   "outputs": [
    {
     "name": "stdout",
     "output_type": "stream",
     "text": [
      "Enter word:RACecar\n",
      "palindrome\n"
     ]
    }
   ],
   "source": [
    "word=input(\"Enter word:\")\n",
    "word=word.lower()            #formatting \n",
    "word=word.replace(\".\",\" \")\n",
    "word=word.replace(\",\",\" \")\n",
    "if(word==word[::-1]):       # string[::-1] reverses the string \n",
    "    print(\"palindrome\")\n",
    "else:\n",
    "     print(\"Not Palindrome\")"
   ]
  }
 ],
 "metadata": {
  "kernelspec": {
   "display_name": "Python 3 (ipykernel)",
   "language": "python",
   "name": "python3"
  },
  "language_info": {
   "codemirror_mode": {
    "name": "ipython",
    "version": 3
   },
   "file_extension": ".py",
   "mimetype": "text/x-python",
   "name": "python",
   "nbconvert_exporter": "python",
   "pygments_lexer": "ipython3",
   "version": "3.11.5"
  }
 },
 "nbformat": 4,
 "nbformat_minor": 5
}
