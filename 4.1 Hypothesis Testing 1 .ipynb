{
 "cells": [
  {
   "cell_type": "markdown",
   "id": "e891e216",
   "metadata": {},
   "source": [
    "#### Hypothesis statement"
   ]
  },
  {
   "cell_type": "markdown",
   "id": "72ee0835",
   "metadata": {},
   "source": [
    "H0= Sample mean Cost less than or equal to Model calculated value\n",
    "\n",
    "H1= Sample mean Cost greater than Model calculated value"
   ]
  },
  {
   "cell_type": "code",
   "execution_count": 9,
   "id": "8fc7ca18",
   "metadata": {},
   "outputs": [],
   "source": [
    "import numpy as np\n",
    "from scipy import stats"
   ]
  },
  {
   "cell_type": "code",
   "execution_count": 10,
   "id": "41d77f71",
   "metadata": {},
   "outputs": [],
   "source": [
    "Sample_meanCost=3050\n",
    "sample_size=25\n",
    "mean_units_sold=600\n",
    "std_units=25\n",
    "model_calculated_value=1000+((600)*5)\n",
    "std_cost=25*5"
   ]
  },
  {
   "cell_type": "code",
   "execution_count": 11,
   "id": "183637ff",
   "metadata": {},
   "outputs": [
    {
     "data": {
      "text/plain": [
       "(3050, 25, 600, 25, 4000, 125)"
      ]
     },
     "execution_count": 11,
     "metadata": {},
     "output_type": "execute_result"
    }
   ],
   "source": [
    "Sample_meanCost,sample_size,mean_units_sold,std_units,model_calculated_value,std_cost"
   ]
  },
  {
   "cell_type": "markdown",
   "id": "df6ef6ec",
   "metadata": {},
   "source": [
    "#### Claculating T"
   ]
  },
  {
   "cell_type": "code",
   "execution_count": 12,
   "id": "1b47e91b",
   "metadata": {},
   "outputs": [],
   "source": [
    "t=(Sample_meanCost-model_calculated_value)/(std_cost/(np.sqrt(sample_size)))"
   ]
  },
  {
   "cell_type": "code",
   "execution_count": 25,
   "id": "df7811ad",
   "metadata": {},
   "outputs": [
    {
     "data": {
      "text/plain": [
       "-38.0"
      ]
     },
     "execution_count": 25,
     "metadata": {},
     "output_type": "execute_result"
    }
   ],
   "source": [
    "t"
   ]
  },
  {
   "cell_type": "markdown",
   "id": "9ca97fe3",
   "metadata": {},
   "source": [
    "#### Calculating CDF"
   ]
  },
  {
   "cell_type": "code",
   "execution_count": 26,
   "id": "3fa83dfe",
   "metadata": {},
   "outputs": [],
   "source": [
    "p=stats.t.cdf(t,24)"
   ]
  },
  {
   "cell_type": "code",
   "execution_count": 28,
   "id": "b13c4622",
   "metadata": {},
   "outputs": [
    {
     "data": {
      "text/plain": [
       "1.7108820799094275"
      ]
     },
     "execution_count": 28,
     "metadata": {},
     "output_type": "execute_result"
    }
   ],
   "source": [
    "stats.t.ppf(.95,24)"
   ]
  },
  {
   "cell_type": "code",
   "execution_count": 29,
   "id": "75b342c7",
   "metadata": {},
   "outputs": [
    {
     "data": {
      "text/plain": [
       "2.9607810808177907e-23"
      ]
     },
     "execution_count": 29,
     "metadata": {},
     "output_type": "execute_result"
    }
   ],
   "source": [
    "p"
   ]
  },
  {
   "cell_type": "markdown",
   "id": "cc46913f",
   "metadata": {},
   "source": [
    "Since p value is significantly smaller than alpha value of .05 , we can reject the Null hypothesis"
   ]
  },
  {
   "cell_type": "markdown",
   "id": "5b7cca41",
   "metadata": {},
   "source": [
    "The claim of model not being accurate is correct ( but operating cost seems lesser than model predicted value doubt )"
   ]
  },
  {
   "cell_type": "code",
   "execution_count": 34,
   "id": "9607c70a",
   "metadata": {},
   "outputs": [
    {
     "data": {
      "text/plain": [
       "(2948.4025359592997, 3051.5974640407003)"
      ]
     },
     "execution_count": 34,
     "metadata": {},
     "output_type": "execute_result"
    }
   ],
   "source": [
    "stats.t.interval(.95,24,3000,(125)/np.sqrt(25))"
   ]
  }
 ],
 "metadata": {
  "kernelspec": {
   "display_name": "Python 3 (ipykernel)",
   "language": "python",
   "name": "python3"
  },
  "language_info": {
   "codemirror_mode": {
    "name": "ipython",
    "version": 3
   },
   "file_extension": ".py",
   "mimetype": "text/x-python",
   "name": "python",
   "nbconvert_exporter": "python",
   "pygments_lexer": "ipython3",
   "version": "3.11.5"
  }
 },
 "nbformat": 4,
 "nbformat_minor": 5
}
